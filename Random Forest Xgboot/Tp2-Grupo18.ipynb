{
 "cells": [
  {
   "cell_type": "markdown",
   "metadata": {},
   "source": [
    "<h1><center>Aprendizaje Automático<br>\n",
    "    Trabajo práctico Nº 2</center></h3>"
   ]
  },
  {
   "cell_type": "markdown",
   "metadata": {},
   "source": [
    "<center><b>Primer Cuatrimestre 2019</b></center>"
   ]
  },
  {
   "cell_type": "markdown",
   "metadata": {},
   "source": [
    "<center><i>Federico Moreno - Sofía Perini - Bianca Picchetti (Comisión 2) </i><center>"
   ]
  },
  {
   "cell_type": "markdown",
   "metadata": {},
   "source": [
    "**1.** A partir del dataset se deben elaborar tres modelos de predicción con distintos métodos de ensamble.<br>\n",
    "\n",
    "**2.** Se debe informar para cada modelo, TP, FP, TN y FN, Accuracy, Precision, Recall y F1.<br>\n",
    "\n",
    "**3.** Utilizar 5-fold cross validation habiendo separado anteriormente 20% del dataset para test (de manera aleatoria). Informar cuál es el modelo que mejor performance, demuestre en el conjunto de test.<br>"
   ]
  },
  {
   "cell_type": "code",
   "execution_count": 1,
   "metadata": {},
   "outputs": [],
   "source": [
    "import pandas as pd\n",
    "import numpy as np\n",
    "import matplotlib.pyplot as plt\n",
    "import seaborn as sns\n",
    "%matplotlib inline\n",
    "\n",
    "from sklearn import preprocessing\n",
    "from sklearn import metrics\n",
    "from sklearn.model_selection import train_test_split\n",
    "from sklearn.metrics import classification_report\n",
    "from sklearn.metrics import confusion_matrix\n",
    "from sklearn.metrics import accuracy_score\n",
    "from sklearn.metrics import precision_score\n",
    "from sklearn.metrics import recall_score\n",
    "from sklearn.metrics import f1_score\n",
    "from sklearn.model_selection import GridSearchCV\n",
    "from sklearn.model_selection import RandomizedSearchCV\n",
    "from sklearn.model_selection import KFold"
   ]
  },
  {
   "cell_type": "code",
   "execution_count": 2,
   "metadata": {},
   "outputs": [],
   "source": [
    "import warnings\n",
    "warnings.filterwarnings('ignore')"
   ]
  },
  {
   "cell_type": "code",
   "execution_count": 3,
   "metadata": {},
   "outputs": [],
   "source": [
    "df = pd.read_csv('Data_limpio.csv', sep=\";\")"
   ]
  },
  {
   "cell_type": "markdown",
   "metadata": {},
   "source": [
    "<h2>Preparación del dataset</h3>"
   ]
  },
  {
   "cell_type": "markdown",
   "metadata": {},
   "source": [
    "**1.** Tratamiento de datos faltantes."
   ]
  },
  {
   "cell_type": "code",
   "execution_count": 4,
   "metadata": {
    "scrolled": true
   },
   "outputs": [
    {
     "name": "stdout",
     "output_type": "stream",
     "text": [
      "<class 'pandas.core.frame.DataFrame'>\n",
      "RangeIndex: 1278 entries, 0 to 1277\n",
      "Data columns (total 18 columns):\n",
      "Sucursal                   1278 non-null object\n",
      "Trimestre Entrega          1276 non-null object\n",
      "Capital Entregado          1278 non-null int64\n",
      "Cantidad Cuotas            1278 non-null int64\n",
      "Importe Cuota              1278 non-null float64\n",
      "Interes Mensual            1278 non-null float64\n",
      "Zona Residencia            1222 non-null object\n",
      "Edad                       1209 non-null float64\n",
      "Nacionalidad               1278 non-null object\n",
      "Informa Celular            1278 non-null object\n",
      "Informa Tel Particular     1278 non-null object\n",
      "Informa Email              1278 non-null object\n",
      "Informa Tel Alternativo    1278 non-null object\n",
      "Informa Nombre Jefe        1278 non-null object\n",
      "Puesto Laboral             1223 non-null object\n",
      "Ingreso Formal             1264 non-null float64\n",
      "Sexo                       1278 non-null object\n",
      "Target                     1278 non-null object\n",
      "dtypes: float64(4), int64(2), object(12)\n",
      "memory usage: 179.8+ KB\n"
     ]
    }
   ],
   "source": [
    "# Imputación de moda en \"Sucursal\"\n",
    "df1 = df.copy()\n",
    "df1[\"Sucursal\"] = df1[\"Sucursal\"].fillna(df1[\"Sucursal\"].mode().iloc[0])\n",
    "df1.info()"
   ]
  },
  {
   "cell_type": "code",
   "execution_count": 5,
   "metadata": {},
   "outputs": [
    {
     "name": "stdout",
     "output_type": "stream",
     "text": [
      "<class 'pandas.core.frame.DataFrame'>\n",
      "Int64Index: 1101 entries, 0 to 1277\n",
      "Data columns (total 18 columns):\n",
      "Sucursal                   1101 non-null object\n",
      "Trimestre Entrega          1101 non-null object\n",
      "Capital Entregado          1101 non-null int64\n",
      "Cantidad Cuotas            1101 non-null int64\n",
      "Importe Cuota              1101 non-null float64\n",
      "Interes Mensual            1101 non-null float64\n",
      "Zona Residencia            1101 non-null object\n",
      "Edad                       1101 non-null float64\n",
      "Nacionalidad               1101 non-null object\n",
      "Informa Celular            1101 non-null object\n",
      "Informa Tel Particular     1101 non-null object\n",
      "Informa Email              1101 non-null object\n",
      "Informa Tel Alternativo    1101 non-null object\n",
      "Informa Nombre Jefe        1101 non-null object\n",
      "Puesto Laboral             1101 non-null object\n",
      "Ingreso Formal             1101 non-null float64\n",
      "Sexo                       1101 non-null object\n",
      "Target                     1101 non-null object\n",
      "dtypes: float64(4), int64(2), object(12)\n",
      "memory usage: 163.4+ KB\n"
     ]
    }
   ],
   "source": [
    "# Borramos los nulos de df1\n",
    "df1 = df1.dropna()\n",
    "df1.info()"
   ]
  },
  {
   "cell_type": "markdown",
   "metadata": {},
   "source": [
    "**2.** Encoding."
   ]
  },
  {
   "cell_type": "code",
   "execution_count": 6,
   "metadata": {},
   "outputs": [
    {
     "name": "stdout",
     "output_type": "stream",
     "text": [
      "Index(['Sucursal', 'Trimestre Entrega', 'Zona Residencia', 'Nacionalidad',\n",
      "       'Informa Celular', 'Informa Tel Particular', 'Informa Email',\n",
      "       'Informa Tel Alternativo', 'Informa Nombre Jefe', 'Puesto Laboral',\n",
      "       'Sexo', 'Target'],\n",
      "      dtype='object')\n"
     ]
    }
   ],
   "source": [
    "# Lista con las variables categóricas\n",
    "cat1 = df1.dtypes.loc[df1.dtypes=='object'].index\n",
    "print(cat1)"
   ]
  },
  {
   "cell_type": "code",
   "execution_count": 7,
   "metadata": {},
   "outputs": [],
   "source": [
    "# Función para encodear\n",
    "def encoder(df, cat):\n",
    "    le = preprocessing.LabelEncoder()\n",
    "    clases = []\n",
    "    for i in cat:\n",
    "        df[i]=le.fit_transform(df[i]) \n",
    "        clases.append(le.classes_)\n",
    "    return df, clases"
   ]
  },
  {
   "cell_type": "code",
   "execution_count": 8,
   "metadata": {},
   "outputs": [],
   "source": [
    "# Aplicamos LabelEncoder\n",
    "df2, clases2 = encoder(df1.copy(), cat1)"
   ]
  },
  {
   "cell_type": "code",
   "execution_count": 9,
   "metadata": {},
   "outputs": [
    {
     "data": {
      "text/plain": [
       "[[array(['Alem', 'Belgrano', 'Once'], dtype=object)],\n",
       " [array(['I', 'II', 'III', 'IV'], dtype=object)],\n",
       " [array(['Capital Federal', 'Zona Norte', 'Zona Oeste', 'Zona Sur'],\n",
       "        dtype=object)],\n",
       " [array(['ARGENTINA', 'BOLIVIA', 'BRASIL', 'COLOMBIA', 'PARAGUAY', 'PERU',\n",
       "         'URUGUAY'], dtype=object)],\n",
       " [array(['NO', 'SI'], dtype=object)],\n",
       " [array(['NO ', 'SI'], dtype=object)],\n",
       " [array(['NO', 'SI'], dtype=object)],\n",
       " [array(['NO', 'SI'], dtype=object)],\n",
       " [array(['NO', 'SI'], dtype=object)],\n",
       " [array(['ADMINISTRACION', 'COMERCIO', 'LIMPIEZA Y SEGURIDAD', 'OPERARIO',\n",
       "         'PORTERO', 'SALUD'], dtype=object)],\n",
       " [array(['F', 'M'], dtype=object)],\n",
       " [array(['Cumplidor', 'Deudor'], dtype=object)]]"
      ]
     },
     "execution_count": 9,
     "metadata": {},
     "output_type": "execute_result"
    }
   ],
   "source": [
    "# Verificamos las clases\n",
    "[[c] for c in clases2]"
   ]
  },
  {
   "cell_type": "code",
   "execution_count": 10,
   "metadata": {},
   "outputs": [
    {
     "data": {
      "text/html": [
       "<div>\n",
       "<style scoped>\n",
       "    .dataframe tbody tr th:only-of-type {\n",
       "        vertical-align: middle;\n",
       "    }\n",
       "\n",
       "    .dataframe tbody tr th {\n",
       "        vertical-align: top;\n",
       "    }\n",
       "\n",
       "    .dataframe thead th {\n",
       "        text-align: right;\n",
       "    }\n",
       "</style>\n",
       "<table border=\"1\" class=\"dataframe\">\n",
       "  <thead>\n",
       "    <tr style=\"text-align: right;\">\n",
       "      <th></th>\n",
       "      <th>Sucursal</th>\n",
       "      <th>Trimestre Entrega</th>\n",
       "      <th>Capital Entregado</th>\n",
       "      <th>Cantidad Cuotas</th>\n",
       "      <th>Importe Cuota</th>\n",
       "      <th>Interes Mensual</th>\n",
       "      <th>Zona Residencia</th>\n",
       "      <th>Edad</th>\n",
       "      <th>Nacionalidad</th>\n",
       "      <th>Informa Celular</th>\n",
       "      <th>Informa Tel Particular</th>\n",
       "      <th>Informa Email</th>\n",
       "      <th>Informa Tel Alternativo</th>\n",
       "      <th>Informa Nombre Jefe</th>\n",
       "      <th>Puesto Laboral</th>\n",
       "      <th>Ingreso Formal</th>\n",
       "      <th>Sexo</th>\n",
       "      <th>Target</th>\n",
       "    </tr>\n",
       "  </thead>\n",
       "  <tbody>\n",
       "    <tr>\n",
       "      <th>0</th>\n",
       "      <td>2</td>\n",
       "      <td>1</td>\n",
       "      <td>5000</td>\n",
       "      <td>19</td>\n",
       "      <td>750.0</td>\n",
       "      <td>0.10</td>\n",
       "      <td>2</td>\n",
       "      <td>62.0</td>\n",
       "      <td>6</td>\n",
       "      <td>1</td>\n",
       "      <td>0</td>\n",
       "      <td>0</td>\n",
       "      <td>0</td>\n",
       "      <td>1</td>\n",
       "      <td>2</td>\n",
       "      <td>10000.0</td>\n",
       "      <td>1</td>\n",
       "      <td>0</td>\n",
       "    </tr>\n",
       "    <tr>\n",
       "      <th>1</th>\n",
       "      <td>2</td>\n",
       "      <td>3</td>\n",
       "      <td>8500</td>\n",
       "      <td>21</td>\n",
       "      <td>1204.0</td>\n",
       "      <td>0.09</td>\n",
       "      <td>2</td>\n",
       "      <td>62.0</td>\n",
       "      <td>6</td>\n",
       "      <td>1</td>\n",
       "      <td>0</td>\n",
       "      <td>0</td>\n",
       "      <td>0</td>\n",
       "      <td>1</td>\n",
       "      <td>2</td>\n",
       "      <td>10000.0</td>\n",
       "      <td>1</td>\n",
       "      <td>0</td>\n",
       "    </tr>\n",
       "    <tr>\n",
       "      <th>2</th>\n",
       "      <td>2</td>\n",
       "      <td>3</td>\n",
       "      <td>10000</td>\n",
       "      <td>21</td>\n",
       "      <td>978.0</td>\n",
       "      <td>0.05</td>\n",
       "      <td>2</td>\n",
       "      <td>62.0</td>\n",
       "      <td>6</td>\n",
       "      <td>1</td>\n",
       "      <td>0</td>\n",
       "      <td>0</td>\n",
       "      <td>0</td>\n",
       "      <td>1</td>\n",
       "      <td>2</td>\n",
       "      <td>10000.0</td>\n",
       "      <td>1</td>\n",
       "      <td>0</td>\n",
       "    </tr>\n",
       "    <tr>\n",
       "      <th>3</th>\n",
       "      <td>2</td>\n",
       "      <td>3</td>\n",
       "      <td>28000</td>\n",
       "      <td>20</td>\n",
       "      <td>4900.0</td>\n",
       "      <td>0.13</td>\n",
       "      <td>3</td>\n",
       "      <td>62.0</td>\n",
       "      <td>6</td>\n",
       "      <td>1</td>\n",
       "      <td>0</td>\n",
       "      <td>0</td>\n",
       "      <td>0</td>\n",
       "      <td>1</td>\n",
       "      <td>2</td>\n",
       "      <td>10000.0</td>\n",
       "      <td>1</td>\n",
       "      <td>0</td>\n",
       "    </tr>\n",
       "    <tr>\n",
       "      <th>7</th>\n",
       "      <td>2</td>\n",
       "      <td>1</td>\n",
       "      <td>6000</td>\n",
       "      <td>11</td>\n",
       "      <td>1174.0</td>\n",
       "      <td>0.10</td>\n",
       "      <td>0</td>\n",
       "      <td>40.0</td>\n",
       "      <td>0</td>\n",
       "      <td>1</td>\n",
       "      <td>1</td>\n",
       "      <td>0</td>\n",
       "      <td>1</td>\n",
       "      <td>1</td>\n",
       "      <td>4</td>\n",
       "      <td>11714.0</td>\n",
       "      <td>1</td>\n",
       "      <td>0</td>\n",
       "    </tr>\n",
       "  </tbody>\n",
       "</table>\n",
       "</div>"
      ],
      "text/plain": [
       "   Sucursal  Trimestre Entrega  Capital Entregado   Cantidad Cuotas  \\\n",
       "0         2                  1                5000               19   \n",
       "1         2                  3                8500               21   \n",
       "2         2                  3               10000               21   \n",
       "3         2                  3               28000               20   \n",
       "7         2                  1                6000               11   \n",
       "\n",
       "   Importe Cuota  Interes Mensual  Zona Residencia  Edad  Nacionalidad  \\\n",
       "0          750.0             0.10                2  62.0             6   \n",
       "1         1204.0             0.09                2  62.0             6   \n",
       "2          978.0             0.05                2  62.0             6   \n",
       "3         4900.0             0.13                3  62.0             6   \n",
       "7         1174.0             0.10                0  40.0             0   \n",
       "\n",
       "   Informa Celular  Informa Tel Particular  Informa Email  \\\n",
       "0                1                       0              0   \n",
       "1                1                       0              0   \n",
       "2                1                       0              0   \n",
       "3                1                       0              0   \n",
       "7                1                       1              0   \n",
       "\n",
       "   Informa Tel Alternativo  Informa Nombre Jefe  Puesto Laboral  \\\n",
       "0                        0                    1               2   \n",
       "1                        0                    1               2   \n",
       "2                        0                    1               2   \n",
       "3                        0                    1               2   \n",
       "7                        1                    1               4   \n",
       "\n",
       "   Ingreso Formal  Sexo  Target  \n",
       "0         10000.0     1       0  \n",
       "1         10000.0     1       0  \n",
       "2         10000.0     1       0  \n",
       "3         10000.0     1       0  \n",
       "7         11714.0     1       0  "
      ]
     },
     "execution_count": 10,
     "metadata": {},
     "output_type": "execute_result"
    }
   ],
   "source": [
    "# Verificamos que esté encodeado\n",
    "df2.head()"
   ]
  },
  {
   "cell_type": "markdown",
   "metadata": {},
   "source": [
    "**3.** Balanceo de datos."
   ]
  },
  {
   "cell_type": "code",
   "execution_count": 11,
   "metadata": {},
   "outputs": [
    {
     "name": "stdout",
     "output_type": "stream",
     "text": [
      "Datos totales en el dataset : 1101\n",
      "% de '1' en el dataset (deudores): 36.6030881017257\n",
      "% de '0' en el dataset (pagadores): 63.3969118982743\n",
      "Nro de '1' en total (deudores): 403\n",
      "Nro de '0' en total (deudores): 698\n"
     ]
    }
   ],
   "source": [
    "# Vemos si está balanceado el dataset en relacion al target. \n",
    "print(\"Datos totales en el dataset : {}\".format(df2['Target'].count()))\n",
    "\n",
    "Ones = df2.groupby('Target')['Target'].count()\n",
    "\n",
    "print(\"% de '1' en el dataset (deudores): {}\".format(Ones[1]*100.0/len(df2)))\n",
    "print(\"% de '0' en el dataset (pagadores): {}\".format(Ones[0]*100.0/len(df2)))\n",
    "print(\"Nro de '1' en total (deudores): {}\".format(Ones[1]))\n",
    "print(\"Nro de '0' en total (deudores): {}\".format(Ones[0]))"
   ]
  },
  {
   "cell_type": "code",
   "execution_count": 12,
   "metadata": {},
   "outputs": [
    {
     "data": {
      "text/plain": [
       "(403, 18)"
      ]
     },
     "execution_count": 12,
     "metadata": {},
     "output_type": "execute_result"
    }
   ],
   "source": [
    "#Se procede a borrar los datos positivos a fin de balancear el dataset, filtrando por target=1 y luego los unimos\n",
    "t1 = df2[df2[\"Target\"]==1].copy()\n",
    "t0 = df2[df2[\"Target\"]==0].copy()\n",
    "t0s = t0.sample(frac =.577, random_state=55)\n",
    "\n",
    "t0s.shape"
   ]
  },
  {
   "cell_type": "code",
   "execution_count": 13,
   "metadata": {},
   "outputs": [
    {
     "name": "stdout",
     "output_type": "stream",
     "text": [
      "<class 'pandas.core.frame.DataFrame'>\n",
      "Int64Index: 806 entries, 15 to 1205\n",
      "Data columns (total 18 columns):\n",
      "Sucursal                   806 non-null int32\n",
      "Trimestre Entrega          806 non-null int32\n",
      "Capital Entregado          806 non-null int64\n",
      "Cantidad Cuotas            806 non-null int64\n",
      "Importe Cuota              806 non-null float64\n",
      "Interes Mensual            806 non-null float64\n",
      "Zona Residencia            806 non-null int32\n",
      "Edad                       806 non-null float64\n",
      "Nacionalidad               806 non-null int32\n",
      "Informa Celular            806 non-null int32\n",
      "Informa Tel Particular     806 non-null int32\n",
      "Informa Email              806 non-null int32\n",
      "Informa Tel Alternativo    806 non-null int32\n",
      "Informa Nombre Jefe        806 non-null int32\n",
      "Puesto Laboral             806 non-null int32\n",
      "Ingreso Formal             806 non-null float64\n",
      "Sexo                       806 non-null int32\n",
      "Target                     806 non-null int32\n",
      "dtypes: float64(4), int32(12), int64(2)\n",
      "memory usage: 81.9 KB\n"
     ]
    }
   ],
   "source": [
    "df3 = t1.append(t0s)\n",
    "df3.info()"
   ]
  },
  {
   "cell_type": "code",
   "execution_count": 14,
   "metadata": {},
   "outputs": [
    {
     "name": "stdout",
     "output_type": "stream",
     "text": [
      "Datos totales en el dataset : 806\n",
      "% de '1' en el dataset (deudores): 50.0\n",
      "% de '0' en el dataset (pagadores): 50.0\n",
      "Nro de '1' en total (deudores): 403\n",
      "Nro de '0' en total (deudores): 403\n"
     ]
    }
   ],
   "source": [
    "print(\"Datos totales en el dataset : {}\".format(df3['Target'].count()))\n",
    "\n",
    "Ones = df3.groupby('Target')['Target'].count()\n",
    "\n",
    "print(\"% de '1' en el dataset (deudores): {}\".format(Ones[1]*100.0/len(df3)))\n",
    "print(\"% de '0' en el dataset (pagadores): {}\".format(Ones[0]*100.0/len(df3)))\n",
    "print(\"Nro de '1' en total (deudores): {}\".format(Ones[1]))\n",
    "print(\"Nro de '0' en total (deudores): {}\".format(Ones[0]))"
   ]
  },
  {
   "cell_type": "markdown",
   "metadata": {},
   "source": [
    "**4.** Partición de datos.<br>\n",
    "\n",
    "Trabajamos sobre **df3**: dataset con moda imputada en sucursal, nulos borrados (15%), balanceado y encodeado."
   ]
  },
  {
   "cell_type": "code",
   "execution_count": 15,
   "metadata": {},
   "outputs": [],
   "source": [
    "X_final = df3.drop('Target',axis=1).copy()\n",
    "y_final = df3['Target'].copy()"
   ]
  },
  {
   "cell_type": "code",
   "execution_count": 16,
   "metadata": {},
   "outputs": [],
   "source": [
    "# Separamos 80-20 en \"Desarrollo\" y \"Test\"\n",
    "X_dev, X_test, y_dev, y_test = train_test_split(X_final, y_final, test_size=0.20, random_state=55)"
   ]
  },
  {
   "cell_type": "markdown",
   "metadata": {},
   "source": [
    "A partir de acá usamos **X_dev**: es el 80% de los datos que separaremos en \"entrenamiento\" y \"validación\" para los árboles siguientes."
   ]
  },
  {
   "cell_type": "markdown",
   "metadata": {},
   "source": [
    "<h2>DESARROLLO</h2>"
   ]
  },
  {
   "cell_type": "code",
   "execution_count": 17,
   "metadata": {},
   "outputs": [],
   "source": [
    "# Función para el gráfico de la tabla de confusion de validación\n",
    "def confusion(ytest, y_pred):\n",
    "    names = [\"Pagador\",\"Deudor\"]\n",
    "    cm = confusion_matrix(ytest, y_pred)\n",
    "    f, ax = plt.subplots(figsize=(5,5))\n",
    "    sns.heatmap(cm, annot=True, linewidth=.5, linecolor=\"w\", fmt=\".0f\", ax=ax)\n",
    "    plt.xlabel(\"y_pred\")\n",
    "    plt.ylabel(\"y_true\")\n",
    "    ax.set_xticklabels(names)\n",
    "    ax.set_yticklabels(names)\n",
    "    plt.show()"
   ]
  },
  {
   "cell_type": "markdown",
   "metadata": {},
   "source": [
    "<h2>Modelo 1: Random Forest</h2>"
   ]
  },
  {
   "cell_type": "code",
   "execution_count": 18,
   "metadata": {},
   "outputs": [],
   "source": [
    "from sklearn.ensemble import RandomForestClassifier"
   ]
  },
  {
   "cell_type": "code",
   "execution_count": 19,
   "metadata": {},
   "outputs": [],
   "source": [
    "# Definimos los grupos de atributos y target\n",
    "Xs = X_dev.copy()\n",
    "ys = y_dev.copy()"
   ]
  },
  {
   "cell_type": "code",
   "execution_count": 20,
   "metadata": {},
   "outputs": [],
   "source": [
    "# Separamos en set de entrenamiento y de validación\n",
    "Xs_train, Xs_val, ys_train, ys_val = train_test_split(Xs, ys, test_size=0.20, random_state=55)"
   ]
  },
  {
   "cell_type": "markdown",
   "metadata": {},
   "source": [
    "**Búsqueda de parámetros:** buscamos los mejores parámetros en base a lo obtenido en el trabajo anterior: máxima profundidad 8 e information gain."
   ]
  },
  {
   "cell_type": "markdown",
   "metadata": {},
   "source": [
    "DecisionTreeClassifier<br>\n",
    "(class_weight=None, <br>\n",
    "**criterion='entropy'**, <br>\n",
    "**max_depth=8**,<br>\n",
    "max_features=None, <br>\n",
    "max_leaf_nodes=None,<br>\n",
    "min_impurity_decrease=0.0, <br>\n",
    "min_impurity_split=None,<br>\n",
    "min_samples_leaf=1, <br>\n",
    "min_samples_split=2,<br>\n",
    "min_weight_fraction_leaf=0.0, <br>\n",
    "presort=False,<br>\n",
    "**random_state=55**,<br>\n",
    "splitter='best')<br>"
   ]
  },
  {
   "cell_type": "markdown",
   "metadata": {},
   "source": [
    "**Entrenamiento RF1:** Realizamos un RF sólo con esos parámetros fijos, los demás los dejamos por defecto."
   ]
  },
  {
   "cell_type": "code",
   "execution_count": 21,
   "metadata": {
    "scrolled": true
   },
   "outputs": [
    {
     "data": {
      "text/plain": [
       "RandomForestClassifier(bootstrap=True, class_weight=None, criterion='entropy',\n",
       "            max_depth=8, max_features='auto', max_leaf_nodes=None,\n",
       "            min_impurity_decrease=0.0, min_impurity_split=None,\n",
       "            min_samples_leaf=1, min_samples_split=2,\n",
       "            min_weight_fraction_leaf=0.0, n_estimators=10, n_jobs=None,\n",
       "            oob_score=False, random_state=55, verbose=0, warm_start=False)"
      ]
     },
     "execution_count": 21,
     "metadata": {},
     "output_type": "execute_result"
    }
   ],
   "source": [
    "modeloRF1 = RandomForestClassifier(random_state=55, criterion=\"entropy\", max_depth=8)\n",
    "modeloRF1.fit(Xs_train, ys_train)"
   ]
  },
  {
   "cell_type": "markdown",
   "metadata": {},
   "source": [
    "**Performance RF1:** Calculamos las métricas. 5-Fold CV con F1-score."
   ]
  },
  {
   "cell_type": "code",
   "execution_count": 22,
   "metadata": {},
   "outputs": [
    {
     "name": "stdout",
     "output_type": "stream",
     "text": [
      "[0.686, 0.621, 0.571, 0.62, 0.555]\n",
      "Performance f1-score: 0.611\n"
     ]
    }
   ],
   "source": [
    "# 5-Folds Cross Validation\n",
    "X_cv = Xs.copy()\n",
    "y_cv = ys.copy()\n",
    "modelo = modeloRF1\n",
    "k = KFold(n_splits=5, shuffle=False, random_state=55)\n",
    "\n",
    "sum = 0\n",
    "metrica_list = []\n",
    "for train, test in k.split(X_cv):\n",
    "    Xcv_train = np.array(X_cv)[train]\n",
    "    Xcv_test = np.array(X_cv)[test]\n",
    "    ycv_train = np.array(y_cv)[train]\n",
    "    ycv_test = np.array(y_cv)[test]\n",
    "    modelo.fit(Xcv_train, ycv_train)\n",
    "    pred_cv = modelo.predict(Xcv_test)\n",
    "    metrica_cv = float(f1_score(ycv_test, pred_cv))\n",
    "    metrica_list.append(round(metrica_cv,3))\n",
    "    sum += metrica_cv\n",
    "    cv_valRF1 = sum/5\n",
    "print(metrica_list)\n",
    "print(\"Performance f1-score:\", round(cv_valRF1,3))"
   ]
  },
  {
   "cell_type": "code",
   "execution_count": 23,
   "metadata": {
    "scrolled": false
   },
   "outputs": [
    {
     "data": {
      "text/plain": [
       "{'bootstrap': True,\n",
       " 'class_weight': None,\n",
       " 'criterion': 'entropy',\n",
       " 'max_depth': 8,\n",
       " 'max_features': 'auto',\n",
       " 'max_leaf_nodes': None,\n",
       " 'min_impurity_decrease': 0.0,\n",
       " 'min_impurity_split': None,\n",
       " 'min_samples_leaf': 1,\n",
       " 'min_samples_split': 2,\n",
       " 'min_weight_fraction_leaf': 0.0,\n",
       " 'n_estimators': 10,\n",
       " 'n_jobs': None,\n",
       " 'oob_score': False,\n",
       " 'random_state': 55,\n",
       " 'verbose': 0,\n",
       " 'warm_start': False}"
      ]
     },
     "execution_count": 23,
     "metadata": {},
     "output_type": "execute_result"
    }
   ],
   "source": [
    "modeloRF1.get_params()"
   ]
  },
  {
   "cell_type": "code",
   "execution_count": 24,
   "metadata": {},
   "outputs": [],
   "source": [
    "# Las predicciones del modelo\n",
    "predRF1 = modeloRF1.predict(Xs_val)\n",
    "\n",
    "# Accuracy\n",
    "acc_valRF1 = accuracy_score(ys_val, predRF1)\n",
    "\n",
    "# Recall\n",
    "rec_valRF1 = recall_score(ys_val, predRF1) \n",
    "\n",
    "# Precision\n",
    "prec_valRF1 = precision_score(ys_val, predRF1) \n",
    "\n",
    "# F1\n",
    "f1_valRF1 = f1_score(ys_val, predRF1)"
   ]
  },
  {
   "cell_type": "code",
   "execution_count": 25,
   "metadata": {
    "scrolled": true
   },
   "outputs": [
    {
     "data": {
      "image/png": "[encoded data removed]",
      "text/plain": [
       "<Figure size 360x360 with 2 Axes>"
      ]
     },
     "metadata": {
      "needs_background": "light"
     },
     "output_type": "display_data"
    }
   ],
   "source": [
    "# La matriz de confusión (TP, FP, TN, FN)\n",
    "cm_valRF1 = confusion_matrix(ys_val, predRF1)\n",
    "\n",
    "# Los valores de la matriz\n",
    "FP_valRF1 = cm_valRF1[1,0]\n",
    "FN_valRF1 = cm_valRF1[0,1]\n",
    "TP_valRF1 = cm_valRF1[0,0]\n",
    "TN_valRF1 = cm_valRF1[1,1]\n",
    "\n",
    "# Gráfico de la tabla\n",
    "confusion(ys_val, predRF1)"
   ]
  },
  {
   "cell_type": "code",
   "execution_count": 26,
   "metadata": {
    "scrolled": true
   },
   "outputs": [
    {
     "data": {
      "text/plain": [
       "[Text(0, 0, 'Ingreso Formal'),\n",
       " Text(0, 0, 'Edad'),\n",
       " Text(0, 0, 'Importe Cuota'),\n",
       " Text(0, 0, 'Cantidad Cuotas'),\n",
       " Text(0, 0, 'Interes Mensual'),\n",
       " Text(0, 0, 'Capital Entregado '),\n",
       " Text(0, 0, 'Trimestre Entrega'),\n",
       " Text(0, 0, 'Puesto Laboral'),\n",
       " Text(0, 0, 'Zona Residencia'),\n",
       " Text(0, 0, 'Informa Nombre Jefe'),\n",
       " Text(0, 0, 'Sucursal'),\n",
       " Text(0, 0, 'Informa Tel Particular'),\n",
       " Text(0, 0, 'Nacionalidad'),\n",
       " Text(0, 0, 'Informa Email'),\n",
       " Text(0, 0, 'Sexo'),\n",
       " Text(0, 0, 'Informa Tel Alternativo'),\n",
       " Text(0, 0, 'Informa Celular')]"
      ]
     },
     "execution_count": 26,
     "metadata": {},
     "output_type": "execute_result"
    },
    {
     "data": {
      "image/png": "[encoded data removed]",
      "text/plain": [
       "<Figure size 432x288 with 1 Axes>"
      ]
     },
     "metadata": {
      "needs_background": "light"
     },
     "output_type": "display_data"
    }
   ],
   "source": [
    "# Importancia de los atributos en el modelo\n",
    "importancesRF1 = list(zip(modeloRF1.feature_importances_, df.columns))\n",
    "importancesRF1.sort(reverse=True)\n",
    "importancesRF1 = pd.DataFrame(importancesRF1)\n",
    "importancesRF1.columns = [\"importance\",\"feature\"]\n",
    "\n",
    "sns.barplot(x=\"feature\", y=\"importance\", data=importancesRF1, palette=\"magma\").set_xticklabels(list(importancesRF1[\"feature\"]), rotation=90)"
   ]
  },
  {
   "cell_type": "markdown",
   "metadata": {},
   "source": [
    "**Random Search:** búsqueda al azar para determinar parámetros del RF. Lo hicemos varias veces variando el valor de **Bootstrap** (True, False) y siempre dio True. A partir de eso variamos **max_features** y **n_estimators**."
   ]
  },
  {
   "cell_type": "code",
   "execution_count": 27,
   "metadata": {},
   "outputs": [
    {
     "name": "stdout",
     "output_type": "stream",
     "text": [
      "{'n_estimators': array([  10,   11,   12, ..., 1098, 1099, 1100]), 'max_features': ['sqrt', 'log2', None]}\n"
     ]
    }
   ],
   "source": [
    "param_grid1 = {'n_estimators': np.arange(10,1101,1),\n",
    "              'max_features': [\"sqrt\", \"log2\", None]}\n",
    "\n",
    "print(param_grid1)"
   ]
  },
  {
   "cell_type": "code",
   "execution_count": 28,
   "metadata": {},
   "outputs": [],
   "source": [
    "rf_RS = RandomizedSearchCV(RandomForestClassifier(criterion=\"entropy\", max_depth=8, random_state=55, bootstrap=True), \n",
    "                           param_grid1, scoring=\"f1\", cv=5, n_iter=20, n_jobs = -1, iid=False, verbose=10)"
   ]
  },
  {
   "cell_type": "code",
   "execution_count": 119,
   "metadata": {
    "scrolled": false
   },
   "outputs": [
    {
     "name": "stdout",
     "output_type": "stream",
     "text": [
      "Fitting 5 folds for each of 20 candidates, totalling 100 fits\n"
     ]
    },
    {
     "name": "stderr",
     "output_type": "stream",
     "text": [
      "[Parallel(n_jobs=-1)]: Using backend LokyBackend with 4 concurrent workers.\n",
      "[Parallel(n_jobs=-1)]: Done   5 tasks      | elapsed:    2.7s\n",
      "[Parallel(n_jobs=-1)]: Done  10 tasks      | elapsed:    4.0s\n",
      "[Parallel(n_jobs=-1)]: Done  17 tasks      | elapsed:    6.7s\n",
      "[Parallel(n_jobs=-1)]: Done  24 tasks      | elapsed:    9.3s\n",
      "[Parallel(n_jobs=-1)]: Done  33 tasks      | elapsed:   11.4s\n",
      "[Parallel(n_jobs=-1)]: Done  42 tasks      | elapsed:   13.8s\n",
      "[Parallel(n_jobs=-1)]: Done  53 tasks      | elapsed:   14.5s\n",
      "[Parallel(n_jobs=-1)]: Done  64 tasks      | elapsed:   17.3s\n",
      "[Parallel(n_jobs=-1)]: Done  77 tasks      | elapsed:   21.6s\n",
      "[Parallel(n_jobs=-1)]: Done  90 tasks      | elapsed:   23.9s\n",
      "[Parallel(n_jobs=-1)]: Done 100 out of 100 | elapsed:   27.1s finished\n"
     ]
    },
    {
     "data": {
      "text/plain": [
       "RandomizedSearchCV(cv=5, error_score='raise-deprecating',\n",
       "          estimator=RandomForestClassifier(bootstrap=True, class_weight=None, criterion='entropy',\n",
       "            max_depth=8, max_features='auto', max_leaf_nodes=None,\n",
       "            min_impurity_decrease=0.0, min_impurity_split=None,\n",
       "            min_samples_leaf=1, min_samples_split=2,\n",
       "            min_weight_fraction_leaf=0.0, n_estimators='warn', n_jobs=None,\n",
       "            oob_score=False, random_state=55, verbose=0, warm_start=False),\n",
       "          fit_params=None, iid=False, n_iter=20, n_jobs=-1,\n",
       "          param_distributions={'n_estimators': array([  10,   11, ..., 1099, 1100]), 'max_features': ['sqrt', 'log2', None]},\n",
       "          pre_dispatch='2*n_jobs', random_state=None, refit=True,\n",
       "          return_train_score='warn', scoring='f1', verbose=10)"
      ]
     },
     "execution_count": 119,
     "metadata": {},
     "output_type": "execute_result"
    }
   ],
   "source": [
    "rf_RS.fit(Xs_train, ys_train)"
   ]
  },
  {
   "cell_type": "code",
   "execution_count": 120,
   "metadata": {},
   "outputs": [
    {
     "name": "stdout",
     "output_type": "stream",
     "text": [
      "0.6042290152195813\n",
      "{'n_estimators': 539, 'max_features': 'sqrt'}\n"
     ]
    }
   ],
   "source": [
    "print(rf_RS.best_score_)\n",
    "print(rf_RS.best_params_)"
   ]
  },
  {
   "cell_type": "markdown",
   "metadata": {},
   "source": [
    "Se realizó la búsqueda repetidas veces, obteniendo en su mayoría **max_feature=\"sqrt\"**."
   ]
  },
  {
   "cell_type": "markdown",
   "metadata": {},
   "source": [
    "**Entrenamiento RF2:** entrenamos el modelo con uno de los resultandos de RS (n_estimators=800, bootstrap=True, max_feature=\"sqrt\")"
   ]
  },
  {
   "cell_type": "code",
   "execution_count": 29,
   "metadata": {
    "scrolled": false
   },
   "outputs": [
    {
     "data": {
      "text/plain": [
       "RandomForestClassifier(bootstrap=True, class_weight=None, criterion='entropy',\n",
       "            max_depth=8, max_features='sqrt', max_leaf_nodes=None,\n",
       "            min_impurity_decrease=0.0, min_impurity_split=None,\n",
       "            min_samples_leaf=1, min_samples_split=2,\n",
       "            min_weight_fraction_leaf=0.0, n_estimators=800, n_jobs=None,\n",
       "            oob_score=False, random_state=55, verbose=0, warm_start=False)"
      ]
     },
     "execution_count": 29,
     "metadata": {},
     "output_type": "execute_result"
    }
   ],
   "source": [
    "modeloRF2 = RandomForestClassifier(random_state=55, criterion=\"entropy\", max_depth=8,bootstrap=True, max_features=\"sqrt\", n_estimators=800)\n",
    "modeloRF2.fit(Xs_train, ys_train)"
   ]
  },
  {
   "cell_type": "markdown",
   "metadata": {},
   "source": [
    "**Performance RF2:** Calculamos las métricas. 5-Fold CV con F1-score."
   ]
  },
  {
   "cell_type": "code",
   "execution_count": 30,
   "metadata": {},
   "outputs": [
    {
     "name": "stdout",
     "output_type": "stream",
     "text": [
      "[0.701, 0.657, 0.588, 0.642, 0.624]\n",
      "Performance f1-score: 0.642\n"
     ]
    }
   ],
   "source": [
    "# 5-Folds Cross Validation\n",
    "X_cv = Xs.copy()\n",
    "y_cv = ys.copy()\n",
    "modelo = modeloRF2\n",
    "k = KFold(n_splits=5, shuffle=False, random_state=55)\n",
    "\n",
    "sum = 0\n",
    "metrica_list = []\n",
    "for train, test in k.split(X_cv):\n",
    "    Xcv_train = np.array(X_cv)[train]\n",
    "    Xcv_test = np.array(X_cv)[test]\n",
    "    ycv_train = np.array(y_cv)[train]\n",
    "    ycv_test = np.array(y_cv)[test]\n",
    "    modelo.fit(Xcv_train, ycv_train)\n",
    "    pred_cv = modelo.predict(Xcv_test)\n",
    "    metrica_cv = float(f1_score(ycv_test, pred_cv))\n",
    "    metrica_list.append(round(metrica_cv,3))\n",
    "    sum += metrica_cv\n",
    "    cv_valRF2 = sum/5\n",
    "print(metrica_list)\n",
    "print(\"Performance f1-score:\", round(cv_valRF2,3))"
   ]
  },
  {
   "cell_type": "code",
   "execution_count": 31,
   "metadata": {},
   "outputs": [],
   "source": [
    "# Las predicciones del modelo\n",
    "predRF2 = modeloRF2.predict(Xs_val)\n",
    "\n",
    "# Accuracy\n",
    "acc_valRF2 = accuracy_score(ys_val, predRF2)\n",
    "\n",
    "# Recall\n",
    "rec_valRF2 = recall_score(ys_val, predRF2) \n",
    "\n",
    "# Precision\n",
    "prec_valRF2 = precision_score(ys_val, predRF2) \n",
    "\n",
    "# F1\n",
    "f1_valRF2 = f1_score(ys_val, predRF2)"
   ]
  },
  {
   "cell_type": "code",
   "execution_count": 32,
   "metadata": {
    "scrolled": true
   },
   "outputs": [
    {
     "data": {
      "image/png": "[encoded data removed]",
      "text/plain": [
       "<Figure size 360x360 with 2 Axes>"
      ]
     },
     "metadata": {
      "needs_background": "light"
     },
     "output_type": "display_data"
    }
   ],
   "source": [
    "# La matriz de confusión (TP, FP, TN, FN)\n",
    "cm_valRF2 = confusion_matrix(ys_val, predRF2)\n",
    "\n",
    "# Los valores de la matriz\n",
    "FP_valRF2 = cm_valRF2[1,0]\n",
    "FN_valRF2 = cm_valRF2[0,1]\n",
    "TP_valRF2 = cm_valRF2[0,0]\n",
    "TN_valRF2 = cm_valRF2[1,1]\n",
    "\n",
    "# Gráfico de la matriz\n",
    "confusion(ys_val, predRF2)"
   ]
  },
  {
   "cell_type": "code",
   "execution_count": 33,
   "metadata": {
    "scrolled": false
   },
   "outputs": [
    {
     "data": {
      "text/plain": [
       "[Text(0, 0, 'Ingreso Formal'),\n",
       " Text(0, 0, 'Importe Cuota'),\n",
       " Text(0, 0, 'Edad'),\n",
       " Text(0, 0, 'Cantidad Cuotas'),\n",
       " Text(0, 0, 'Interes Mensual'),\n",
       " Text(0, 0, 'Capital Entregado '),\n",
       " Text(0, 0, 'Puesto Laboral'),\n",
       " Text(0, 0, 'Trimestre Entrega'),\n",
       " Text(0, 0, 'Zona Residencia'),\n",
       " Text(0, 0, 'Informa Tel Particular'),\n",
       " Text(0, 0, 'Sexo'),\n",
       " Text(0, 0, 'Informa Email'),\n",
       " Text(0, 0, 'Informa Nombre Jefe'),\n",
       " Text(0, 0, 'Informa Tel Alternativo'),\n",
       " Text(0, 0, 'Nacionalidad'),\n",
       " Text(0, 0, 'Sucursal'),\n",
       " Text(0, 0, 'Informa Celular')]"
      ]
     },
     "execution_count": 33,
     "metadata": {},
     "output_type": "execute_result"
    },
    {
     "data": {
      "image/png": "[encoded data removed]",
      "text/plain": [
       "<Figure size 432x288 with 1 Axes>"
      ]
     },
     "metadata": {
      "needs_background": "light"
     },
     "output_type": "display_data"
    }
   ],
   "source": [
    "# Importancia de los atributos en el modelo\n",
    "importancesRF2 = list(zip(modeloRF2.feature_importances_, df.columns))\n",
    "importancesRF2.sort(reverse=True)\n",
    "importancesRF2 = pd.DataFrame(importancesRF2)\n",
    "importancesRF2.columns = [\"importance\",\"feature\"]\n",
    "\n",
    "sns.barplot(x=\"feature\", y=\"importance\", data=importancesRF2, palette=\"magma\").set_xticklabels(list(importancesRF2[\"feature\"]), rotation=90)"
   ]
  },
  {
   "cell_type": "markdown",
   "metadata": {},
   "source": [
    "**Grid Search:** Fijamos los nuevos parámetros y hacemos unas búsqueda más fina con la cantidad de árboles."
   ]
  },
  {
   "cell_type": "code",
   "execution_count": 34,
   "metadata": {},
   "outputs": [],
   "source": [
    "param_grid2 = {'n_estimators': np.arange(10,900,1)}"
   ]
  },
  {
   "cell_type": "code",
   "execution_count": 35,
   "metadata": {},
   "outputs": [],
   "source": [
    "RF_GS1 = GridSearchCV(RandomForestClassifier(criterion=\"entropy\", max_depth=8, bootstrap=True, max_features = \"sqrt\", random_state=55), \n",
    "                                             param_grid2, scoring=\"f1\", cv=5, n_jobs = -1, iid=False, verbose=10)"
   ]
  },
  {
   "cell_type": "code",
   "execution_count": 129,
   "metadata": {
    "scrolled": true
   },
   "outputs": [
    {
     "name": "stdout",
     "output_type": "stream",
     "text": [
      "Fitting 5 folds for each of 890 candidates, totalling 4450 fits\n"
     ]
    },
    {
     "name": "stderr",
     "output_type": "stream",
     "text": [
      "[Parallel(n_jobs=-1)]: Using backend LokyBackend with 4 concurrent workers.\n",
      "[Parallel(n_jobs=-1)]: Batch computation too fast (0.0312s.) Setting batch_size=12.\n",
      "[Parallel(n_jobs=-1)]: Done   5 tasks      | elapsed:    0.0s\n",
      "[Parallel(n_jobs=-1)]: Done  32 tasks      | elapsed:    0.4s\n",
      "[Parallel(n_jobs=-1)]: Done 116 tasks      | elapsed:    1.4s\n",
      "[Parallel(n_jobs=-1)]: Done 200 tasks      | elapsed:    2.6s\n",
      "[Parallel(n_jobs=-1)]: Done 308 tasks      | elapsed:    5.5s\n",
      "[Parallel(n_jobs=-1)]: Batch computation too slow (2.0565s.) Setting batch_size=6.\n",
      "[Parallel(n_jobs=-1)]: Batch computation too slow (2.1996s.) Setting batch_size=3.\n",
      "[Parallel(n_jobs=-1)]: Done 404 tasks      | elapsed:    8.0s\n",
      "[Parallel(n_jobs=-1)]: Done 452 tasks      | elapsed:    9.7s\n",
      "[Parallel(n_jobs=-1)]: Done 485 tasks      | elapsed:   11.0s\n",
      "[Parallel(n_jobs=-1)]: Done 524 tasks      | elapsed:   12.6s\n",
      "[Parallel(n_jobs=-1)]: Done 563 tasks      | elapsed:   14.3s\n",
      "[Parallel(n_jobs=-1)]: Done 608 tasks      | elapsed:   16.4s\n",
      "[Parallel(n_jobs=-1)]: Done 653 tasks      | elapsed:   18.8s\n",
      "[Parallel(n_jobs=-1)]: Done 704 tasks      | elapsed:   21.5s\n",
      "[Parallel(n_jobs=-1)]: Done 755 tasks      | elapsed:   24.4s\n",
      "[Parallel(n_jobs=-1)]: Done 812 tasks      | elapsed:   27.9s\n",
      "[Parallel(n_jobs=-1)]: Done 869 tasks      | elapsed:   31.7s\n",
      "[Parallel(n_jobs=-1)]: Done 932 tasks      | elapsed:   36.6s\n",
      "[Parallel(n_jobs=-1)]: Done 995 tasks      | elapsed:   41.6s\n",
      "[Parallel(n_jobs=-1)]: Done 1064 tasks      | elapsed:   46.7s\n",
      "[Parallel(n_jobs=-1)]: Batch computation too slow (2.0053s.) Setting batch_size=1.\n",
      "[Parallel(n_jobs=-1)]: Done 1125 tasks      | elapsed:   51.9s\n",
      "[Parallel(n_jobs=-1)]: Done 1150 tasks      | elapsed:   54.3s\n",
      "[Parallel(n_jobs=-1)]: Done 1175 tasks      | elapsed:   56.4s\n",
      "[Parallel(n_jobs=-1)]: Done 1202 tasks      | elapsed:   59.0s\n",
      "[Parallel(n_jobs=-1)]: Done 1229 tasks      | elapsed:  1.0min\n",
      "[Parallel(n_jobs=-1)]: Done 1258 tasks      | elapsed:  1.1min\n",
      "[Parallel(n_jobs=-1)]: Done 1287 tasks      | elapsed:  1.1min\n",
      "[Parallel(n_jobs=-1)]: Done 1318 tasks      | elapsed:  1.2min\n",
      "[Parallel(n_jobs=-1)]: Done 1349 tasks      | elapsed:  1.2min\n",
      "[Parallel(n_jobs=-1)]: Done 1382 tasks      | elapsed:  1.3min\n",
      "[Parallel(n_jobs=-1)]: Done 1415 tasks      | elapsed:  1.4min\n",
      "[Parallel(n_jobs=-1)]: Done 1450 tasks      | elapsed:  1.4min\n",
      "[Parallel(n_jobs=-1)]: Done 1485 tasks      | elapsed:  1.5min\n",
      "[Parallel(n_jobs=-1)]: Done 1522 tasks      | elapsed:  1.6min\n",
      "[Parallel(n_jobs=-1)]: Done 1559 tasks      | elapsed:  1.6min\n",
      "[Parallel(n_jobs=-1)]: Done 1598 tasks      | elapsed:  1.7min\n",
      "[Parallel(n_jobs=-1)]: Done 1637 tasks      | elapsed:  1.8min\n",
      "[Parallel(n_jobs=-1)]: Done 1678 tasks      | elapsed:  1.9min\n",
      "[Parallel(n_jobs=-1)]: Done 1719 tasks      | elapsed:  2.0min\n",
      "[Parallel(n_jobs=-1)]: Done 1762 tasks      | elapsed:  2.1min\n",
      "[Parallel(n_jobs=-1)]: Done 1805 tasks      | elapsed:  2.2min\n",
      "[Parallel(n_jobs=-1)]: Done 1850 tasks      | elapsed:  2.3min\n",
      "[Parallel(n_jobs=-1)]: Done 1895 tasks      | elapsed:  2.4min\n",
      "[Parallel(n_jobs=-1)]: Done 1942 tasks      | elapsed:  2.5min\n",
      "[Parallel(n_jobs=-1)]: Done 1989 tasks      | elapsed:  2.6min\n",
      "[Parallel(n_jobs=-1)]: Done 2038 tasks      | elapsed:  2.7min\n",
      "[Parallel(n_jobs=-1)]: Done 2087 tasks      | elapsed:  2.9min\n",
      "[Parallel(n_jobs=-1)]: Done 2138 tasks      | elapsed:  3.0min\n",
      "[Parallel(n_jobs=-1)]: Done 2189 tasks      | elapsed:  3.1min\n",
      "[Parallel(n_jobs=-1)]: Done 2242 tasks      | elapsed:  3.3min\n",
      "[Parallel(n_jobs=-1)]: Done 2295 tasks      | elapsed:  3.4min\n",
      "[Parallel(n_jobs=-1)]: Done 2350 tasks      | elapsed:  3.6min\n",
      "[Parallel(n_jobs=-1)]: Done 2405 tasks      | elapsed:  3.7min\n",
      "[Parallel(n_jobs=-1)]: Done 2462 tasks      | elapsed:  3.9min\n",
      "[Parallel(n_jobs=-1)]: Done 2519 tasks      | elapsed:  4.1min\n",
      "[Parallel(n_jobs=-1)]: Done 2578 tasks      | elapsed:  4.3min\n",
      "[Parallel(n_jobs=-1)]: Done 2637 tasks      | elapsed:  4.4min\n",
      "[Parallel(n_jobs=-1)]: Done 2698 tasks      | elapsed:  4.6min\n",
      "[Parallel(n_jobs=-1)]: Done 2759 tasks      | elapsed:  4.9min\n",
      "[Parallel(n_jobs=-1)]: Done 2822 tasks      | elapsed:  5.1min\n",
      "[Parallel(n_jobs=-1)]: Done 2885 tasks      | elapsed:  5.3min\n",
      "[Parallel(n_jobs=-1)]: Done 2950 tasks      | elapsed:  5.5min\n",
      "[Parallel(n_jobs=-1)]: Done 3015 tasks      | elapsed:  5.8min\n",
      "[Parallel(n_jobs=-1)]: Done 3082 tasks      | elapsed:  6.0min\n",
      "[Parallel(n_jobs=-1)]: Done 3149 tasks      | elapsed:  6.3min\n",
      "[Parallel(n_jobs=-1)]: Done 3218 tasks      | elapsed:  6.5min\n",
      "[Parallel(n_jobs=-1)]: Done 3287 tasks      | elapsed:  6.8min\n",
      "[Parallel(n_jobs=-1)]: Done 3358 tasks      | elapsed:  7.1min\n",
      "[Parallel(n_jobs=-1)]: Done 3429 tasks      | elapsed:  7.4min\n",
      "[Parallel(n_jobs=-1)]: Done 3502 tasks      | elapsed:  7.7min\n",
      "[Parallel(n_jobs=-1)]: Done 3575 tasks      | elapsed:  8.0min\n",
      "[Parallel(n_jobs=-1)]: Done 3650 tasks      | elapsed:  8.3min\n",
      "[Parallel(n_jobs=-1)]: Done 3725 tasks      | elapsed:  8.7min\n",
      "[Parallel(n_jobs=-1)]: Done 3802 tasks      | elapsed:  9.0min\n",
      "[Parallel(n_jobs=-1)]: Done 3879 tasks      | elapsed:  9.4min\n",
      "[Parallel(n_jobs=-1)]: Done 3958 tasks      | elapsed:  9.8min\n",
      "[Parallel(n_jobs=-1)]: Done 4037 tasks      | elapsed: 10.2min\n",
      "[Parallel(n_jobs=-1)]: Done 4118 tasks      | elapsed: 10.6min\n",
      "[Parallel(n_jobs=-1)]: Done 4199 tasks      | elapsed: 11.0min\n",
      "[Parallel(n_jobs=-1)]: Done 4282 tasks      | elapsed: 11.4min\n",
      "[Parallel(n_jobs=-1)]: Done 4365 tasks      | elapsed: 11.9min\n",
      "[Parallel(n_jobs=-1)]: Done 4450 out of 4450 | elapsed: 12.3min finished\n"
     ]
    },
    {
     "data": {
      "text/plain": [
       "GridSearchCV(cv=5, error_score='raise-deprecating',\n",
       "       estimator=RandomForestClassifier(bootstrap=True, class_weight=None, criterion='entropy',\n",
       "            max_depth=8, max_features='sqrt', max_leaf_nodes=None,\n",
       "            min_impurity_decrease=0.0, min_impurity_split=None,\n",
       "            min_samples_leaf=1, min_samples_split=2,\n",
       "            min_weight_fraction_leaf=0.0, n_estimators='warn', n_jobs=None,\n",
       "            oob_score=False, random_state=55, verbose=0, warm_start=False),\n",
       "       fit_params=None, iid=False, n_jobs=-1,\n",
       "       param_grid={'n_estimators': array([ 10,  11, ..., 898, 899])},\n",
       "       pre_dispatch='2*n_jobs', refit=True, return_train_score='warn',\n",
       "       scoring='f1', verbose=10)"
      ]
     },
     "execution_count": 129,
     "metadata": {},
     "output_type": "execute_result"
    }
   ],
   "source": [
    "RF_GS1.fit(Xs_train, ys_train)"
   ]
  },
  {
   "cell_type": "code",
   "execution_count": 130,
   "metadata": {},
   "outputs": [
    {
     "name": "stdout",
     "output_type": "stream",
     "text": [
      "0.621538873277131\n",
      "{'n_estimators': 13}\n"
     ]
    }
   ],
   "source": [
    "print(RF_GS1.best_score_)\n",
    "print(RF_GS1.best_params_)"
   ]
  },
  {
   "cell_type": "markdown",
   "metadata": {},
   "source": [
    "**Entrenamiento RF3:** entrenamos el modelo con los parámetros encontrados mediante GS (n_estimators=13)."
   ]
  },
  {
   "cell_type": "code",
   "execution_count": 36,
   "metadata": {
    "scrolled": true
   },
   "outputs": [
    {
     "data": {
      "text/plain": [
       "RandomForestClassifier(bootstrap=True, class_weight=None, criterion='entropy',\n",
       "            max_depth=8, max_features='sqrt', max_leaf_nodes=None,\n",
       "            min_impurity_decrease=0.0, min_impurity_split=None,\n",
       "            min_samples_leaf=1, min_samples_split=2,\n",
       "            min_weight_fraction_leaf=0.0, n_estimators=13, n_jobs=None,\n",
       "            oob_score=False, random_state=55, verbose=0, warm_start=False)"
      ]
     },
     "execution_count": 36,
     "metadata": {},
     "output_type": "execute_result"
    }
   ],
   "source": [
    "modeloRF3 = RandomForestClassifier(criterion=\"entropy\", max_depth=8, bootstrap=True, max_features = \"sqrt\", random_state=55, n_estimators=13)\n",
    "modeloRF3.fit(Xs_train,ys_train)"
   ]
  },
  {
   "cell_type": "markdown",
   "metadata": {},
   "source": [
    "**Performance RF3:** Calculamos las métricas. 5-Fold CV con F1-score."
   ]
  },
  {
   "cell_type": "code",
   "execution_count": 37,
   "metadata": {},
   "outputs": [
    {
     "name": "stdout",
     "output_type": "stream",
     "text": [
      "[0.705, 0.672, 0.562, 0.626, 0.579]\n",
      "Performance f1-score: 0.629\n"
     ]
    }
   ],
   "source": [
    "# 5-Folds Cross Validation\n",
    "X_cv = Xs.copy()\n",
    "y_cv = ys.copy()\n",
    "modelo = modeloRF3\n",
    "k = KFold(n_splits=5, shuffle=False, random_state=55)\n",
    "\n",
    "sum = 0\n",
    "metrica_list = []\n",
    "for train, test in k.split(X_cv):\n",
    "    Xcv_train = np.array(X_cv)[train]\n",
    "    Xcv_test = np.array(X_cv)[test]\n",
    "    ycv_train = np.array(y_cv)[train]\n",
    "    ycv_test = np.array(y_cv)[test]\n",
    "    modelo.fit(Xcv_train, ycv_train)\n",
    "    pred_cv = modelo.predict(Xcv_test)\n",
    "    metrica_cv = float(f1_score(ycv_test, pred_cv))\n",
    "    metrica_list.append(round(metrica_cv,3))\n",
    "    sum += metrica_cv\n",
    "    cv_valRF3 = sum/5\n",
    "print(metrica_list)\n",
    "print(\"Performance f1-score:\", round(cv_valRF3,3))"
   ]
  },
  {
   "cell_type": "code",
   "execution_count": 38,
   "metadata": {},
   "outputs": [],
   "source": [
    "# Las predicciones del modelo\n",
    "predRF3 = modeloRF3.predict(Xs_val)\n",
    "\n",
    "# Accuracy\n",
    "acc_valRF3 = accuracy_score(ys_val, predRF3)\n",
    "\n",
    "# Recall\n",
    "rec_valRF3 = recall_score(ys_val, predRF3) \n",
    "\n",
    "# Precision\n",
    "prec_valRF3 = precision_score(ys_val, predRF3) \n",
    "\n",
    "# F1\n",
    "f1_valRF3 = f1_score(ys_val, predRF3)"
   ]
  },
  {
   "cell_type": "code",
   "execution_count": 39,
   "metadata": {
    "scrolled": false
   },
   "outputs": [
    {
     "data": {
      "image/png": "[encoded data removed]",
      "text/plain": [
       "<Figure size 360x360 with 2 Axes>"
      ]
     },
     "metadata": {
      "needs_background": "light"
     },
     "output_type": "display_data"
    }
   ],
   "source": [
    "# La matriz de confusión (TP, FP, TN, FN)\n",
    "cm_valRF3 = confusion_matrix(ys_val, predRF3)\n",
    "\n",
    "# Los valores de la matriz\n",
    "FP_valRF3 = cm_valRF3[1,0]\n",
    "FN_valRF3 = cm_valRF3[0,1]\n",
    "TP_valRF3 = cm_valRF3[0,0]\n",
    "TN_valRF3 = cm_valRF3[1,1]\n",
    "\n",
    "# Gráfico de la matrix\n",
    "confusion(ys_val, predRF3)"
   ]
  },
  {
   "cell_type": "code",
   "execution_count": 40,
   "metadata": {
    "scrolled": true
   },
   "outputs": [
    {
     "data": {
      "text/plain": [
       "[Text(0, 0, 'Ingreso Formal'),\n",
       " Text(0, 0, 'Edad'),\n",
       " Text(0, 0, 'Importe Cuota'),\n",
       " Text(0, 0, 'Cantidad Cuotas'),\n",
       " Text(0, 0, 'Interes Mensual'),\n",
       " Text(0, 0, 'Capital Entregado '),\n",
       " Text(0, 0, 'Trimestre Entrega'),\n",
       " Text(0, 0, 'Puesto Laboral'),\n",
       " Text(0, 0, 'Informa Nombre Jefe'),\n",
       " Text(0, 0, 'Zona Residencia'),\n",
       " Text(0, 0, 'Informa Tel Particular'),\n",
       " Text(0, 0, 'Sucursal'),\n",
       " Text(0, 0, 'Nacionalidad'),\n",
       " Text(0, 0, 'Informa Email'),\n",
       " Text(0, 0, 'Sexo'),\n",
       " Text(0, 0, 'Informa Tel Alternativo'),\n",
       " Text(0, 0, 'Informa Celular')]"
      ]
     },
     "execution_count": 40,
     "metadata": {},
     "output_type": "execute_result"
    },
    {
     "data": {
      "image/png": "[encoded data removed]",
      "text/plain": [
       "<Figure size 432x288 with 1 Axes>"
      ]
     },
     "metadata": {
      "needs_background": "light"
     },
     "output_type": "display_data"
    }
   ],
   "source": [
    "# Importancia de los atributos en el modelo\n",
    "importancesRF3 = list(zip(modeloRF3.feature_importances_, df.columns))\n",
    "importancesRF3.sort(reverse=True)\n",
    "importancesRF3 = pd.DataFrame(importancesRF3)\n",
    "importancesRF3.columns = [\"importance\",\"feature\"]\n",
    "\n",
    "sns.barplot(x=\"feature\", y=\"importance\", data=importancesRF3, palette=\"magma\").set_xticklabels(list(importancesRF3[\"feature\"]), rotation=90)"
   ]
  },
  {
   "cell_type": "markdown",
   "metadata": {},
   "source": [
    "**Resumen de modelos:** tabla comparativa de performance de modelos RF en validación."
   ]
  },
  {
   "cell_type": "code",
   "execution_count": 41,
   "metadata": {},
   "outputs": [],
   "source": [
    "performance_valRF1 = [TP_valRF1, FP_valRF1, TN_valRF1, FN_valRF1, cv_valRF1, acc_valRF1, rec_valRF1, prec_valRF1, f1_valRF1]\n",
    "performance_valRF2 = [TP_valRF2, FP_valRF2, TN_valRF2, FN_valRF2, cv_valRF2, acc_valRF2, rec_valRF2, prec_valRF2, f1_valRF2]\n",
    "performance_valRF3 = [TP_valRF3, FP_valRF3, TN_valRF3, FN_valRF3, cv_valRF3, acc_valRF3, rec_valRF3, prec_valRF3, f1_valRF3]"
   ]
  },
  {
   "cell_type": "code",
   "execution_count": 42,
   "metadata": {
    "scrolled": true
   },
   "outputs": [
    {
     "data": {
      "text/html": [
       "<div>\n",
       "<style scoped>\n",
       "    .dataframe tbody tr th:only-of-type {\n",
       "        vertical-align: middle;\n",
       "    }\n",
       "\n",
       "    .dataframe tbody tr th {\n",
       "        vertical-align: top;\n",
       "    }\n",
       "\n",
       "    .dataframe thead th {\n",
       "        text-align: right;\n",
       "    }\n",
       "</style>\n",
       "<table border=\"1\" class=\"dataframe\">\n",
       "  <thead>\n",
       "    <tr style=\"text-align: right;\">\n",
       "      <th></th>\n",
       "      <th>Medidas</th>\n",
       "      <th>RF1</th>\n",
       "      <th>RF2</th>\n",
       "      <th>RF3</th>\n",
       "    </tr>\n",
       "  </thead>\n",
       "  <tbody>\n",
       "    <tr>\n",
       "      <th>0</th>\n",
       "      <td>TP</td>\n",
       "      <td>49.000</td>\n",
       "      <td>47.000</td>\n",
       "      <td>49.000</td>\n",
       "    </tr>\n",
       "    <tr>\n",
       "      <th>1</th>\n",
       "      <td>FP</td>\n",
       "      <td>16.000</td>\n",
       "      <td>11.000</td>\n",
       "      <td>15.000</td>\n",
       "    </tr>\n",
       "    <tr>\n",
       "      <th>2</th>\n",
       "      <td>TN</td>\n",
       "      <td>55.000</td>\n",
       "      <td>60.000</td>\n",
       "      <td>56.000</td>\n",
       "    </tr>\n",
       "    <tr>\n",
       "      <th>3</th>\n",
       "      <td>FN</td>\n",
       "      <td>9.000</td>\n",
       "      <td>11.000</td>\n",
       "      <td>9.000</td>\n",
       "    </tr>\n",
       "    <tr>\n",
       "      <th>4</th>\n",
       "      <td>5-folds CV (F1)</td>\n",
       "      <td>0.611</td>\n",
       "      <td>0.642</td>\n",
       "      <td>0.629</td>\n",
       "    </tr>\n",
       "    <tr>\n",
       "      <th>5</th>\n",
       "      <td>Accuracy</td>\n",
       "      <td>0.806</td>\n",
       "      <td>0.829</td>\n",
       "      <td>0.814</td>\n",
       "    </tr>\n",
       "    <tr>\n",
       "      <th>6</th>\n",
       "      <td>Recall</td>\n",
       "      <td>0.775</td>\n",
       "      <td>0.845</td>\n",
       "      <td>0.789</td>\n",
       "    </tr>\n",
       "    <tr>\n",
       "      <th>7</th>\n",
       "      <td>Precision</td>\n",
       "      <td>0.859</td>\n",
       "      <td>0.845</td>\n",
       "      <td>0.862</td>\n",
       "    </tr>\n",
       "    <tr>\n",
       "      <th>8</th>\n",
       "      <td>F1-Socre</td>\n",
       "      <td>0.815</td>\n",
       "      <td>0.845</td>\n",
       "      <td>0.824</td>\n",
       "    </tr>\n",
       "  </tbody>\n",
       "</table>\n",
       "</div>"
      ],
      "text/plain": [
       "           Medidas     RF1     RF2     RF3\n",
       "0               TP  49.000  47.000  49.000\n",
       "1               FP  16.000  11.000  15.000\n",
       "2               TN  55.000  60.000  56.000\n",
       "3               FN   9.000  11.000   9.000\n",
       "4  5-folds CV (F1)   0.611   0.642   0.629\n",
       "5         Accuracy   0.806   0.829   0.814\n",
       "6           Recall   0.775   0.845   0.789\n",
       "7        Precision   0.859   0.845   0.862\n",
       "8         F1-Socre   0.815   0.845   0.824"
      ]
     },
     "execution_count": 42,
     "metadata": {},
     "output_type": "execute_result"
    }
   ],
   "source": [
    "Medidas = (\"TP\", \"FP\", \"TN\", \"FN\", \"5-folds CV (F1)\", \"Accuracy\", \"Recall\", \"Precision\", \"F1-Socre\")\n",
    "\n",
    "Tabla_per1 = pd.DataFrame({\"Medidas\": Medidas, \"RF1\": performance_valRF1,\"RF2\": performance_valRF2,\"RF3\": performance_valRF3})\n",
    "\n",
    "round(Tabla_per1,3)"
   ]
  },
  {
   "cell_type": "markdown",
   "metadata": {},
   "source": [
    "<h2>Modelo 2: AdaBoost</h2>"
   ]
  },
  {
   "cell_type": "code",
   "execution_count": 43,
   "metadata": {},
   "outputs": [],
   "source": [
    "from sklearn.ensemble import AdaBoostClassifier\n",
    "from sklearn.naive_bayes import GaussianNB\n",
    "from sklearn.tree import DecisionTreeClassifier"
   ]
  },
  {
   "cell_type": "code",
   "execution_count": 44,
   "metadata": {},
   "outputs": [],
   "source": [
    "Xs1 = X_dev.copy()\n",
    "ys1 = y_dev.copy()"
   ]
  },
  {
   "cell_type": "code",
   "execution_count": 45,
   "metadata": {},
   "outputs": [],
   "source": [
    "Xs1_train, Xs1_val, ys1_train, ys1_val = train_test_split(Xs1, ys1, test_size=0.20, random_state=55)"
   ]
  },
  {
   "cell_type": "markdown",
   "metadata": {},
   "source": [
    "**Búsqueda de parámetros:** buscamos los mejores parámetros."
   ]
  },
  {
   "cell_type": "markdown",
   "metadata": {},
   "source": [
    "**Entrenamiento AB1:** realizamos un AB con los parámetros por default."
   ]
  },
  {
   "cell_type": "code",
   "execution_count": 46,
   "metadata": {},
   "outputs": [
    {
     "data": {
      "text/plain": [
       "AdaBoostClassifier(algorithm='SAMME.R', base_estimator=None,\n",
       "          learning_rate=1.0, n_estimators=50, random_state=55)"
      ]
     },
     "execution_count": 46,
     "metadata": {},
     "output_type": "execute_result"
    }
   ],
   "source": [
    "modeloAB1 = AdaBoostClassifier(random_state=55)\n",
    "modeloAB1.fit(Xs1_train, ys1_train)"
   ]
  },
  {
   "cell_type": "markdown",
   "metadata": {},
   "source": [
    "**Performance AB1:** Calculamos las métricas. 5-Fold CV con F1-score."
   ]
  },
  {
   "cell_type": "code",
   "execution_count": 47,
   "metadata": {},
   "outputs": [
    {
     "name": "stdout",
     "output_type": "stream",
     "text": [
      "[0.618, 0.612, 0.565, 0.605, 0.585]\n",
      "Performance f1-score: 0.597\n"
     ]
    }
   ],
   "source": [
    "# 5-Folds Cross Validation\n",
    "X_cv = Xs1.copy()\n",
    "y_cv = ys1.copy()\n",
    "modelo = modeloAB1\n",
    "k = KFold(n_splits=5, shuffle=False, random_state=55)\n",
    "\n",
    "sum = 0\n",
    "metrica_list = []\n",
    "for train, test in k.split(X_cv):\n",
    "    Xcv_train = np.array(X_cv)[train]\n",
    "    Xcv_test = np.array(X_cv)[test]\n",
    "    ycv_train = np.array(y_cv)[train]\n",
    "    ycv_test = np.array(y_cv)[test]\n",
    "    modelo.fit(Xcv_train, ycv_train)\n",
    "    pred_cv = modelo.predict(Xcv_test)\n",
    "    metrica_cv = float(f1_score(ycv_test, pred_cv))\n",
    "    metrica_list.append(round(metrica_cv,3))\n",
    "    sum += metrica_cv\n",
    "    cv_valAB1 = sum/5\n",
    "print(metrica_list)\n",
    "print(\"Performance f1-score:\", round(cv_valAB1,3))"
   ]
  },
  {
   "cell_type": "code",
   "execution_count": 48,
   "metadata": {},
   "outputs": [],
   "source": [
    "# Las predicciones del modelo\n",
    "predAB1 = modeloAB1.predict(Xs1_val)\n",
    "\n",
    "# Accuracy\n",
    "acc_valAB1 = accuracy_score(ys1_val, predAB1)\n",
    "\n",
    "# Recall\n",
    "rec_valAB1 = recall_score(ys1_val, predAB1) \n",
    "\n",
    "# Precision\n",
    "prec_valAB1 = precision_score(ys1_val, predAB1) \n",
    "\n",
    "# F1\n",
    "f1_valAB1 = f1_score(ys1_val, predAB1)"
   ]
  },
  {
   "cell_type": "code",
   "execution_count": 49,
   "metadata": {},
   "outputs": [
    {
     "data": {
      "image/png": "[encoded data removed]",
      "text/plain": [
       "<Figure size 360x360 with 2 Axes>"
      ]
     },
     "metadata": {
      "needs_background": "light"
     },
     "output_type": "display_data"
    }
   ],
   "source": [
    "# La matriz de confusión (TP, FP, TN, FN)\n",
    "cm_valAB1 = confusion_matrix(ys1_val, predAB1)\n",
    "\n",
    "# Los valores de la matriz\n",
    "FP_valAB1 = cm_valAB1[1,0]\n",
    "FN_valAB1 = cm_valAB1[0,1]\n",
    "TP_valAB1 = cm_valAB1[0,0]\n",
    "TN_valAB1 = cm_valAB1[1,1]\n",
    "\n",
    "# Gráfico de la matriz\n",
    "confusion(ys1_val, predAB1)"
   ]
  },
  {
   "cell_type": "code",
   "execution_count": 50,
   "metadata": {
    "scrolled": false
   },
   "outputs": [
    {
     "data": {
      "text/plain": [
       "{'algorithm': 'SAMME.R',\n",
       " 'base_estimator': None,\n",
       " 'learning_rate': 1.0,\n",
       " 'n_estimators': 50,\n",
       " 'random_state': 55}"
      ]
     },
     "execution_count": 50,
     "metadata": {},
     "output_type": "execute_result"
    }
   ],
   "source": [
    "modeloAB1.get_params()"
   ]
  },
  {
   "cell_type": "markdown",
   "metadata": {},
   "source": [
    "**Grid Search 1:** hacemos una búsqueda pasa el elegir el estimador de AB."
   ]
  },
  {
   "cell_type": "code",
   "execution_count": 187,
   "metadata": {},
   "outputs": [
    {
     "name": "stdout",
     "output_type": "stream",
     "text": [
      "AdaBoostClassifier\n",
      "BaggingClassifier\n",
      "BernoulliNB\n",
      "CalibratedClassifierCV\n",
      "ComplementNB\n",
      "DecisionTreeClassifier\n",
      "ExtraTreeClassifier\n",
      "ExtraTreesClassifier\n",
      "GaussianNB\n",
      "GradientBoostingClassifier\n",
      "LinearSVC\n",
      "LogisticRegression\n",
      "LogisticRegressionCV\n",
      "MultinomialNB\n",
      "NuSVC\n",
      "Perceptron\n",
      "RandomForestClassifier\n",
      "RidgeClassifier\n",
      "RidgeClassifierCV\n",
      "SGDClassifier\n",
      "SVC\n"
     ]
    }
   ],
   "source": [
    "# Clasificadores de SKLearn que se pueden usar con AdaBoost\n",
    "import inspect\n",
    "from sklearn.utils.testing import all_estimators\n",
    "for name, clf in all_estimators(type_filter='classifier'):\n",
    "    if 'sample_weight' in inspect.getargspec(clf().fit)[0]:\n",
    "       print(name)"
   ]
  },
  {
   "cell_type": "code",
   "execution_count": 59,
   "metadata": {},
   "outputs": [],
   "source": [
    "# Nuestro árbol del TP1\n",
    "dtree = DecisionTreeClassifier(criterion=\"entropy\", max_depth=8, max_features=\"sqrt\", random_state=55)\n",
    "\n",
    "# Un árbol con los parámetros por defecto\n",
    "dtree1 = DecisionTreeClassifier(random_state=55)\n",
    "\n",
    "# Naive Bayes\n",
    "nb = GaussianNB()\n",
    "                       \n",
    "param_grid3 = {'base_estimator': [dtree, dtree1, nb]} "
   ]
  },
  {
   "cell_type": "code",
   "execution_count": 60,
   "metadata": {},
   "outputs": [],
   "source": [
    "AB_GS = GridSearchCV(AdaBoostClassifier(random_state=55), param_grid3, scoring=\"f1\", cv=3, n_jobs = -1, iid=False)"
   ]
  },
  {
   "cell_type": "code",
   "execution_count": 33,
   "metadata": {
    "scrolled": true
   },
   "outputs": [
    {
     "data": {
      "text/plain": [
       "GridSearchCV(cv=3, error_score='raise-deprecating',\n",
       "       estimator=AdaBoostClassifier(algorithm='SAMME.R', base_estimator=None,\n",
       "          learning_rate=1.0, n_estimators=50, random_state=55),\n",
       "       fit_params=None, iid=False, n_jobs=-1,\n",
       "       param_grid={'base_estimator': [DecisionTreeClassifier(class_weight=None, criterion='entropy', max_depth=8,\n",
       "            max_features='sqrt', max_leaf_nodes=None,\n",
       "            min_impurity_decrease=0.0, min_impurity_split=None,\n",
       "            min_samples_leaf=1, min_samples_split=2,\n",
       "            min_weight...False, random_state=55,\n",
       "            splitter='best'), GaussianNB(priors=None, var_smoothing=1e-09)]},\n",
       "       pre_dispatch='2*n_jobs', refit=True, return_train_score='warn',\n",
       "       scoring='f1', verbose=0)"
      ]
     },
     "execution_count": 33,
     "metadata": {},
     "output_type": "execute_result"
    }
   ],
   "source": [
    "AB_GS.fit(Xs1_train, ys1_train)"
   ]
  },
  {
   "cell_type": "code",
   "execution_count": 34,
   "metadata": {
    "scrolled": true
   },
   "outputs": [
    {
     "name": "stdout",
     "output_type": "stream",
     "text": [
      "0.6139347551886252\n",
      "{'base_estimator': DecisionTreeClassifier(class_weight=None, criterion='entropy', max_depth=8,\n",
      "            max_features='sqrt', max_leaf_nodes=None,\n",
      "            min_impurity_decrease=0.0, min_impurity_split=None,\n",
      "            min_samples_leaf=1, min_samples_split=2,\n",
      "            min_weight_fraction_leaf=0.0, presort=False, random_state=55,\n",
      "            splitter='best')}\n"
     ]
    }
   ],
   "source": [
    "print(AB_GS.best_score_)\n",
    "print(AB_GS.best_params_)"
   ]
  },
  {
   "cell_type": "markdown",
   "metadata": {},
   "source": [
    "**Entrenamiento AB2:** El mejor estimador parece ser el árbol de decisión del TP1, por lo que se optó por elegir este como estimador.  "
   ]
  },
  {
   "cell_type": "code",
   "execution_count": 83,
   "metadata": {},
   "outputs": [],
   "source": [
    "modeloAB2 = AdaBoostClassifier(base_estimator=DecisionTreeClassifier(criterion='entropy', max_depth=8, max_features=\"sqrt\",\n",
    "                                                                        random_state=55), random_state=55)"
   ]
  },
  {
   "cell_type": "code",
   "execution_count": 84,
   "metadata": {
    "scrolled": true
   },
   "outputs": [
    {
     "data": {
      "text/plain": [
       "AdaBoostClassifier(algorithm='SAMME.R',\n",
       "          base_estimator=DecisionTreeClassifier(class_weight=None, criterion='entropy', max_depth=8,\n",
       "            max_features='sqrt', max_leaf_nodes=None,\n",
       "            min_impurity_decrease=0.0, min_impurity_split=None,\n",
       "            min_samples_leaf=1, min_samples_split=2,\n",
       "            min_weight_fraction_leaf=0.0, presort=False, random_state=55,\n",
       "            splitter='best'),\n",
       "          learning_rate=1.0, n_estimators=50, random_state=55)"
      ]
     },
     "execution_count": 84,
     "metadata": {},
     "output_type": "execute_result"
    }
   ],
   "source": [
    "modeloAB2.fit(Xs1_train, ys1_train)"
   ]
  },
  {
   "cell_type": "markdown",
   "metadata": {},
   "source": [
    "**Performance AB2:** Calculamos las métricas. 5-Fold CV con F1-score."
   ]
  },
  {
   "cell_type": "code",
   "execution_count": 85,
   "metadata": {},
   "outputs": [
    {
     "name": "stdout",
     "output_type": "stream",
     "text": [
      "[0.623, 0.647, 0.635, 0.556, 0.688]\n",
      "Performance f1-score: 0.63\n"
     ]
    }
   ],
   "source": [
    "# 5-Folds Cross Validation\n",
    "X_cv = Xs1.copy()\n",
    "y_cv = ys1.copy()\n",
    "modelo = modeloAB2\n",
    "k = KFold(n_splits=5, shuffle=False, random_state=55)\n",
    "\n",
    "sum = 0\n",
    "metrica_list = []\n",
    "for train, test in k.split(X_cv):\n",
    "    Xcv_train = np.array(X_cv)[train]\n",
    "    Xcv_test = np.array(X_cv)[test]\n",
    "    ycv_train = np.array(y_cv)[train]\n",
    "    ycv_test = np.array(y_cv)[test]\n",
    "    modelo.fit(Xcv_train, ycv_train)\n",
    "    pred_cv = modelo.predict(Xcv_test)\n",
    "    metrica_cv = float(f1_score(ycv_test, pred_cv))\n",
    "    metrica_list.append(round(metrica_cv,3))\n",
    "    sum += metrica_cv\n",
    "    cv_valAB2 = sum/5\n",
    "print(metrica_list)\n",
    "print(\"Performance f1-score:\", round(cv_valAB2,3))"
   ]
  },
  {
   "cell_type": "code",
   "execution_count": 86,
   "metadata": {},
   "outputs": [],
   "source": [
    "# Las predicciones del modelo\n",
    "predAB2 = modeloAB2.predict(Xs1_val)\n",
    "\n",
    "# Accuracy\n",
    "acc_valAB2 = accuracy_score(ys1_val, predAB2)\n",
    "\n",
    "# Recall\n",
    "rec_valAB2 = recall_score(ys1_val, predAB2) \n",
    "\n",
    "# Precision\n",
    "prec_valAB2 = precision_score(ys1_val, predAB2) \n",
    "\n",
    "# F1\n",
    "f1_valAB2 = f1_score(ys1_val, predAB2)"
   ]
  },
  {
   "cell_type": "code",
   "execution_count": 87,
   "metadata": {
    "scrolled": true
   },
   "outputs": [
    {
     "data": {
      "image/png": "[encoded data removed]",
      "text/plain": [
       "<Figure size 360x360 with 2 Axes>"
      ]
     },
     "metadata": {
      "needs_background": "light"
     },
     "output_type": "display_data"
    }
   ],
   "source": [
    "# La matriz de confusión (TP, FP, TN, FN)\n",
    "cm_valAB2 = confusion_matrix(ys1_val, predAB2)\n",
    "\n",
    "# Los valores de la matriz\n",
    "FP_valAB2 = cm_valAB2[1,0]\n",
    "FN_valAB2 = cm_valAB2[0,1]\n",
    "TP_valAB2 = cm_valAB2[0,0]\n",
    "TN_valAB2 = cm_valAB2[1,1]\n",
    "\n",
    "# Gráfico de la matriz\n",
    "confusion(ys1_val, predAB2)"
   ]
  },
  {
   "cell_type": "markdown",
   "metadata": {},
   "source": [
    "**Grid Search 2:** hacemos una búsqueda para la cantidad de estimadors de AB."
   ]
  },
  {
   "cell_type": "code",
   "execution_count": 88,
   "metadata": {},
   "outputs": [],
   "source": [
    "param_grid4 = {\"n_estimators\": np.arange(50,500,1)}\n",
    "\n",
    "DTC = DecisionTreeClassifier(criterion=\"entropy\", random_state = 55, max_features=\"sqrt\", max_depth=8)\n",
    "ABC = AdaBoostClassifier(base_estimator = DTC)\n",
    "\n",
    "AB_GS2 = GridSearchCV(ABC, param_grid=param_grid4, scoring = 'f1', cv=5, n_jobs = -1, iid=False, verbose=10)"
   ]
  },
  {
   "cell_type": "code",
   "execution_count": 173,
   "metadata": {
    "scrolled": true
   },
   "outputs": [
    {
     "name": "stdout",
     "output_type": "stream",
     "text": [
      "Fitting 5 folds for each of 450 candidates, totalling 2250 fits\n"
     ]
    },
    {
     "name": "stderr",
     "output_type": "stream",
     "text": [
      "[Parallel(n_jobs=-1)]: Using backend LokyBackend with 4 concurrent workers.\n",
      "[Parallel(n_jobs=-1)]: Done   5 tasks      | elapsed:    3.1s\n",
      "[Parallel(n_jobs=-1)]: Done  10 tasks      | elapsed:    3.2s\n",
      "[Parallel(n_jobs=-1)]: Done  17 tasks      | elapsed:    3.5s\n",
      "[Parallel(n_jobs=-1)]: Done  24 tasks      | elapsed:    3.7s\n",
      "[Parallel(n_jobs=-1)]: Done  33 tasks      | elapsed:    4.0s\n",
      "[Parallel(n_jobs=-1)]: Done  42 tasks      | elapsed:    4.3s\n",
      "[Parallel(n_jobs=-1)]: Done  53 tasks      | elapsed:    4.6s\n",
      "[Parallel(n_jobs=-1)]: Done  64 tasks      | elapsed:    5.0s\n",
      "[Parallel(n_jobs=-1)]: Done  77 tasks      | elapsed:    5.5s\n",
      "[Parallel(n_jobs=-1)]: Done  90 tasks      | elapsed:    6.2s\n",
      "[Parallel(n_jobs=-1)]: Done 105 tasks      | elapsed:    6.7s\n",
      "[Parallel(n_jobs=-1)]: Done 120 tasks      | elapsed:    7.4s\n",
      "[Parallel(n_jobs=-1)]: Done 137 tasks      | elapsed:    8.1s\n",
      "[Parallel(n_jobs=-1)]: Done 154 tasks      | elapsed:    8.8s\n",
      "[Parallel(n_jobs=-1)]: Done 173 tasks      | elapsed:    9.8s\n",
      "[Parallel(n_jobs=-1)]: Done 192 tasks      | elapsed:   10.7s\n",
      "[Parallel(n_jobs=-1)]: Done 213 tasks      | elapsed:   11.8s\n",
      "[Parallel(n_jobs=-1)]: Done 234 tasks      | elapsed:   13.1s\n",
      "[Parallel(n_jobs=-1)]: Done 257 tasks      | elapsed:   14.5s\n",
      "[Parallel(n_jobs=-1)]: Done 280 tasks      | elapsed:   15.9s\n",
      "[Parallel(n_jobs=-1)]: Done 305 tasks      | elapsed:   17.5s\n",
      "[Parallel(n_jobs=-1)]: Done 330 tasks      | elapsed:   19.1s\n",
      "[Parallel(n_jobs=-1)]: Done 357 tasks      | elapsed:   20.8s\n",
      "[Parallel(n_jobs=-1)]: Done 384 tasks      | elapsed:   22.7s\n",
      "[Parallel(n_jobs=-1)]: Done 413 tasks      | elapsed:   24.7s\n",
      "[Parallel(n_jobs=-1)]: Done 442 tasks      | elapsed:   26.8s\n",
      "[Parallel(n_jobs=-1)]: Done 473 tasks      | elapsed:   29.3s\n",
      "[Parallel(n_jobs=-1)]: Done 504 tasks      | elapsed:   31.9s\n",
      "[Parallel(n_jobs=-1)]: Done 537 tasks      | elapsed:   34.7s\n",
      "[Parallel(n_jobs=-1)]: Done 570 tasks      | elapsed:   37.6s\n",
      "[Parallel(n_jobs=-1)]: Done 605 tasks      | elapsed:   40.7s\n",
      "[Parallel(n_jobs=-1)]: Done 640 tasks      | elapsed:   43.9s\n",
      "[Parallel(n_jobs=-1)]: Done 677 tasks      | elapsed:   47.6s\n",
      "[Parallel(n_jobs=-1)]: Done 714 tasks      | elapsed:   51.4s\n",
      "[Parallel(n_jobs=-1)]: Done 753 tasks      | elapsed:   55.3s\n",
      "[Parallel(n_jobs=-1)]: Done 792 tasks      | elapsed:   59.5s\n",
      "[Parallel(n_jobs=-1)]: Done 833 tasks      | elapsed:  1.1min\n",
      "[Parallel(n_jobs=-1)]: Done 874 tasks      | elapsed:  1.1min\n",
      "[Parallel(n_jobs=-1)]: Done 917 tasks      | elapsed:  1.2min\n",
      "[Parallel(n_jobs=-1)]: Done 960 tasks      | elapsed:  1.3min\n",
      "[Parallel(n_jobs=-1)]: Done 1005 tasks      | elapsed:  1.4min\n",
      "[Parallel(n_jobs=-1)]: Done 1050 tasks      | elapsed:  1.5min\n",
      "[Parallel(n_jobs=-1)]: Done 1097 tasks      | elapsed:  1.6min\n",
      "[Parallel(n_jobs=-1)]: Done 1144 tasks      | elapsed:  1.7min\n",
      "[Parallel(n_jobs=-1)]: Done 1193 tasks      | elapsed:  1.9min\n",
      "[Parallel(n_jobs=-1)]: Done 1242 tasks      | elapsed:  2.0min\n",
      "[Parallel(n_jobs=-1)]: Done 1293 tasks      | elapsed:  2.1min\n",
      "[Parallel(n_jobs=-1)]: Done 1344 tasks      | elapsed:  2.3min\n",
      "[Parallel(n_jobs=-1)]: Done 1397 tasks      | elapsed:  2.4min\n",
      "[Parallel(n_jobs=-1)]: Done 1450 tasks      | elapsed:  2.6min\n",
      "[Parallel(n_jobs=-1)]: Done 1505 tasks      | elapsed:  2.7min\n",
      "[Parallel(n_jobs=-1)]: Done 1560 tasks      | elapsed:  2.9min\n",
      "[Parallel(n_jobs=-1)]: Done 1617 tasks      | elapsed:  3.1min\n",
      "[Parallel(n_jobs=-1)]: Done 1674 tasks      | elapsed:  3.2min\n",
      "[Parallel(n_jobs=-1)]: Done 1733 tasks      | elapsed:  3.5min\n",
      "[Parallel(n_jobs=-1)]: Done 1792 tasks      | elapsed:  3.7min\n",
      "[Parallel(n_jobs=-1)]: Done 1853 tasks      | elapsed:  3.9min\n",
      "[Parallel(n_jobs=-1)]: Done 1914 tasks      | elapsed:  4.1min\n",
      "[Parallel(n_jobs=-1)]: Done 1977 tasks      | elapsed:  4.3min\n",
      "[Parallel(n_jobs=-1)]: Done 2040 tasks      | elapsed:  4.6min\n",
      "[Parallel(n_jobs=-1)]: Done 2105 tasks      | elapsed:  4.8min\n",
      "[Parallel(n_jobs=-1)]: Done 2170 tasks      | elapsed:  5.1min\n",
      "[Parallel(n_jobs=-1)]: Done 2237 tasks      | elapsed:  5.4min\n",
      "[Parallel(n_jobs=-1)]: Done 2250 out of 2250 | elapsed:  5.4min finished\n"
     ]
    },
    {
     "data": {
      "text/plain": [
       "GridSearchCV(cv=5, error_score='raise-deprecating',\n",
       "       estimator=AdaBoostClassifier(algorithm='SAMME.R',\n",
       "          base_estimator=DecisionTreeClassifier(class_weight=None, criterion='entropy', max_depth=8,\n",
       "            max_features='sqrt', max_leaf_nodes=None,\n",
       "            min_impurity_decrease=0.0, min_impurity_split=None,\n",
       "            min_samples_leaf=1, min_samples_split=2,\n",
       "            min_weight_fraction_leaf=0.0, presort=False, random_state=55,\n",
       "            splitter='best'),\n",
       "          learning_rate=1.0, n_estimators=50, random_state=None),\n",
       "       fit_params=None, iid=False, n_jobs=-1,\n",
       "       param_grid={'n_estimators': array([ 50,  51, ..., 498, 499])},\n",
       "       pre_dispatch='2*n_jobs', refit=True, return_train_score='warn',\n",
       "       scoring='f1', verbose=10)"
      ]
     },
     "execution_count": 173,
     "metadata": {},
     "output_type": "execute_result"
    }
   ],
   "source": [
    "AB_GS2.fit(Xs1_train, ys1_train)"
   ]
  },
  {
   "cell_type": "code",
   "execution_count": 174,
   "metadata": {},
   "outputs": [
    {
     "name": "stdout",
     "output_type": "stream",
     "text": [
      "0.6550418148610977\n",
      "{'n_estimators': 198}\n"
     ]
    }
   ],
   "source": [
    "print(AB_GS2.best_score_)\n",
    "print(AB_GS2.best_params_)"
   ]
  },
  {
   "cell_type": "markdown",
   "metadata": {},
   "source": [
    "**Entrenamiento AB3:** Entrenamos el modelo con los parámetros encontrados mediante GS (n_estimators=198)"
   ]
  },
  {
   "cell_type": "code",
   "execution_count": 89,
   "metadata": {
    "scrolled": true
   },
   "outputs": [
    {
     "data": {
      "text/plain": [
       "AdaBoostClassifier(algorithm='SAMME.R',\n",
       "          base_estimator=DecisionTreeClassifier(class_weight=None, criterion='entropy', max_depth=8,\n",
       "            max_features='sqrt', max_leaf_nodes=None,\n",
       "            min_impurity_decrease=0.0, min_impurity_split=None,\n",
       "            min_samples_leaf=1, min_samples_split=2,\n",
       "            min_weight_fraction_leaf=0.0, presort=False, random_state=55,\n",
       "            splitter='best'),\n",
       "          learning_rate=1.0, n_estimators=198, random_state=55)"
      ]
     },
     "execution_count": 89,
     "metadata": {},
     "output_type": "execute_result"
    }
   ],
   "source": [
    "# Entrenamos el modelo\n",
    "modeloAB3 = AdaBoostClassifier(base_estimator = DTC, n_estimators=198, random_state=55)\n",
    "modeloAB3.fit(Xs1_train, ys1_train)"
   ]
  },
  {
   "cell_type": "code",
   "execution_count": 90,
   "metadata": {},
   "outputs": [],
   "source": [
    "# Las predicciones del modelo\n",
    "predAB3 = modeloAB3.predict(Xs1_val)"
   ]
  },
  {
   "cell_type": "markdown",
   "metadata": {},
   "source": [
    "**Performance AB3:** Calculamos las métricas. 5-Fold CV con F1-score."
   ]
  },
  {
   "cell_type": "code",
   "execution_count": 91,
   "metadata": {},
   "outputs": [
    {
     "name": "stdout",
     "output_type": "stream",
     "text": [
      "[0.657, 0.657, 0.603, 0.617, 0.702]\n",
      "Performance f1-score: 0.647\n"
     ]
    }
   ],
   "source": [
    "# 5-Folds Cross Validation\n",
    "X_cv = Xs1.copy()\n",
    "y_cv = ys1.copy()\n",
    "modelo = modeloAB3\n",
    "k = KFold(n_splits=5, shuffle=False, random_state=55)\n",
    "\n",
    "sum = 0\n",
    "metrica_list = []\n",
    "for train, test in k.split(X_cv):\n",
    "    Xcv_train = np.array(X_cv)[train]\n",
    "    Xcv_test = np.array(X_cv)[test]\n",
    "    ycv_train = np.array(y_cv)[train]\n",
    "    ycv_test = np.array(y_cv)[test]\n",
    "    modelo.fit(Xcv_train, ycv_train)\n",
    "    pred_cv = modelo.predict(Xcv_test)\n",
    "    metrica_cv = float(f1_score(ycv_test, pred_cv))\n",
    "    metrica_list.append(round(metrica_cv,3))\n",
    "    sum += metrica_cv\n",
    "    cv_valAB3 = sum/5\n",
    "print(metrica_list)\n",
    "print(\"Performance f1-score:\", round(cv_valAB3,3))"
   ]
  },
  {
   "cell_type": "code",
   "execution_count": 92,
   "metadata": {},
   "outputs": [],
   "source": [
    "# Las predicciones del modelo\n",
    "predAB3 = modeloAB3.predict(Xs1_val)\n",
    "\n",
    "# Accuracy\n",
    "acc_valAB3 = accuracy_score(ys1_val, predAB3)\n",
    "\n",
    "# Recall\n",
    "rec_valAB3 = recall_score(ys1_val, predAB3) \n",
    "\n",
    "# Precision\n",
    "prec_valAB3 = precision_score(ys1_val, predAB3) \n",
    "\n",
    "# F1\n",
    "f1_valAB3 = f1_score(ys1_val, predAB3)"
   ]
  },
  {
   "cell_type": "code",
   "execution_count": 148,
   "metadata": {
    "scrolled": true
   },
   "outputs": [
    {
     "data": {
      "image/png": "[encoded data removed]",
      "text/plain": [
       "<Figure size 360x360 with 2 Axes>"
      ]
     },
     "metadata": {
      "needs_background": "light"
     },
     "output_type": "display_data"
    }
   ],
   "source": [
    "# La matriz de confusión (TP, FP, TN, FN)\n",
    "cm_valAB3 = confusion_matrix(ys1_val, predAB3)\n",
    "\n",
    "# Los valores de la matriz\n",
    "FP_valAB3 = cm_valAB3[1,0] \n",
    "FN_valAB3 = cm_valAB3[0,1]\n",
    "TP_valAB3 = cm_valAB3[0,0]\n",
    "TN_valAB3 = cm_valAB3[1,1]\n",
    "\n",
    "# Gráfico de la matrix\n",
    "confusion(ys1_val, predAB3)"
   ]
  },
  {
   "cell_type": "code",
   "execution_count": 149,
   "metadata": {
    "scrolled": true
   },
   "outputs": [
    {
     "data": {
      "text/plain": [
       "[Text(0, 0, 'Ingreso Formal'),\n",
       " Text(0, 0, 'Edad'),\n",
       " Text(0, 0, 'Trimestre Entrega'),\n",
       " Text(0, 0, 'Puesto Laboral'),\n",
       " Text(0, 0, 'Importe Cuota'),\n",
       " Text(0, 0, 'Cantidad Cuotas'),\n",
       " Text(0, 0, 'Capital Entregado '),\n",
       " Text(0, 0, 'Sexo'),\n",
       " Text(0, 0, 'Interes Mensual'),\n",
       " Text(0, 0, 'Informa Tel Particular'),\n",
       " Text(0, 0, 'Informa Email'),\n",
       " Text(0, 0, 'Sucursal'),\n",
       " Text(0, 0, 'Informa Tel Alternativo'),\n",
       " Text(0, 0, 'Zona Residencia'),\n",
       " Text(0, 0, 'Informa Nombre Jefe'),\n",
       " Text(0, 0, 'Informa Celular'),\n",
       " Text(0, 0, 'Nacionalidad')]"
      ]
     },
     "execution_count": 149,
     "metadata": {},
     "output_type": "execute_result"
    },
    {
     "data": {
      "image/png": "[encoded data removed]",
      "text/plain": [
       "<Figure size 432x288 with 1 Axes>"
      ]
     },
     "metadata": {
      "needs_background": "light"
     },
     "output_type": "display_data"
    }
   ],
   "source": [
    "# Importancia de los atributos en el modelo\n",
    "importancesAB3 = list(zip(modeloAB3.feature_importances_, df.columns))\n",
    "importancesAB3.sort(reverse=True)\n",
    "importancesAB3 = pd.DataFrame(importancesAB3)\n",
    "importancesAB3.columns = [\"importance\",\"feature\"]\n",
    "\n",
    "sns.barplot(x=\"feature\", y=\"importance\", data=importancesAB3, palette=\"magma\").set_xticklabels(list(importancesAB3[\"feature\"]), rotation=90)"
   ]
  },
  {
   "cell_type": "markdown",
   "metadata": {},
   "source": [
    "**Resumen de modelos:** tabla comparativa de performance de modelos AB en validación."
   ]
  },
  {
   "cell_type": "code",
   "execution_count": 94,
   "metadata": {},
   "outputs": [],
   "source": [
    "performance_valAB1 = [TP_valAB1, FP_valAB1, TN_valAB1, FN_valAB1, cv_valAB1, acc_valAB1, rec_valAB1, prec_valAB1, f1_valAB1]\n",
    "performance_valAB2 = [TP_valAB2, FP_valAB2, TN_valAB2, FN_valAB2, cv_valAB2, acc_valAB2, rec_valAB2, prec_valAB2, f1_valAB2]\n",
    "performance_valAB3 = [TP_valAB3, FP_valAB3, TN_valAB3, FN_valAB3, cv_valAB3, acc_valAB3, rec_valAB3, prec_valAB3, f1_valAB3]"
   ]
  },
  {
   "cell_type": "code",
   "execution_count": 95,
   "metadata": {
    "scrolled": true
   },
   "outputs": [
    {
     "data": {
      "text/html": [
       "<div>\n",
       "<style scoped>\n",
       "    .dataframe tbody tr th:only-of-type {\n",
       "        vertical-align: middle;\n",
       "    }\n",
       "\n",
       "    .dataframe tbody tr th {\n",
       "        vertical-align: top;\n",
       "    }\n",
       "\n",
       "    .dataframe thead th {\n",
       "        text-align: right;\n",
       "    }\n",
       "</style>\n",
       "<table border=\"1\" class=\"dataframe\">\n",
       "  <thead>\n",
       "    <tr style=\"text-align: right;\">\n",
       "      <th></th>\n",
       "      <th>Medidas</th>\n",
       "      <th>AB1</th>\n",
       "      <th>AB2</th>\n",
       "      <th>AB3</th>\n",
       "    </tr>\n",
       "  </thead>\n",
       "  <tbody>\n",
       "    <tr>\n",
       "      <th>0</th>\n",
       "      <td>TP</td>\n",
       "      <td>40.000</td>\n",
       "      <td>51.000</td>\n",
       "      <td>50.000</td>\n",
       "    </tr>\n",
       "    <tr>\n",
       "      <th>1</th>\n",
       "      <td>FP</td>\n",
       "      <td>28.000</td>\n",
       "      <td>6.000</td>\n",
       "      <td>5.000</td>\n",
       "    </tr>\n",
       "    <tr>\n",
       "      <th>2</th>\n",
       "      <td>TN</td>\n",
       "      <td>43.000</td>\n",
       "      <td>65.000</td>\n",
       "      <td>66.000</td>\n",
       "    </tr>\n",
       "    <tr>\n",
       "      <th>3</th>\n",
       "      <td>FN</td>\n",
       "      <td>18.000</td>\n",
       "      <td>7.000</td>\n",
       "      <td>8.000</td>\n",
       "    </tr>\n",
       "    <tr>\n",
       "      <th>4</th>\n",
       "      <td>5-folds CV (F1)</td>\n",
       "      <td>0.597</td>\n",
       "      <td>0.630</td>\n",
       "      <td>0.647</td>\n",
       "    </tr>\n",
       "    <tr>\n",
       "      <th>5</th>\n",
       "      <td>Accuracy</td>\n",
       "      <td>0.643</td>\n",
       "      <td>0.899</td>\n",
       "      <td>0.899</td>\n",
       "    </tr>\n",
       "    <tr>\n",
       "      <th>6</th>\n",
       "      <td>Recall</td>\n",
       "      <td>0.606</td>\n",
       "      <td>0.915</td>\n",
       "      <td>0.930</td>\n",
       "    </tr>\n",
       "    <tr>\n",
       "      <th>7</th>\n",
       "      <td>Precision</td>\n",
       "      <td>0.705</td>\n",
       "      <td>0.903</td>\n",
       "      <td>0.892</td>\n",
       "    </tr>\n",
       "    <tr>\n",
       "      <th>8</th>\n",
       "      <td>F1-Socre</td>\n",
       "      <td>0.652</td>\n",
       "      <td>0.909</td>\n",
       "      <td>0.910</td>\n",
       "    </tr>\n",
       "  </tbody>\n",
       "</table>\n",
       "</div>"
      ],
      "text/plain": [
       "           Medidas     AB1     AB2     AB3\n",
       "0               TP  40.000  51.000  50.000\n",
       "1               FP  28.000   6.000   5.000\n",
       "2               TN  43.000  65.000  66.000\n",
       "3               FN  18.000   7.000   8.000\n",
       "4  5-folds CV (F1)   0.597   0.630   0.647\n",
       "5         Accuracy   0.643   0.899   0.899\n",
       "6           Recall   0.606   0.915   0.930\n",
       "7        Precision   0.705   0.903   0.892\n",
       "8         F1-Socre   0.652   0.909   0.910"
      ]
     },
     "execution_count": 95,
     "metadata": {},
     "output_type": "execute_result"
    }
   ],
   "source": [
    "Medidas = (\"TP\", \"FP\", \"TN\", \"FN\", \"5-folds CV (F1)\", \"Accuracy\", \"Recall\", \"Precision\", \"F1-Socre\")\n",
    "\n",
    "Tabla_per2 = pd.DataFrame({\"Medidas\": Medidas, \"AB1\": performance_valAB1,\"AB2\": performance_valAB2,\"AB3\": performance_valAB3})\n",
    "\n",
    "round(Tabla_per2,3)"
   ]
  },
  {
   "cell_type": "markdown",
   "metadata": {},
   "source": [
    "<h2>Modelo 3: XGBoost </h2>"
   ]
  },
  {
   "cell_type": "code",
   "execution_count": 100,
   "metadata": {},
   "outputs": [],
   "source": [
    "import xgboost as xgb\n",
    "from xgboost.sklearn import XGBClassifier"
   ]
  },
  {
   "cell_type": "code",
   "execution_count": 101,
   "metadata": {},
   "outputs": [],
   "source": [
    "Xs2 = X_dev.copy()\n",
    "ys2 = y_dev.copy()"
   ]
  },
  {
   "cell_type": "code",
   "execution_count": 102,
   "metadata": {},
   "outputs": [],
   "source": [
    "Xs2_train, Xs2_val, ys2_train, ys2_val = train_test_split(Xs2, ys2, test_size=0.20, random_state=55)"
   ]
  },
  {
   "cell_type": "markdown",
   "metadata": {},
   "source": [
    "**Entrenamiento XGB1:** Entrenamos un modelo con los parámetros default."
   ]
  },
  {
   "cell_type": "code",
   "execution_count": 103,
   "metadata": {},
   "outputs": [],
   "source": [
    "modeloXGB1 = xgb.XGBClassifier(random_state=55, seed=55)"
   ]
  },
  {
   "cell_type": "code",
   "execution_count": 104,
   "metadata": {
    "scrolled": false
   },
   "outputs": [
    {
     "data": {
      "text/plain": [
       "XGBClassifier(base_score=0.5, booster='gbtree', colsample_bylevel=1,\n",
       "       colsample_bynode=1, colsample_bytree=1, gamma=0, learning_rate=0.1,\n",
       "       max_delta_step=0, max_depth=3, min_child_weight=1, missing=None,\n",
       "       n_estimators=100, n_jobs=1, nthread=None,\n",
       "       objective='binary:logistic', random_state=55, reg_alpha=0,\n",
       "       reg_lambda=1, scale_pos_weight=1, seed=55, silent=None, subsample=1,\n",
       "       verbosity=1)"
      ]
     },
     "execution_count": 104,
     "metadata": {},
     "output_type": "execute_result"
    }
   ],
   "source": [
    "modeloXGB1.fit(Xs2_train, ys2_train)"
   ]
  },
  {
   "cell_type": "markdown",
   "metadata": {},
   "source": [
    "**Performance XGB1:** Calculamos las métricas. 5-Fold CV con F1-score."
   ]
  },
  {
   "cell_type": "code",
   "execution_count": 105,
   "metadata": {
    "scrolled": true
   },
   "outputs": [
    {
     "name": "stdout",
     "output_type": "stream",
     "text": [
      "[0.656, 0.632, 0.56, 0.611, 0.608]\n",
      "Performance f1-score: 0.614\n"
     ]
    }
   ],
   "source": [
    "# 5-Folds Cross Validation\n",
    "X_cv = Xs2.copy()\n",
    "y_cv = ys2.copy()\n",
    "modelo = modeloXGB1\n",
    "k = KFold(n_splits=5, shuffle=False, random_state=55)\n",
    "\n",
    "sum = 0\n",
    "metrica_list = []\n",
    "for train, test in k.split(X_cv):\n",
    "    Xcv_train = np.array(X_cv)[train]\n",
    "    Xcv_test = np.array(X_cv)[test]\n",
    "    ycv_train = np.array(y_cv)[train]\n",
    "    ycv_test = np.array(y_cv)[test]\n",
    "    modelo.fit(Xcv_train, ycv_train)\n",
    "    pred_cv = modelo.predict(Xcv_test)\n",
    "    metrica_cv = float(f1_score(ycv_test, pred_cv))\n",
    "    metrica_list.append(round(metrica_cv,3))\n",
    "    sum += metrica_cv\n",
    "    cv_valXGB1 = sum/5\n",
    "print(metrica_list)\n",
    "print(\"Performance f1-score:\", round(cv_valXGB1,3))"
   ]
  },
  {
   "cell_type": "code",
   "execution_count": 106,
   "metadata": {},
   "outputs": [
    {
     "data": {
      "text/plain": [
       "XGBClassifier(base_score=0.5, booster='gbtree', colsample_bylevel=1,\n",
       "       colsample_bynode=1, colsample_bytree=1, gamma=0, learning_rate=0.1,\n",
       "       max_delta_step=0, max_depth=3, min_child_weight=1, missing=None,\n",
       "       n_estimators=100, n_jobs=1, nthread=None,\n",
       "       objective='binary:logistic', random_state=55, reg_alpha=0,\n",
       "       reg_lambda=1, scale_pos_weight=1, seed=55, silent=None, subsample=1,\n",
       "       verbosity=1)"
      ]
     },
     "execution_count": 106,
     "metadata": {},
     "output_type": "execute_result"
    }
   ],
   "source": [
    "Xs2 = X_dev.copy()\n",
    "ys2 = y_dev.copy()\n",
    "Xs2_train, Xs2_val, ys2_train, ys2_val = train_test_split(Xs2, ys2, test_size=0.20, random_state=55)\n",
    "modeloXGB1 = xgb.XGBClassifier(random_state=55, seed=55)\n",
    "modeloXGB1.fit(Xs2_train, ys2_train)"
   ]
  },
  {
   "cell_type": "code",
   "execution_count": 107,
   "metadata": {},
   "outputs": [],
   "source": [
    "# Las predicciones del modelo\n",
    "predXGB1 = modeloXGB1.predict(Xs2_val)\n",
    "\n",
    "# Accuracy\n",
    "acc_valXGB1 = accuracy_score(ys2_val, predXGB1)\n",
    "\n",
    "# Recall\n",
    "rec_valXGB1 = recall_score(ys2_val, predXGB1) \n",
    "\n",
    "# Precision\n",
    "prec_valXGB1 = precision_score(ys2_val, predXGB1) \n",
    "\n",
    "# F1\n",
    "f1_valXGB1 = f1_score(ys2_val, predXGB1)"
   ]
  },
  {
   "cell_type": "code",
   "execution_count": 108,
   "metadata": {
    "scrolled": true
   },
   "outputs": [
    {
     "data": {
      "image/png": "[encoded data removed]",
      "text/plain": [
       "<Figure size 360x360 with 2 Axes>"
      ]
     },
     "metadata": {
      "needs_background": "light"
     },
     "output_type": "display_data"
    }
   ],
   "source": [
    "# La matriz de confusión (TP, FP, TN, FN)\n",
    "cm_valXGB1 = confusion_matrix(ys2_val, predXGB1)\n",
    "\n",
    "# Los valores de la matriz\n",
    "FP_valXGB1 = cm_valXGB1[1,0]\n",
    "FN_valXGB1 = cm_valXGB1[0,1]\n",
    "TP_valXGB1 = cm_valXGB1[0,0]\n",
    "TN_valXGB1 = cm_valXGB1[1,1]\n",
    "\n",
    "# Gráfico de la matrix\n",
    "confusion(ys2_val, predXGB1)"
   ]
  },
  {
   "cell_type": "code",
   "execution_count": 109,
   "metadata": {
    "scrolled": true
   },
   "outputs": [
    {
     "data": {
      "text/plain": [
       "{'base_score': 0.5,\n",
       " 'booster': 'gbtree',\n",
       " 'colsample_bylevel': 1,\n",
       " 'colsample_bynode': 1,\n",
       " 'colsample_bytree': 1,\n",
       " 'gamma': 0,\n",
       " 'learning_rate': 0.1,\n",
       " 'max_delta_step': 0,\n",
       " 'max_depth': 3,\n",
       " 'min_child_weight': 1,\n",
       " 'missing': None,\n",
       " 'n_estimators': 100,\n",
       " 'n_jobs': 1,\n",
       " 'nthread': None,\n",
       " 'objective': 'binary:logistic',\n",
       " 'random_state': 55,\n",
       " 'reg_alpha': 0,\n",
       " 'reg_lambda': 1,\n",
       " 'scale_pos_weight': 1,\n",
       " 'seed': 55,\n",
       " 'silent': None,\n",
       " 'subsample': 1,\n",
       " 'verbosity': 1}"
      ]
     },
     "execution_count": 109,
     "metadata": {},
     "output_type": "execute_result"
    }
   ],
   "source": [
    "modeloXGB1.get_params()"
   ]
  },
  {
   "cell_type": "markdown",
   "metadata": {},
   "source": [
    "**Entrenamiento XGB2:** Entrenamos un modelo con los parámetros del árbol que mejor nos dieron: max_feature=sqrt (acá se llama colsample_bytree), max_depth=8. Los demás parámetros los dejamos por defecto."
   ]
  },
  {
   "cell_type": "code",
   "execution_count": 110,
   "metadata": {},
   "outputs": [],
   "source": [
    "modeloXGB2 = xgb.XGBClassifier(max_depth=8, random_state=55, seed=55, colsample_bytree = 0.2357, criterion=\"entropy\")"
   ]
  },
  {
   "cell_type": "code",
   "execution_count": 111,
   "metadata": {
    "scrolled": false
   },
   "outputs": [
    {
     "data": {
      "text/plain": [
       "XGBClassifier(base_score=0.5, booster='gbtree', colsample_bylevel=1,\n",
       "       colsample_bynode=1, colsample_bytree=0.2357, criterion='entropy',\n",
       "       gamma=0, learning_rate=0.1, max_delta_step=0, max_depth=8,\n",
       "       min_child_weight=1, missing=None, n_estimators=100, n_jobs=1,\n",
       "       nthread=None, objective='binary:logistic', random_state=55,\n",
       "       reg_alpha=0, reg_lambda=1, scale_pos_weight=1, seed=55, silent=None,\n",
       "       subsample=1, verbosity=1)"
      ]
     },
     "execution_count": 111,
     "metadata": {},
     "output_type": "execute_result"
    }
   ],
   "source": [
    "modeloXGB2.fit(Xs2_train, ys2_train)"
   ]
  },
  {
   "cell_type": "markdown",
   "metadata": {},
   "source": [
    "**Performance XGB2:** Calculamos las métricas. 5-Fold CV con F1-score."
   ]
  },
  {
   "cell_type": "code",
   "execution_count": 112,
   "metadata": {
    "scrolled": true
   },
   "outputs": [
    {
     "name": "stdout",
     "output_type": "stream",
     "text": [
      "[0.676, 0.647, 0.56, 0.662, 0.597]\n",
      "Performance f1-score: 0.628\n"
     ]
    }
   ],
   "source": [
    "# 5-Folds Cross Validation\n",
    "X_cv = Xs2.copy()\n",
    "y_cv = ys2.copy()\n",
    "modelo = modeloXGB2\n",
    "k = KFold(n_splits=5, shuffle=False, random_state=55)\n",
    "\n",
    "sum = 0\n",
    "metrica_list = []\n",
    "for train, test in k.split(X_cv):\n",
    "    Xcv_train = np.array(X_cv)[train]\n",
    "    Xcv_test = np.array(X_cv)[test]\n",
    "    ycv_train = np.array(y_cv)[train]\n",
    "    ycv_test = np.array(y_cv)[test]\n",
    "    modelo.fit(Xcv_train, ycv_train)\n",
    "    pred_cv = modelo.predict(Xcv_test)\n",
    "    metrica_cv = float(f1_score(ycv_test, pred_cv))\n",
    "    metrica_list.append(round(metrica_cv,3))\n",
    "    sum += metrica_cv\n",
    "    cv_valXGB2 = sum/5\n",
    "print(metrica_list)\n",
    "print(\"Performance f1-score:\", round(cv_valXGB2,3))"
   ]
  },
  {
   "cell_type": "code",
   "execution_count": 113,
   "metadata": {},
   "outputs": [
    {
     "data": {
      "text/plain": [
       "XGBClassifier(base_score=0.5, booster='gbtree', colsample_bylevel=1,\n",
       "       colsample_bynode=1, colsample_bytree=0.2357, gamma=0,\n",
       "       learning_rate=0.1, max_delta_step=0, max_depth=8,\n",
       "       min_child_weight=1, missing=None, n_estimators=100, n_jobs=1,\n",
       "       nthread=None, objective='binary:logistic', random_state=55,\n",
       "       reg_alpha=0, reg_lambda=1, scale_pos_weight=1, seed=55, silent=None,\n",
       "       subsample=1, verbosity=1)"
      ]
     },
     "execution_count": 113,
     "metadata": {},
     "output_type": "execute_result"
    }
   ],
   "source": [
    "Xs2 = X_dev.copy()\n",
    "ys2 = y_dev.copy()\n",
    "Xs2_train, Xs2_val, ys2_train, ys2_val = train_test_split(Xs2, ys2, test_size=0.20, random_state=55)\n",
    "modeloXGB2 = xgb.XGBClassifier(max_depth=8, random_state=55, seed=55, colsample_bytree = 0.2357)\n",
    "modeloXGB2.fit(Xs2_train, ys2_train)"
   ]
  },
  {
   "cell_type": "code",
   "execution_count": 114,
   "metadata": {},
   "outputs": [],
   "source": [
    "# Las predicciones del modelo\n",
    "predXGB2 = modeloXGB2.predict(Xs2_val)\n",
    "\n",
    "# Accuracy\n",
    "acc_valXGB2 = accuracy_score(ys2_val, predXGB2)\n",
    "\n",
    "# Recall\n",
    "rec_valXGB2 = recall_score(ys2_val, predXGB2) \n",
    "\n",
    "# Precision\n",
    "prec_valXGB2 = precision_score(ys2_val, predXGB2) \n",
    "\n",
    "# F1\n",
    "f1_valXGB2 = f1_score(ys2_val, predXGB2)"
   ]
  },
  {
   "cell_type": "code",
   "execution_count": 115,
   "metadata": {
    "scrolled": true
   },
   "outputs": [
    {
     "data": {
      "image/png": "[encoded data removed]",
      "text/plain": [
       "<Figure size 360x360 with 2 Axes>"
      ]
     },
     "metadata": {
      "needs_background": "light"
     },
     "output_type": "display_data"
    }
   ],
   "source": [
    "# La matriz de confusión (TP, FP, TN, FN)\n",
    "cm_valXGB2 = confusion_matrix(ys2_val, predXGB2)\n",
    "\n",
    "# Los valores de la matriz\n",
    "FP_valXGB2 = cm_valXGB2[1,0]\n",
    "FN_valXGB2 = cm_valXGB2[0,1]\n",
    "TP_valXGB2 = cm_valXGB2[0,0]\n",
    "TN_valXGB2 = cm_valXGB2[1,1]\n",
    "\n",
    "# Gráfico de la matrix\n",
    "confusion(ys2_val, predXGB2)"
   ]
  },
  {
   "cell_type": "code",
   "execution_count": 116,
   "metadata": {
    "scrolled": true
   },
   "outputs": [
    {
     "data": {
      "text/plain": [
       "{'base_score': 0.5,\n",
       " 'booster': 'gbtree',\n",
       " 'colsample_bylevel': 1,\n",
       " 'colsample_bynode': 1,\n",
       " 'colsample_bytree': 0.2357,\n",
       " 'gamma': 0,\n",
       " 'learning_rate': 0.1,\n",
       " 'max_delta_step': 0,\n",
       " 'max_depth': 8,\n",
       " 'min_child_weight': 1,\n",
       " 'missing': None,\n",
       " 'n_estimators': 100,\n",
       " 'n_jobs': 1,\n",
       " 'nthread': None,\n",
       " 'objective': 'binary:logistic',\n",
       " 'random_state': 55,\n",
       " 'reg_alpha': 0,\n",
       " 'reg_lambda': 1,\n",
       " 'scale_pos_weight': 1,\n",
       " 'seed': 55,\n",
       " 'silent': None,\n",
       " 'subsample': 1,\n",
       " 'verbosity': 1}"
      ]
     },
     "execution_count": 116,
     "metadata": {},
     "output_type": "execute_result"
    }
   ],
   "source": [
    "modeloXGB2.get_params()"
   ]
  },
  {
   "cell_type": "markdown",
   "metadata": {},
   "source": [
    "**Grid Search 1:** vamos ajustando de a un parámetro. Usamos los parámetros del árbol que mejor nos dio, Fijamos n_estimators=1000, gamma=0, learning_rate=0.1. Ajustamos **min_child_weight**."
   ]
  },
  {
   "cell_type": "code",
   "execution_count": 93,
   "metadata": {},
   "outputs": [
    {
     "name": "stdout",
     "output_type": "stream",
     "text": [
      "{'min_child_weight': array([1, 2, 3, 4, 5])}\n"
     ]
    }
   ],
   "source": [
    "param_grid5 = {'min_child_weight':np.arange(1,6,1)}\n",
    "\n",
    "print(param_grid5)"
   ]
  },
  {
   "cell_type": "code",
   "execution_count": 94,
   "metadata": {},
   "outputs": [],
   "source": [
    "XGB_GS1 = GridSearchCV(xgb.XGBClassifier(max_depth=8, random_state=55, seed=55, colsample_bytree = 0.2357, n_estimators=1000, gamma=0, learning_rate=0.1, criterion=\"entropy\"), \n",
    "                           param_grid5, scoring=\"f1\", cv=5, n_jobs = -1, iid=False, verbose=10)"
   ]
  },
  {
   "cell_type": "code",
   "execution_count": 69,
   "metadata": {
    "scrolled": false
   },
   "outputs": [
    {
     "name": "stdout",
     "output_type": "stream",
     "text": [
      "Fitting 5 folds for each of 5 candidates, totalling 25 fits\n"
     ]
    },
    {
     "name": "stderr",
     "output_type": "stream",
     "text": [
      "[Parallel(n_jobs=-1)]: Using backend LokyBackend with 4 concurrent workers.\n",
      "[Parallel(n_jobs=-1)]: Done   5 tasks      | elapsed:    1.0s\n",
      "[Parallel(n_jobs=-1)]: Done  10 tasks      | elapsed:    1.6s\n",
      "[Parallel(n_jobs=-1)]: Done  17 tasks      | elapsed:    2.6s\n",
      "[Parallel(n_jobs=-1)]: Done  21 out of  25 | elapsed:    3.1s remaining:    0.5s\n",
      "[Parallel(n_jobs=-1)]: Done  25 out of  25 | elapsed:    3.5s finished\n"
     ]
    },
    {
     "data": {
      "text/plain": [
       "GridSearchCV(cv=5, error_score='raise-deprecating',\n",
       "       estimator=XGBClassifier(base_score=0.5, booster='gbtree', colsample_bylevel=1,\n",
       "       colsample_bynode=1, colsample_bytree=0.2357, criterion='entropy',\n",
       "       gamma=0, learning_rate=0.1, max_delta_step=0, max_depth=8,\n",
       "       min_child_weight=1, missing=None, n_estimators=1000, n_jobs=1,\n",
       "       nthread=None, objective='binary:logistic', random_state=55,\n",
       "       reg_alpha=0, reg_lambda=1, scale_pos_weight=1, seed=55, silent=None,\n",
       "       subsample=1, verbosity=1),\n",
       "       fit_params=None, iid=False, n_jobs=-1,\n",
       "       param_grid={'min_child_weight': array([1, 2, 3, 4, 5])},\n",
       "       pre_dispatch='2*n_jobs', refit=True, return_train_score='warn',\n",
       "       scoring='f1', verbose=10)"
      ]
     },
     "execution_count": 69,
     "metadata": {},
     "output_type": "execute_result"
    }
   ],
   "source": [
    "XGB_GS1.fit(Xs_train, ys_train)"
   ]
  },
  {
   "cell_type": "code",
   "execution_count": 70,
   "metadata": {
    "scrolled": true
   },
   "outputs": [
    {
     "name": "stdout",
     "output_type": "stream",
     "text": [
      "0.5984816555050001\n",
      "{'min_child_weight': 2}\n"
     ]
    }
   ],
   "source": [
    "print(XGB_GS1.best_score_)\n",
    "print(XGB_GS1.best_params_)"
   ]
  },
  {
   "cell_type": "markdown",
   "metadata": {},
   "source": [
    "**Grid Search 2:** Fijamos min_child_weight=2, n_estimators=1000, learning_rate=0.1. Ajustamos **gamma**."
   ]
  },
  {
   "cell_type": "code",
   "execution_count": 95,
   "metadata": {},
   "outputs": [
    {
     "name": "stdout",
     "output_type": "stream",
     "text": [
      "{'gamma': [0.0, 0.1, 0.2, 0.3, 0.4]}\n"
     ]
    }
   ],
   "source": [
    "param_grid6 = {'gamma':[i/10.0 for i in range(0,5)]}\n",
    "\n",
    "print(param_grid6)"
   ]
  },
  {
   "cell_type": "code",
   "execution_count": 96,
   "metadata": {},
   "outputs": [],
   "source": [
    "XGB_GS2 = GridSearchCV(xgb.XGBClassifier(max_depth=8, random_state=55, seed=55, colsample_bytree = 0.2357, min_child_weight=2, n_estimators=1000, learning_rate=0.1, criterion=\"entropy\"), \n",
    "                           param_grid6, scoring=\"f1\", cv=5, n_jobs = -1, iid=False, verbose=10)"
   ]
  },
  {
   "cell_type": "code",
   "execution_count": 74,
   "metadata": {
    "scrolled": false
   },
   "outputs": [
    {
     "name": "stdout",
     "output_type": "stream",
     "text": [
      "Fitting 5 folds for each of 5 candidates, totalling 25 fits\n"
     ]
    },
    {
     "name": "stderr",
     "output_type": "stream",
     "text": [
      "[Parallel(n_jobs=-1)]: Using backend LokyBackend with 4 concurrent workers.\n",
      "[Parallel(n_jobs=-1)]: Done   5 tasks      | elapsed:    0.9s\n",
      "[Parallel(n_jobs=-1)]: Done  10 tasks      | elapsed:    1.5s\n",
      "[Parallel(n_jobs=-1)]: Done  17 tasks      | elapsed:    2.5s\n",
      "[Parallel(n_jobs=-1)]: Done  21 out of  25 | elapsed:    3.0s remaining:    0.5s\n",
      "[Parallel(n_jobs=-1)]: Done  25 out of  25 | elapsed:    3.5s finished\n"
     ]
    },
    {
     "data": {
      "text/plain": [
       "GridSearchCV(cv=5, error_score='raise-deprecating',\n",
       "       estimator=XGBClassifier(base_score=0.5, booster='gbtree', colsample_bylevel=1,\n",
       "       colsample_bynode=1, colsample_bytree=0.2357, criterion='entropy',\n",
       "       gamma=0, learning_rate=0.1, max_delta_step=0, max_depth=8,\n",
       "       min_child_weight=2, missing=None, n_estimators=1000, n_jobs=1,\n",
       "       nthread=None, objective='binary:logistic', random_state=55,\n",
       "       reg_alpha=0, reg_lambda=1, scale_pos_weight=1, seed=55, silent=None,\n",
       "       subsample=1, verbosity=1),\n",
       "       fit_params=None, iid=False, n_jobs=-1,\n",
       "       param_grid={'gamma': [0.0, 0.1, 0.2, 0.3, 0.4]},\n",
       "       pre_dispatch='2*n_jobs', refit=True, return_train_score='warn',\n",
       "       scoring='f1', verbose=10)"
      ]
     },
     "execution_count": 74,
     "metadata": {},
     "output_type": "execute_result"
    }
   ],
   "source": [
    "XGB_GS2.fit(Xs_train, ys_train)"
   ]
  },
  {
   "cell_type": "code",
   "execution_count": 75,
   "metadata": {
    "scrolled": true
   },
   "outputs": [
    {
     "name": "stdout",
     "output_type": "stream",
     "text": [
      "0.6153842298238146\n",
      "{'gamma': 0.4}\n"
     ]
    }
   ],
   "source": [
    "print(XGB_GS2.best_score_)\n",
    "print(XGB_GS2.best_params_)"
   ]
  },
  {
   "cell_type": "markdown",
   "metadata": {},
   "source": [
    "**Grid Search 3:** Fijamos gamma=0.4, min_child_weight=2, n_estimators=1000. Ajustamos **learning_rate**."
   ]
  },
  {
   "cell_type": "code",
   "execution_count": 97,
   "metadata": {},
   "outputs": [
    {
     "name": "stdout",
     "output_type": "stream",
     "text": [
      "{'learning_rate': array([0.01, 0.02, 0.03, 0.04, 0.05, 0.06, 0.07, 0.08, 0.09, 0.1 , 0.11,\n",
      "       0.12, 0.13, 0.14, 0.15, 0.16, 0.17, 0.18, 0.19, 0.2 , 0.21, 0.22,\n",
      "       0.23, 0.24, 0.25, 0.26, 0.27, 0.28, 0.29])}\n"
     ]
    }
   ],
   "source": [
    "param_grid7 = {'learning_rate':np.arange(0.01,0.3,0.01)}\n",
    "\n",
    "print(param_grid7)"
   ]
  },
  {
   "cell_type": "code",
   "execution_count": 77,
   "metadata": {},
   "outputs": [],
   "source": [
    "XGB_GS3 = GridSearchCV(xgb.XGBClassifier(max_depth=8, random_state=55, seed=55, colsample_bytree = 0.2357, min_child_weight=2, n_estimators=1000, gamma=0.4,criterion=\"entropy\"), \n",
    "                           param_grid7, scoring=\"f1\", cv=5, n_jobs = -1, iid=False, verbose=10)"
   ]
  },
  {
   "cell_type": "code",
   "execution_count": 78,
   "metadata": {
    "scrolled": false
   },
   "outputs": [
    {
     "name": "stdout",
     "output_type": "stream",
     "text": [
      "Fitting 5 folds for each of 29 candidates, totalling 145 fits\n"
     ]
    },
    {
     "name": "stderr",
     "output_type": "stream",
     "text": [
      "[Parallel(n_jobs=-1)]: Using backend LokyBackend with 4 concurrent workers.\n",
      "[Parallel(n_jobs=-1)]: Done   5 tasks      | elapsed:    1.2s\n",
      "[Parallel(n_jobs=-1)]: Done  10 tasks      | elapsed:    1.8s\n",
      "[Parallel(n_jobs=-1)]: Done  17 tasks      | elapsed:    2.9s\n",
      "[Parallel(n_jobs=-1)]: Done  24 tasks      | elapsed:    3.6s\n",
      "[Parallel(n_jobs=-1)]: Done  33 tasks      | elapsed:    5.2s\n",
      "[Parallel(n_jobs=-1)]: Done  42 tasks      | elapsed:    6.3s\n",
      "[Parallel(n_jobs=-1)]: Done  53 tasks      | elapsed:    7.9s\n",
      "[Parallel(n_jobs=-1)]: Done  64 tasks      | elapsed:    9.0s\n",
      "[Parallel(n_jobs=-1)]: Done  77 tasks      | elapsed:   11.0s\n",
      "[Parallel(n_jobs=-1)]: Done  90 tasks      | elapsed:   12.6s\n",
      "[Parallel(n_jobs=-1)]: Done 105 tasks      | elapsed:   14.7s\n",
      "[Parallel(n_jobs=-1)]: Done 120 tasks      | elapsed:   16.6s\n",
      "[Parallel(n_jobs=-1)]: Done 137 tasks      | elapsed:   18.8s\n",
      "[Parallel(n_jobs=-1)]: Done 145 out of 145 | elapsed:   19.7s finished\n"
     ]
    },
    {
     "data": {
      "text/plain": [
       "GridSearchCV(cv=5, error_score='raise-deprecating',\n",
       "       estimator=XGBClassifier(base_score=0.5, booster='gbtree', colsample_bylevel=1,\n",
       "       colsample_bynode=1, colsample_bytree=0.2357, criterion='entropy',\n",
       "       gamma=0.4, learning_rate=0.1, max_delta_step=0, max_depth=8,\n",
       "       min_child_weight=2, missing=None, n_estimators=1000, n_jobs=1,\n",
       "       nthread=None, objective='binary:logistic', random_state=55,\n",
       "       reg_alpha=0, reg_lambda=1, scale_pos_weight=1, seed=55, silent=None,\n",
       "       subsample=1, verbosity=1),\n",
       "       fit_params=None, iid=False, n_jobs=-1,\n",
       "       param_grid={'learning_rate': array([0.01, 0.02, 0.03, 0.04, 0.05, 0.06, 0.07, 0.08, 0.09, 0.1 , 0.11,\n",
       "       0.12, 0.13, 0.14, 0.15, 0.16, 0.17, 0.18, 0.19, 0.2 , 0.21, 0.22,\n",
       "       0.23, 0.24, 0.25, 0.26, 0.27, 0.28, 0.29])},\n",
       "       pre_dispatch='2*n_jobs', refit=True, return_train_score='warn',\n",
       "       scoring='f1', verbose=10)"
      ]
     },
     "execution_count": 78,
     "metadata": {},
     "output_type": "execute_result"
    }
   ],
   "source": [
    "XGB_GS3.fit(Xs_train, ys_train)"
   ]
  },
  {
   "cell_type": "code",
   "execution_count": 79,
   "metadata": {
    "scrolled": true
   },
   "outputs": [
    {
     "name": "stdout",
     "output_type": "stream",
     "text": [
      "0.6214928741401542\n",
      "{'learning_rate': 0.24000000000000002}\n"
     ]
    }
   ],
   "source": [
    "print(XGB_GS3.best_score_)\n",
    "print(XGB_GS3.best_params_)"
   ]
  },
  {
   "cell_type": "markdown",
   "metadata": {},
   "source": [
    "**Grid Search 4:** Fijamos learning_rate=0.24, gamma=0.4, min_child_weight=2. Ajustamos **n_estimators**."
   ]
  },
  {
   "cell_type": "code",
   "execution_count": 80,
   "metadata": {},
   "outputs": [
    {
     "name": "stdout",
     "output_type": "stream",
     "text": [
      "{'n_estimators': array([ 100,  101,  102, ..., 1998, 1999, 2000])}\n"
     ]
    }
   ],
   "source": [
    "param_grid8 = {'n_estimators':np.arange(100,2001,1)}\n",
    "\n",
    "print(param_grid8)"
   ]
  },
  {
   "cell_type": "code",
   "execution_count": 83,
   "metadata": {},
   "outputs": [],
   "source": [
    "XGB_GS4 = GridSearchCV(xgb.XGBClassifier(max_depth=8, random_state=55, seed=55, colsample_bytree = 0.2357, min_child_weight=2, gamma=0.4, learning_rate=0.24, criterion=\"entropy\"), \n",
    "                           param_grid8, scoring=\"f1\", cv=5, n_jobs = -1, iid=False, verbose=10)"
   ]
  },
  {
   "cell_type": "code",
   "execution_count": 84,
   "metadata": {
    "scrolled": true
   },
   "outputs": [
    {
     "name": "stdout",
     "output_type": "stream",
     "text": [
      "Fitting 5 folds for each of 1901 candidates, totalling 9505 fits\n"
     ]
    },
    {
     "name": "stderr",
     "output_type": "stream",
     "text": [
      "[Parallel(n_jobs=-1)]: Using backend LokyBackend with 4 concurrent workers.\n",
      "[Parallel(n_jobs=-1)]: Batch computation too fast (0.0936s.) Setting batch_size=4.\n",
      "[Parallel(n_jobs=-1)]: Done   5 tasks      | elapsed:    0.1s\n",
      "[Parallel(n_jobs=-1)]: Done  16 tasks      | elapsed:    0.4s\n",
      "[Parallel(n_jobs=-1)]: Done  44 tasks      | elapsed:    0.9s\n",
      "[Parallel(n_jobs=-1)]: Done  72 tasks      | elapsed:    3.8s\n",
      "[Parallel(n_jobs=-1)]: Batch computation too slow (2.1331s.) Setting batch_size=2.\n",
      "[Parallel(n_jobs=-1)]: Done 104 tasks      | elapsed:    4.3s\n",
      "[Parallel(n_jobs=-1)]: Done 122 tasks      | elapsed:    4.6s\n",
      "[Parallel(n_jobs=-1)]: Done 144 tasks      | elapsed:    5.1s\n",
      "[Parallel(n_jobs=-1)]: Done 166 tasks      | elapsed:    5.6s\n",
      "[Parallel(n_jobs=-1)]: Done 192 tasks      | elapsed:    6.2s\n",
      "[Parallel(n_jobs=-1)]: Done 218 tasks      | elapsed:    6.8s\n",
      "[Parallel(n_jobs=-1)]: Done 248 tasks      | elapsed:    7.5s\n",
      "[Parallel(n_jobs=-1)]: Done 278 tasks      | elapsed:    8.2s\n",
      "[Parallel(n_jobs=-1)]: Done 312 tasks      | elapsed:    9.1s\n",
      "[Parallel(n_jobs=-1)]: Done 346 tasks      | elapsed:   10.0s\n",
      "[Parallel(n_jobs=-1)]: Done 384 tasks      | elapsed:   11.1s\n",
      "[Parallel(n_jobs=-1)]: Done 422 tasks      | elapsed:   12.1s\n",
      "[Parallel(n_jobs=-1)]: Done 464 tasks      | elapsed:   13.5s\n",
      "[Parallel(n_jobs=-1)]: Done 506 tasks      | elapsed:   14.8s\n",
      "[Parallel(n_jobs=-1)]: Done 552 tasks      | elapsed:   16.4s\n",
      "[Parallel(n_jobs=-1)]: Done 598 tasks      | elapsed:   17.8s\n",
      "[Parallel(n_jobs=-1)]: Done 648 tasks      | elapsed:   19.7s\n",
      "[Parallel(n_jobs=-1)]: Done 698 tasks      | elapsed:   21.4s\n",
      "[Parallel(n_jobs=-1)]: Done 752 tasks      | elapsed:   23.5s\n",
      "[Parallel(n_jobs=-1)]: Done 806 tasks      | elapsed:   25.5s\n",
      "[Parallel(n_jobs=-1)]: Done 864 tasks      | elapsed:   27.9s\n",
      "[Parallel(n_jobs=-1)]: Done 922 tasks      | elapsed:   30.3s\n",
      "[Parallel(n_jobs=-1)]: Done 984 tasks      | elapsed:   33.0s\n",
      "[Parallel(n_jobs=-1)]: Done 1046 tasks      | elapsed:   35.8s\n",
      "[Parallel(n_jobs=-1)]: Done 1112 tasks      | elapsed:   39.0s\n",
      "[Parallel(n_jobs=-1)]: Done 1178 tasks      | elapsed:   42.3s\n",
      "[Parallel(n_jobs=-1)]: Done 1248 tasks      | elapsed:   45.8s\n",
      "[Parallel(n_jobs=-1)]: Done 1318 tasks      | elapsed:   49.3s\n",
      "[Parallel(n_jobs=-1)]: Done 1392 tasks      | elapsed:   53.1s\n",
      "[Parallel(n_jobs=-1)]: Done 1466 tasks      | elapsed:   57.3s\n",
      "[Parallel(n_jobs=-1)]: Done 1544 tasks      | elapsed:  1.0min\n",
      "[Parallel(n_jobs=-1)]: Done 1622 tasks      | elapsed:  1.1min\n",
      "[Parallel(n_jobs=-1)]: Done 1704 tasks      | elapsed:  1.2min\n",
      "[Parallel(n_jobs=-1)]: Done 1786 tasks      | elapsed:  1.3min\n",
      "[Parallel(n_jobs=-1)]: Done 1872 tasks      | elapsed:  1.4min\n",
      "[Parallel(n_jobs=-1)]: Done 1958 tasks      | elapsed:  1.5min\n",
      "[Parallel(n_jobs=-1)]: Done 2048 tasks      | elapsed:  1.6min\n",
      "[Parallel(n_jobs=-1)]: Done 2138 tasks      | elapsed:  1.7min\n",
      "[Parallel(n_jobs=-1)]: Done 2232 tasks      | elapsed:  1.8min\n",
      "[Parallel(n_jobs=-1)]: Done 2326 tasks      | elapsed:  1.9min\n",
      "[Parallel(n_jobs=-1)]: Done 2424 tasks      | elapsed:  2.0min\n",
      "[Parallel(n_jobs=-1)]: Done 2522 tasks      | elapsed:  2.1min\n",
      "[Parallel(n_jobs=-1)]: Done 2624 tasks      | elapsed:  2.3min\n",
      "[Parallel(n_jobs=-1)]: Done 2726 tasks      | elapsed:  2.4min\n",
      "[Parallel(n_jobs=-1)]: Done 2832 tasks      | elapsed:  2.6min\n",
      "[Parallel(n_jobs=-1)]: Done 2938 tasks      | elapsed:  2.7min\n",
      "[Parallel(n_jobs=-1)]: Done 3048 tasks      | elapsed:  2.9min\n",
      "[Parallel(n_jobs=-1)]: Done 3158 tasks      | elapsed:  3.1min\n",
      "[Parallel(n_jobs=-1)]: Done 3272 tasks      | elapsed:  3.3min\n",
      "[Parallel(n_jobs=-1)]: Done 3386 tasks      | elapsed:  3.5min\n",
      "[Parallel(n_jobs=-1)]: Done 3504 tasks      | elapsed:  3.7min\n",
      "[Parallel(n_jobs=-1)]: Done 3622 tasks      | elapsed:  3.9min\n",
      "[Parallel(n_jobs=-1)]: Done 3744 tasks      | elapsed:  4.1min\n",
      "[Parallel(n_jobs=-1)]: Done 3866 tasks      | elapsed:  4.3min\n",
      "[Parallel(n_jobs=-1)]: Batch computation too slow (2.0524s.) Setting batch_size=1.\n",
      "[Parallel(n_jobs=-1)]: Done 3942 tasks      | elapsed:  4.5min\n",
      "[Parallel(n_jobs=-1)]: Done 4005 tasks      | elapsed:  4.6min\n",
      "[Parallel(n_jobs=-1)]: Done 4070 tasks      | elapsed:  4.7min\n",
      "[Parallel(n_jobs=-1)]: Done 4135 tasks      | elapsed:  4.8min\n",
      "[Parallel(n_jobs=-1)]: Done 4202 tasks      | elapsed:  5.0min\n",
      "[Parallel(n_jobs=-1)]: Done 4269 tasks      | elapsed:  5.1min\n",
      "[Parallel(n_jobs=-1)]: Done 4338 tasks      | elapsed:  5.2min\n",
      "[Parallel(n_jobs=-1)]: Done 4407 tasks      | elapsed:  5.4min\n",
      "[Parallel(n_jobs=-1)]: Done 4478 tasks      | elapsed:  5.5min\n",
      "[Parallel(n_jobs=-1)]: Done 4549 tasks      | elapsed:  5.7min\n",
      "[Parallel(n_jobs=-1)]: Done 4622 tasks      | elapsed:  5.8min\n",
      "[Parallel(n_jobs=-1)]: Done 4695 tasks      | elapsed:  6.0min\n",
      "[Parallel(n_jobs=-1)]: Done 4770 tasks      | elapsed:  6.1min\n",
      "[Parallel(n_jobs=-1)]: Done 4845 tasks      | elapsed:  6.3min\n",
      "[Parallel(n_jobs=-1)]: Done 4922 tasks      | elapsed:  6.5min\n",
      "[Parallel(n_jobs=-1)]: Done 4999 tasks      | elapsed:  6.7min\n",
      "[Parallel(n_jobs=-1)]: Done 5078 tasks      | elapsed:  6.8min\n",
      "[Parallel(n_jobs=-1)]: Done 5157 tasks      | elapsed:  7.0min\n",
      "[Parallel(n_jobs=-1)]: Done 5238 tasks      | elapsed:  7.2min\n",
      "[Parallel(n_jobs=-1)]: Done 5319 tasks      | elapsed:  7.4min\n",
      "[Parallel(n_jobs=-1)]: Done 5402 tasks      | elapsed:  7.6min\n",
      "[Parallel(n_jobs=-1)]: Done 5485 tasks      | elapsed:  7.8min\n",
      "[Parallel(n_jobs=-1)]: Done 5570 tasks      | elapsed:  8.0min\n",
      "[Parallel(n_jobs=-1)]: Done 5655 tasks      | elapsed:  8.2min\n",
      "[Parallel(n_jobs=-1)]: Done 5742 tasks      | elapsed:  8.5min\n",
      "[Parallel(n_jobs=-1)]: Done 5829 tasks      | elapsed:  8.7min\n",
      "[Parallel(n_jobs=-1)]: Done 5918 tasks      | elapsed:  8.9min\n",
      "[Parallel(n_jobs=-1)]: Done 6007 tasks      | elapsed:  9.1min\n",
      "[Parallel(n_jobs=-1)]: Done 6098 tasks      | elapsed:  9.4min\n",
      "[Parallel(n_jobs=-1)]: Done 6189 tasks      | elapsed:  9.6min\n",
      "[Parallel(n_jobs=-1)]: Done 6282 tasks      | elapsed:  9.9min\n",
      "[Parallel(n_jobs=-1)]: Done 6375 tasks      | elapsed: 10.2min\n",
      "[Parallel(n_jobs=-1)]: Done 6470 tasks      | elapsed: 10.4min\n",
      "[Parallel(n_jobs=-1)]: Done 6565 tasks      | elapsed: 10.7min\n",
      "[Parallel(n_jobs=-1)]: Done 6662 tasks      | elapsed: 11.0min\n",
      "[Parallel(n_jobs=-1)]: Done 6759 tasks      | elapsed: 11.3min\n",
      "[Parallel(n_jobs=-1)]: Done 6858 tasks      | elapsed: 11.6min\n",
      "[Parallel(n_jobs=-1)]: Done 6957 tasks      | elapsed: 11.9min\n",
      "[Parallel(n_jobs=-1)]: Done 7058 tasks      | elapsed: 12.2min\n",
      "[Parallel(n_jobs=-1)]: Done 7159 tasks      | elapsed: 12.5min\n",
      "[Parallel(n_jobs=-1)]: Done 7262 tasks      | elapsed: 12.8min\n",
      "[Parallel(n_jobs=-1)]: Done 7365 tasks      | elapsed: 13.1min\n",
      "[Parallel(n_jobs=-1)]: Done 7470 tasks      | elapsed: 13.5min\n",
      "[Parallel(n_jobs=-1)]: Done 7575 tasks      | elapsed: 13.8min\n",
      "[Parallel(n_jobs=-1)]: Done 7682 tasks      | elapsed: 14.2min\n",
      "[Parallel(n_jobs=-1)]: Done 7789 tasks      | elapsed: 14.5min\n",
      "[Parallel(n_jobs=-1)]: Done 7898 tasks      | elapsed: 14.9min\n",
      "[Parallel(n_jobs=-1)]: Done 8007 tasks      | elapsed: 15.3min\n",
      "[Parallel(n_jobs=-1)]: Done 8118 tasks      | elapsed: 15.6min\n",
      "[Parallel(n_jobs=-1)]: Done 8229 tasks      | elapsed: 16.0min\n",
      "[Parallel(n_jobs=-1)]: Done 8342 tasks      | elapsed: 16.4min\n",
      "[Parallel(n_jobs=-1)]: Done 8455 tasks      | elapsed: 16.8min\n",
      "[Parallel(n_jobs=-1)]: Done 8570 tasks      | elapsed: 17.2min\n",
      "[Parallel(n_jobs=-1)]: Done 8685 tasks      | elapsed: 17.7min\n",
      "[Parallel(n_jobs=-1)]: Done 8802 tasks      | elapsed: 18.1min\n",
      "[Parallel(n_jobs=-1)]: Done 8919 tasks      | elapsed: 18.5min\n",
      "[Parallel(n_jobs=-1)]: Done 9038 tasks      | elapsed: 19.0min\n",
      "[Parallel(n_jobs=-1)]: Done 9157 tasks      | elapsed: 19.4min\n",
      "[Parallel(n_jobs=-1)]: Done 9278 tasks      | elapsed: 19.9min\n",
      "[Parallel(n_jobs=-1)]: Done 9399 tasks      | elapsed: 20.4min\n",
      "[Parallel(n_jobs=-1)]: Done 9505 out of 9505 | elapsed: 20.8min finished\n"
     ]
    },
    {
     "data": {
      "text/plain": [
       "GridSearchCV(cv=5, error_score='raise-deprecating',\n",
       "       estimator=XGBClassifier(base_score=0.5, booster='gbtree', colsample_bylevel=1,\n",
       "       colsample_bynode=1, colsample_bytree=0.2357, criterion='entropy',\n",
       "       gamma=0.4, learning_rate=0.24, max_delta_step=0, max_depth=8,\n",
       "       min_child_weight=2, missing=None, n_estimators=100, n_jobs=1,\n",
       "       nthread=None, objective='binary:logistic', random_state=55,\n",
       "       reg_alpha=0, reg_lambda=1, scale_pos_weight=1, seed=55, silent=None,\n",
       "       subsample=1, verbosity=1),\n",
       "       fit_params=None, iid=False, n_jobs=-1,\n",
       "       param_grid={'n_estimators': array([ 100,  101, ..., 1999, 2000])},\n",
       "       pre_dispatch='2*n_jobs', refit=True, return_train_score='warn',\n",
       "       scoring='f1', verbose=10)"
      ]
     },
     "execution_count": 84,
     "metadata": {},
     "output_type": "execute_result"
    }
   ],
   "source": [
    "XGB_GS4.fit(Xs_train, ys_train)"
   ]
  },
  {
   "cell_type": "code",
   "execution_count": 86,
   "metadata": {
    "scrolled": true
   },
   "outputs": [
    {
     "name": "stdout",
     "output_type": "stream",
     "text": [
      "0.6270180542175257\n",
      "{'n_estimators': 548}\n"
     ]
    }
   ],
   "source": [
    "print(XGB_GS4.best_score_)\n",
    "print(XGB_GS4.best_params_)"
   ]
  },
  {
   "cell_type": "markdown",
   "metadata": {},
   "source": [
    "**Entrenamiento XGB3:** Entrenamos el modelo con los parámetros encontrados."
   ]
  },
  {
   "cell_type": "code",
   "execution_count": 117,
   "metadata": {},
   "outputs": [],
   "source": [
    "modeloXGB3 = xgb.XGBClassifier(max_depth=8, random_state=55, seed=55, colsample_bytree = 0.2357, min_child_weight=2, gamma=0.4, learning_rate=0.24, n_estimators=548, criterion=\"entropy\")"
   ]
  },
  {
   "cell_type": "code",
   "execution_count": 118,
   "metadata": {
    "scrolled": false
   },
   "outputs": [
    {
     "data": {
      "text/plain": [
       "XGBClassifier(base_score=0.5, booster='gbtree', colsample_bylevel=1,\n",
       "       colsample_bynode=1, colsample_bytree=0.2357, criterion='entropy',\n",
       "       gamma=0.4, learning_rate=0.24, max_delta_step=0, max_depth=8,\n",
       "       min_child_weight=2, missing=None, n_estimators=548, n_jobs=1,\n",
       "       nthread=None, objective='binary:logistic', random_state=55,\n",
       "       reg_alpha=0, reg_lambda=1, scale_pos_weight=1, seed=55, silent=None,\n",
       "       subsample=1, verbosity=1)"
      ]
     },
     "execution_count": 118,
     "metadata": {},
     "output_type": "execute_result"
    }
   ],
   "source": [
    "modeloXGB3.fit(Xs2_train, ys2_train)"
   ]
  },
  {
   "cell_type": "markdown",
   "metadata": {},
   "source": [
    "**Performance XGB3:** Calculamos las métricas. 5-Fold CV con F1-score."
   ]
  },
  {
   "cell_type": "code",
   "execution_count": 119,
   "metadata": {
    "scrolled": true
   },
   "outputs": [
    {
     "name": "stdout",
     "output_type": "stream",
     "text": [
      "[0.695, 0.642, 0.579, 0.677, 0.608]\n",
      "Performance f1-score: 0.64\n"
     ]
    }
   ],
   "source": [
    "# 5-Folds Cross Validation\n",
    "X_cv = Xs2.copy()\n",
    "y_cv = ys2.copy()\n",
    "modelo = modeloXGB3\n",
    "k = KFold(n_splits=5, shuffle=False, random_state=55)\n",
    "\n",
    "sum = 0\n",
    "metrica_list = []\n",
    "for train, test in k.split(X_cv):\n",
    "    Xcv_train = np.array(X_cv)[train]\n",
    "    Xcv_test = np.array(X_cv)[test]\n",
    "    ycv_train = np.array(y_cv)[train]\n",
    "    ycv_test = np.array(y_cv)[test]\n",
    "    modelo.fit(Xcv_train, ycv_train)\n",
    "    pred_cv = modelo.predict(Xcv_test)\n",
    "    metrica_cv = float(f1_score(ycv_test, pred_cv))\n",
    "    metrica_list.append(round(metrica_cv,3))\n",
    "    sum += metrica_cv\n",
    "    cv_valXGB3 = sum/5\n",
    "print(metrica_list)\n",
    "print(\"Performance f1-score:\", round(cv_valXGB3,3))"
   ]
  },
  {
   "cell_type": "code",
   "execution_count": 120,
   "metadata": {},
   "outputs": [
    {
     "data": {
      "text/plain": [
       "XGBClassifier(base_score=0.5, booster='gbtree', colsample_bylevel=1,\n",
       "       colsample_bynode=1, colsample_bytree=0.2357, gamma=0.4,\n",
       "       learning_rate=0.24, max_delta_step=0, max_depth=8,\n",
       "       min_child_weight=2, missing=None, n_estimators=548, n_jobs=1,\n",
       "       nthread=None, objective='binary:logistic', random_state=55,\n",
       "       reg_alpha=0, reg_lambda=1, scale_pos_weight=1, seed=55, silent=None,\n",
       "       subsample=1, verbosity=1)"
      ]
     },
     "execution_count": 120,
     "metadata": {},
     "output_type": "execute_result"
    }
   ],
   "source": [
    "Xs2 = X_dev.copy()\n",
    "ys2 = y_dev.copy()\n",
    "Xs2_train, Xs2_val, ys2_train, ys2_val = train_test_split(Xs2, ys2, test_size=0.20, random_state=55)\n",
    "modeloXGB3 = xgb.XGBClassifier(max_depth=8, random_state=55, seed=55, colsample_bytree = 0.2357, min_child_weight=2, gamma=0.4, learning_rate=0.24, n_estimators=548)\n",
    "modeloXGB3.fit(Xs2_train, ys2_train)"
   ]
  },
  {
   "cell_type": "code",
   "execution_count": 121,
   "metadata": {},
   "outputs": [],
   "source": [
    "# Las predicciones del modelo\n",
    "predXGB3 = modeloXGB3.predict(Xs2_val)\n",
    "\n",
    "# Accuracy\n",
    "acc_valXGB3 = accuracy_score(ys2_val, predXGB3)\n",
    "\n",
    "# Recall\n",
    "rec_valXGB3 = recall_score(ys2_val, predXGB3) \n",
    "\n",
    "# Precision\n",
    "prec_valXGB3 = precision_score(ys2_val, predXGB3) \n",
    "\n",
    "# F1\n",
    "f1_valXGB3 = f1_score(ys2_val, predXGB3)"
   ]
  },
  {
   "cell_type": "code",
   "execution_count": 122,
   "metadata": {
    "scrolled": false
   },
   "outputs": [
    {
     "data": {
      "image/png": "[encoded data removed]",
      "text/plain": [
       "<Figure size 360x360 with 2 Axes>"
      ]
     },
     "metadata": {
      "needs_background": "light"
     },
     "output_type": "display_data"
    }
   ],
   "source": [
    "# La matriz de confusión (TP, FP, TN, FN)\n",
    "cm_valXGB3 = confusion_matrix(ys2_val, predXGB3)\n",
    "\n",
    "# Los valores de la matriz\n",
    "FP_valXGB3 = cm_valXGB3[1,0]\n",
    "FN_valXGB3 = cm_valXGB3[0,1]\n",
    "TP_valXGB3 = cm_valXGB3[0,0]\n",
    "TN_valXGB3 = cm_valXGB3[1,1]\n",
    "\n",
    "# Gráfico de la matrix\n",
    "confusion(ys2_val, predXGB3)"
   ]
  },
  {
   "cell_type": "code",
   "execution_count": 123,
   "metadata": {
    "scrolled": true
   },
   "outputs": [
    {
     "data": {
      "text/plain": [
       "[Text(0, 0, 'Ingreso Formal'),\n",
       " Text(0, 0, 'Trimestre Entrega'),\n",
       " Text(0, 0, 'Informa Tel Particular'),\n",
       " Text(0, 0, 'Informa Tel Alternativo'),\n",
       " Text(0, 0, 'Puesto Laboral'),\n",
       " Text(0, 0, 'Edad'),\n",
       " Text(0, 0, 'Cantidad Cuotas'),\n",
       " Text(0, 0, 'Importe Cuota'),\n",
       " Text(0, 0, 'Capital Entregado '),\n",
       " Text(0, 0, 'Informa Email'),\n",
       " Text(0, 0, 'Informa Nombre Jefe'),\n",
       " Text(0, 0, 'Interes Mensual'),\n",
       " Text(0, 0, 'Zona Residencia'),\n",
       " Text(0, 0, 'Sucursal'),\n",
       " Text(0, 0, 'Sexo'),\n",
       " Text(0, 0, 'Nacionalidad'),\n",
       " Text(0, 0, 'Informa Celular')]"
      ]
     },
     "execution_count": 123,
     "metadata": {},
     "output_type": "execute_result"
    },
    {
     "data": {
      "image/png": "[encoded data removed]",
      "text/plain": [
       "<Figure size 432x288 with 1 Axes>"
      ]
     },
     "metadata": {
      "needs_background": "light"
     },
     "output_type": "display_data"
    }
   ],
   "source": [
    "# Importancia de los atributos en el modelo\n",
    "importancesXGB3 = list(zip(modeloXGB3.feature_importances_, df.columns))\n",
    "importancesXGB3.sort(reverse=True)\n",
    "importancesXGB3 = pd.DataFrame(importancesXGB3)\n",
    "importancesXGB3.columns = [\"importance\",\"feature\"]\n",
    "\n",
    "sns.barplot(x=\"feature\", y=\"importance\", data=importancesXGB3, palette=\"magma\").set_xticklabels(list(importancesXGB3[\"feature\"]), rotation=90)"
   ]
  },
  {
   "cell_type": "markdown",
   "metadata": {},
   "source": [
    "**Resumen de modelos:** tabla comparativa de performance de modelos XGB en validación."
   ]
  },
  {
   "cell_type": "code",
   "execution_count": 124,
   "metadata": {},
   "outputs": [],
   "source": [
    "performance_valXGB1 = [TP_valXGB1, FP_valXGB1, TN_valXGB1, FN_valXGB1, cv_valXGB1, acc_valXGB1, rec_valXGB1, prec_valXGB1, f1_valXGB1]\n",
    "performance_valXGB2 = [TP_valXGB2, FP_valXGB2, TN_valXGB2, FN_valXGB2, cv_valXGB2, acc_valXGB2, rec_valXGB2, prec_valXGB2, f1_valXGB2]\n",
    "performance_valXGB3 = [TP_valXGB3, FP_valXGB3, TN_valXGB3, FN_valXGB3, cv_valXGB3, acc_valXGB3, rec_valXGB3, prec_valXGB3, f1_valXGB3]"
   ]
  },
  {
   "cell_type": "code",
   "execution_count": 125,
   "metadata": {
    "scrolled": true
   },
   "outputs": [
    {
     "data": {
      "text/html": [
       "<div>\n",
       "<style scoped>\n",
       "    .dataframe tbody tr th:only-of-type {\n",
       "        vertical-align: middle;\n",
       "    }\n",
       "\n",
       "    .dataframe tbody tr th {\n",
       "        vertical-align: top;\n",
       "    }\n",
       "\n",
       "    .dataframe thead th {\n",
       "        text-align: right;\n",
       "    }\n",
       "</style>\n",
       "<table border=\"1\" class=\"dataframe\">\n",
       "  <thead>\n",
       "    <tr style=\"text-align: right;\">\n",
       "      <th></th>\n",
       "      <th>Medidas</th>\n",
       "      <th>XGB1</th>\n",
       "      <th>XGB2</th>\n",
       "      <th>XGB3</th>\n",
       "    </tr>\n",
       "  </thead>\n",
       "  <tbody>\n",
       "    <tr>\n",
       "      <th>0</th>\n",
       "      <td>TP</td>\n",
       "      <td>38.000</td>\n",
       "      <td>37.000</td>\n",
       "      <td>38.000</td>\n",
       "    </tr>\n",
       "    <tr>\n",
       "      <th>1</th>\n",
       "      <td>FP</td>\n",
       "      <td>34.000</td>\n",
       "      <td>29.000</td>\n",
       "      <td>24.000</td>\n",
       "    </tr>\n",
       "    <tr>\n",
       "      <th>2</th>\n",
       "      <td>TN</td>\n",
       "      <td>37.000</td>\n",
       "      <td>42.000</td>\n",
       "      <td>47.000</td>\n",
       "    </tr>\n",
       "    <tr>\n",
       "      <th>3</th>\n",
       "      <td>FN</td>\n",
       "      <td>20.000</td>\n",
       "      <td>21.000</td>\n",
       "      <td>20.000</td>\n",
       "    </tr>\n",
       "    <tr>\n",
       "      <th>4</th>\n",
       "      <td>5-folds CV (F1)</td>\n",
       "      <td>0.614</td>\n",
       "      <td>0.628</td>\n",
       "      <td>0.640</td>\n",
       "    </tr>\n",
       "    <tr>\n",
       "      <th>5</th>\n",
       "      <td>Accuracy</td>\n",
       "      <td>0.581</td>\n",
       "      <td>0.612</td>\n",
       "      <td>0.659</td>\n",
       "    </tr>\n",
       "    <tr>\n",
       "      <th>6</th>\n",
       "      <td>Recall</td>\n",
       "      <td>0.521</td>\n",
       "      <td>0.592</td>\n",
       "      <td>0.662</td>\n",
       "    </tr>\n",
       "    <tr>\n",
       "      <th>7</th>\n",
       "      <td>Precision</td>\n",
       "      <td>0.649</td>\n",
       "      <td>0.667</td>\n",
       "      <td>0.701</td>\n",
       "    </tr>\n",
       "    <tr>\n",
       "      <th>8</th>\n",
       "      <td>F1-Socre</td>\n",
       "      <td>0.578</td>\n",
       "      <td>0.627</td>\n",
       "      <td>0.681</td>\n",
       "    </tr>\n",
       "  </tbody>\n",
       "</table>\n",
       "</div>"
      ],
      "text/plain": [
       "           Medidas    XGB1    XGB2    XGB3\n",
       "0               TP  38.000  37.000  38.000\n",
       "1               FP  34.000  29.000  24.000\n",
       "2               TN  37.000  42.000  47.000\n",
       "3               FN  20.000  21.000  20.000\n",
       "4  5-folds CV (F1)   0.614   0.628   0.640\n",
       "5         Accuracy   0.581   0.612   0.659\n",
       "6           Recall   0.521   0.592   0.662\n",
       "7        Precision   0.649   0.667   0.701\n",
       "8         F1-Socre   0.578   0.627   0.681"
      ]
     },
     "execution_count": 125,
     "metadata": {},
     "output_type": "execute_result"
    }
   ],
   "source": [
    "Medidas = (\"TP\", \"FP\", \"TN\", \"FN\", \"5-folds CV (F1)\", \"Accuracy\", \"Recall\", \"Precision\", \"F1-Socre\")\n",
    "\n",
    "Tabla_per3 = pd.DataFrame({\"Medidas\": Medidas,\"XGB1\": performance_valXGB1, \"XGB2\": performance_valXGB2,\"XGB3\": performance_valXGB3})\n",
    "\n",
    "round(Tabla_per3,3)"
   ]
  },
  {
   "cell_type": "markdown",
   "metadata": {},
   "source": [
    "<h2>Comparación</h2>"
   ]
  },
  {
   "cell_type": "code",
   "execution_count": 128,
   "metadata": {},
   "outputs": [
    {
     "data": {
      "text/html": [
       "<div>\n",
       "<style scoped>\n",
       "    .dataframe tbody tr th:only-of-type {\n",
       "        vertical-align: middle;\n",
       "    }\n",
       "\n",
       "    .dataframe tbody tr th {\n",
       "        vertical-align: top;\n",
       "    }\n",
       "\n",
       "    .dataframe thead th {\n",
       "        text-align: right;\n",
       "    }\n",
       "</style>\n",
       "<table border=\"1\" class=\"dataframe\">\n",
       "  <thead>\n",
       "    <tr style=\"text-align: right;\">\n",
       "      <th></th>\n",
       "      <th>Medidas</th>\n",
       "      <th>Modelo 1: Random Forest</th>\n",
       "      <th>Modelo 2: Ada Boost</th>\n",
       "      <th>Modelo 3: XGBoost</th>\n",
       "    </tr>\n",
       "  </thead>\n",
       "  <tbody>\n",
       "    <tr>\n",
       "      <th>0</th>\n",
       "      <td>TP</td>\n",
       "      <td>47.000</td>\n",
       "      <td>50.000</td>\n",
       "      <td>38.000</td>\n",
       "    </tr>\n",
       "    <tr>\n",
       "      <th>1</th>\n",
       "      <td>FP</td>\n",
       "      <td>11.000</td>\n",
       "      <td>5.000</td>\n",
       "      <td>24.000</td>\n",
       "    </tr>\n",
       "    <tr>\n",
       "      <th>2</th>\n",
       "      <td>TN</td>\n",
       "      <td>60.000</td>\n",
       "      <td>66.000</td>\n",
       "      <td>47.000</td>\n",
       "    </tr>\n",
       "    <tr>\n",
       "      <th>3</th>\n",
       "      <td>FN</td>\n",
       "      <td>11.000</td>\n",
       "      <td>8.000</td>\n",
       "      <td>20.000</td>\n",
       "    </tr>\n",
       "    <tr>\n",
       "      <th>4</th>\n",
       "      <td>5-folds CV (F1)</td>\n",
       "      <td>0.642</td>\n",
       "      <td>0.647</td>\n",
       "      <td>0.640</td>\n",
       "    </tr>\n",
       "    <tr>\n",
       "      <th>5</th>\n",
       "      <td>Accuracy</td>\n",
       "      <td>0.829</td>\n",
       "      <td>0.899</td>\n",
       "      <td>0.659</td>\n",
       "    </tr>\n",
       "    <tr>\n",
       "      <th>6</th>\n",
       "      <td>Recall</td>\n",
       "      <td>0.845</td>\n",
       "      <td>0.930</td>\n",
       "      <td>0.662</td>\n",
       "    </tr>\n",
       "    <tr>\n",
       "      <th>7</th>\n",
       "      <td>Precision</td>\n",
       "      <td>0.845</td>\n",
       "      <td>0.892</td>\n",
       "      <td>0.701</td>\n",
       "    </tr>\n",
       "    <tr>\n",
       "      <th>8</th>\n",
       "      <td>F1-Socre</td>\n",
       "      <td>0.845</td>\n",
       "      <td>0.910</td>\n",
       "      <td>0.681</td>\n",
       "    </tr>\n",
       "  </tbody>\n",
       "</table>\n",
       "</div>"
      ],
      "text/plain": [
       "           Medidas  Modelo 1: Random Forest  Modelo 2: Ada Boost  \\\n",
       "0               TP                   47.000               50.000   \n",
       "1               FP                   11.000                5.000   \n",
       "2               TN                   60.000               66.000   \n",
       "3               FN                   11.000                8.000   \n",
       "4  5-folds CV (F1)                    0.642                0.647   \n",
       "5         Accuracy                    0.829                0.899   \n",
       "6           Recall                    0.845                0.930   \n",
       "7        Precision                    0.845                0.892   \n",
       "8         F1-Socre                    0.845                0.910   \n",
       "\n",
       "   Modelo 3: XGBoost  \n",
       "0             38.000  \n",
       "1             24.000  \n",
       "2             47.000  \n",
       "3             20.000  \n",
       "4              0.640  \n",
       "5              0.659  \n",
       "6              0.662  \n",
       "7              0.701  \n",
       "8              0.681  "
      ]
     },
     "execution_count": 128,
     "metadata": {},
     "output_type": "execute_result"
    }
   ],
   "source": [
    "Tabla_comp = pd.DataFrame({\"Medidas\": Medidas, \"Modelo 1: Random Forest\": performance_valRF2, \"Modelo 2: Ada Boost\": performance_valAB3, \"Modelo 3: XGBoost\": performance_valXGB3})\n",
    "\n",
    "round(Tabla_comp,3)"
   ]
  },
  {
   "cell_type": "markdown",
   "metadata": {},
   "source": [
    "<h2>TEST</h2>"
   ]
  },
  {
   "cell_type": "code",
   "execution_count": 129,
   "metadata": {},
   "outputs": [],
   "source": [
    "# Función para el gráfico de la tabla de confusion de test\n",
    "def confusion1(ytest, y_pred):\n",
    "    names = [\"Pagador\",\"Deudor\"]\n",
    "    cm = confusion_matrix(ytest, y_pred)\n",
    "    f, ax = plt.subplots(figsize=(5,5))\n",
    "    sns.heatmap(cm, annot=True, linewidth=.5, linecolor=\"w\", fmt=\".0f\", ax=ax, cmap=\"viridis\")\n",
    "    plt.xlabel(\"y_pred\")\n",
    "    plt.ylabel(\"y_true\")\n",
    "    ax.set_xticklabels(names)\n",
    "    ax.set_yticklabels(names)\n",
    "    plt.show()"
   ]
  },
  {
   "cell_type": "markdown",
   "metadata": {},
   "source": [
    "<h3>Modelo 1: Random Forest</h3>"
   ]
  },
  {
   "cell_type": "code",
   "execution_count": 130,
   "metadata": {},
   "outputs": [
    {
     "data": {
      "text/plain": [
       "RandomForestClassifier(bootstrap=True, class_weight=None, criterion='entropy',\n",
       "            max_depth=8, max_features='sqrt', max_leaf_nodes=None,\n",
       "            min_impurity_decrease=0.0, min_impurity_split=None,\n",
       "            min_samples_leaf=1, min_samples_split=2,\n",
       "            min_weight_fraction_leaf=0.0, n_estimators=800, n_jobs=None,\n",
       "            oob_score=False, random_state=55, verbose=0, warm_start=False)"
      ]
     },
     "execution_count": 130,
     "metadata": {},
     "output_type": "execute_result"
    }
   ],
   "source": [
    "# Entrenamos el modelo\n",
    "modelo1t = RandomForestClassifier(random_state=55, criterion=\"entropy\", max_depth=8,bootstrap=True,max_features=\"sqrt\", n_estimators=800)\n",
    "modelo1t.fit(X_dev,y_dev)"
   ]
  },
  {
   "cell_type": "code",
   "execution_count": 131,
   "metadata": {},
   "outputs": [],
   "source": [
    "# Las predicciones del modelo\n",
    "pred1t = modelo1t.predict(X_test)"
   ]
  },
  {
   "cell_type": "code",
   "execution_count": 132,
   "metadata": {},
   "outputs": [
    {
     "name": "stdout",
     "output_type": "stream",
     "text": [
      "[0.581, 0.686, 0.737, 0.516, 0.562]\n",
      "Performance f1-score: 0.616\n"
     ]
    }
   ],
   "source": [
    "# 5-Folds Cross Validation\n",
    "X_cv = X_test.copy()\n",
    "y_cv = y_test.copy()\n",
    "modelo = modelo1t\n",
    "k = KFold(n_splits=5, shuffle=False, random_state=55)\n",
    "\n",
    "sum = 0\n",
    "metrica_list = []\n",
    "for train, test in k.split(X_cv):\n",
    "    Xcv_train = np.array(X_cv)[train]\n",
    "    Xcv_test = np.array(X_cv)[test]\n",
    "    ycv_train = np.array(y_cv)[train]\n",
    "    ycv_test = np.array(y_cv)[test]\n",
    "    modelo.fit(Xcv_train, ycv_train)\n",
    "    pred_cv = modelo.predict(Xcv_test)\n",
    "    metrica_cv = float(f1_score(ycv_test, pred_cv))\n",
    "    metrica_list.append(round(metrica_cv,3))\n",
    "    sum += metrica_cv\n",
    "    cv_test1 = sum/5\n",
    "print(metrica_list)\n",
    "print(\"Performance f1-score:\", round(cv_test1,3))"
   ]
  },
  {
   "cell_type": "code",
   "execution_count": 133,
   "metadata": {},
   "outputs": [
    {
     "data": {
      "image/png": "[encoded data removed]",
      "text/plain": [
       "<Figure size 360x360 with 2 Axes>"
      ]
     },
     "metadata": {
      "needs_background": "light"
     },
     "output_type": "display_data"
    }
   ],
   "source": [
    "# Accuracy\n",
    "acc_test1 = accuracy_score(y_test, pred1t)\n",
    "\n",
    "# Recall\n",
    "rec_test1 = recall_score(y_test, pred1t) \n",
    "\n",
    "# Precision\n",
    "prec_test1 = precision_score(y_test, pred1t) \n",
    "\n",
    "# F1\n",
    "f1_test1 = f1_score(y_test, pred1t)\n",
    "\n",
    "# La matriz de confusión (TP, FP, TN, FN)\n",
    "cm_test1 = confusion_matrix(y_test, pred1t)\n",
    "FP_test1 = cm_test1[1,0] \n",
    "FN_test1 = cm_test1[0,1]\n",
    "TP_test1 = cm_test1[0,0]\n",
    "TN_test1 = cm_test1[1,1]\n",
    "\n",
    "# Gráfico de la matrix\n",
    "confusion1(y_test, pred1t)"
   ]
  },
  {
   "cell_type": "code",
   "execution_count": 134,
   "metadata": {},
   "outputs": [
    {
     "data": {
      "text/plain": [
       "[Text(0, 0, 'Cantidad Cuotas'),\n",
       " Text(0, 0, 'Edad'),\n",
       " Text(0, 0, 'Ingreso Formal'),\n",
       " Text(0, 0, 'Importe Cuota'),\n",
       " Text(0, 0, 'Interes Mensual'),\n",
       " Text(0, 0, 'Capital Entregado '),\n",
       " Text(0, 0, 'Trimestre Entrega'),\n",
       " Text(0, 0, 'Puesto Laboral'),\n",
       " Text(0, 0, 'Zona Residencia'),\n",
       " Text(0, 0, 'Informa Tel Alternativo'),\n",
       " Text(0, 0, 'Informa Tel Particular'),\n",
       " Text(0, 0, 'Informa Nombre Jefe'),\n",
       " Text(0, 0, 'Informa Email'),\n",
       " Text(0, 0, 'Sexo'),\n",
       " Text(0, 0, 'Sucursal'),\n",
       " Text(0, 0, 'Nacionalidad'),\n",
       " Text(0, 0, 'Informa Celular')]"
      ]
     },
     "execution_count": 134,
     "metadata": {},
     "output_type": "execute_result"
    },
    {
     "data": {
      "image/png": "[encoded data removed]",
      "text/plain": [
       "<Figure size 432x288 with 1 Axes>"
      ]
     },
     "metadata": {
      "needs_background": "light"
     },
     "output_type": "display_data"
    }
   ],
   "source": [
    "# Importancia de los atributos en el modelo\n",
    "importances1t = list(zip(modelo1t.feature_importances_, df.columns))\n",
    "importances1t.sort(reverse=True)\n",
    "importances1t = pd.DataFrame(importances1t)\n",
    "importances1t.columns = [\"importance\",\"feature\"]\n",
    "\n",
    "sns.barplot(x=\"feature\", y=\"importance\", data=importances1t, palette=\"viridis\").set_xticklabels(list(importances1t[\"feature\"]), rotation=90)"
   ]
  },
  {
   "cell_type": "markdown",
   "metadata": {},
   "source": [
    "<h3>Modelo 2: AdaBoost </h3>"
   ]
  },
  {
   "cell_type": "code",
   "execution_count": 135,
   "metadata": {},
   "outputs": [
    {
     "data": {
      "text/plain": [
       "AdaBoostClassifier(algorithm='SAMME.R',\n",
       "          base_estimator=DecisionTreeClassifier(class_weight=None, criterion='entropy', max_depth=8,\n",
       "            max_features='sqrt', max_leaf_nodes=None,\n",
       "            min_impurity_decrease=0.0, min_impurity_split=None,\n",
       "            min_samples_leaf=1, min_samples_split=2,\n",
       "            min_weight_fraction_leaf=0.0, presort=False, random_state=55,\n",
       "            splitter='best'),\n",
       "          learning_rate=1.0, n_estimators=198, random_state=55)"
      ]
     },
     "execution_count": 135,
     "metadata": {},
     "output_type": "execute_result"
    }
   ],
   "source": [
    "# Entrenamos el modelo\n",
    "modelo2t = AdaBoostClassifier(base_estimator = DTC, n_estimators=198, random_state=55)\n",
    "modelo2t.fit(X_dev,y_dev)"
   ]
  },
  {
   "cell_type": "code",
   "execution_count": 136,
   "metadata": {},
   "outputs": [],
   "source": [
    "# Las predicciones del modelo\n",
    "pred2t = modelo2t.predict(X_test)"
   ]
  },
  {
   "cell_type": "code",
   "execution_count": 138,
   "metadata": {},
   "outputs": [
    {
     "name": "stdout",
     "output_type": "stream",
     "text": [
      "[0.6, 0.667, 0.647, 0.562, 0.516]\n",
      "Performance f1-score: 0.598\n"
     ]
    }
   ],
   "source": [
    "# 5-Folds Cross Validation\n",
    "X_cv = X_test.copy()\n",
    "y_cv = y_test.copy()\n",
    "modelo = modelo2t\n",
    "k = KFold(n_splits=5, shuffle=False, random_state=55)\n",
    "\n",
    "sum = 0\n",
    "metrica_list = []\n",
    "for train, test in k.split(X_cv):\n",
    "    Xcv_train = np.array(X_cv)[train]\n",
    "    Xcv_test = np.array(X_cv)[test]\n",
    "    ycv_train = np.array(y_cv)[train]\n",
    "    ycv_test = np.array(y_cv)[test]\n",
    "    modelo.fit(Xcv_train, ycv_train)\n",
    "    pred_cv = modelo.predict(Xcv_test)\n",
    "    metrica_cv = float(f1_score(ycv_test, pred_cv))\n",
    "    metrica_list.append(round(metrica_cv,3))\n",
    "    sum += metrica_cv\n",
    "    cv_test2 = sum/5\n",
    "print(metrica_list)\n",
    "print(\"Performance f1-score:\", round(cv_test2,3))"
   ]
  },
  {
   "cell_type": "code",
   "execution_count": 139,
   "metadata": {},
   "outputs": [
    {
     "data": {
      "image/png": "[encoded data removed]",
      "text/plain": [
       "<Figure size 360x360 with 2 Axes>"
      ]
     },
     "metadata": {
      "needs_background": "light"
     },
     "output_type": "display_data"
    }
   ],
   "source": [
    "# Accuracy\n",
    "acc_test2 = accuracy_score(y_test, pred2t)\n",
    "\n",
    "# Recall\n",
    "rec_test2 = recall_score(y_test, pred2t) \n",
    "\n",
    "# Precision\n",
    "prec_test2 = precision_score(y_test, pred2t) \n",
    "\n",
    "# F1\n",
    "f1_test2 = f1_score(y_test, pred2t)\n",
    "\n",
    "# La matriz de confusión (TP, FP, TN, FN)\n",
    "cm_test2 = confusion_matrix(y_test, pred2t)\n",
    "FP_test2 = cm_test2[1,0]  # [fila, columna] \n",
    "FN_test2 = cm_test2[0,1]\n",
    "TP_test2 = cm_test2[0,0]\n",
    "TN_test2 = cm_test2[1,1]\n",
    "\n",
    "# Gráfico de la matrix\n",
    "confusion1(y_test, pred2t)"
   ]
  },
  {
   "cell_type": "code",
   "execution_count": 140,
   "metadata": {},
   "outputs": [
    {
     "data": {
      "text/plain": [
       "[Text(0, 0, 'Ingreso Formal'),\n",
       " Text(0, 0, 'Edad'),\n",
       " Text(0, 0, 'Importe Cuota'),\n",
       " Text(0, 0, 'Puesto Laboral'),\n",
       " Text(0, 0, 'Cantidad Cuotas'),\n",
       " Text(0, 0, 'Trimestre Entrega'),\n",
       " Text(0, 0, 'Capital Entregado '),\n",
       " Text(0, 0, 'Interes Mensual'),\n",
       " Text(0, 0, 'Informa Tel Particular'),\n",
       " Text(0, 0, 'Sexo'),\n",
       " Text(0, 0, 'Informa Email'),\n",
       " Text(0, 0, 'Informa Nombre Jefe'),\n",
       " Text(0, 0, 'Informa Tel Alternativo'),\n",
       " Text(0, 0, 'Zona Residencia'),\n",
       " Text(0, 0, 'Sucursal'),\n",
       " Text(0, 0, 'Nacionalidad'),\n",
       " Text(0, 0, 'Informa Celular')]"
      ]
     },
     "execution_count": 140,
     "metadata": {},
     "output_type": "execute_result"
    },
    {
     "data": {
      "image/png": "[encoded data removed]",
      "text/plain": [
       "<Figure size 432x288 with 1 Axes>"
      ]
     },
     "metadata": {
      "needs_background": "light"
     },
     "output_type": "display_data"
    }
   ],
   "source": [
    "# Importancia de los atributos en el modelo\n",
    "importances2t = list(zip(modelo2t.feature_importances_, df.columns))\n",
    "importances2t.sort(reverse=True)\n",
    "importances2t = pd.DataFrame(importances2t)\n",
    "importances2t.columns = [\"importance\",\"feature\"]\n",
    "\n",
    "sns.barplot(x=\"feature\", y=\"importance\", data=importances2t, palette=\"viridis\").set_xticklabels(list(importances2t[\"feature\"]), rotation=90)"
   ]
  },
  {
   "cell_type": "markdown",
   "metadata": {},
   "source": [
    "<h3>Modelo 3: XGBoost</h3>"
   ]
  },
  {
   "cell_type": "code",
   "execution_count": 141,
   "metadata": {},
   "outputs": [
    {
     "data": {
      "text/plain": [
       "XGBClassifier(base_score=0.5, booster='gbtree', colsample_bylevel=1,\n",
       "       colsample_bynode=1, colsample_bytree=0.2357, criterion='entropy',\n",
       "       gamma=0.4, learning_rate=0.24, max_delta_step=0, max_depth=8,\n",
       "       min_child_weight=2, missing=None, n_estimators=548, n_jobs=1,\n",
       "       nthread=None, objective='binary:logistic', random_state=55,\n",
       "       reg_alpha=0, reg_lambda=1, scale_pos_weight=1, seed=55, silent=None,\n",
       "       subsample=1, verbosity=1)"
      ]
     },
     "execution_count": 141,
     "metadata": {},
     "output_type": "execute_result"
    }
   ],
   "source": [
    "# Entrenamos el modelo\n",
    "modelo3t = xgb.XGBClassifier(max_depth=8, random_state=55, seed=55, colsample_bytree = 0.2357, min_child_weight=2, gamma=0.4, learning_rate=0.24, n_estimators=548, criterion=\"entropy\")\n",
    "modelo3t.fit(X_dev,y_dev)"
   ]
  },
  {
   "cell_type": "code",
   "execution_count": 142,
   "metadata": {},
   "outputs": [],
   "source": [
    "# Las predicciones del modelo\n",
    "pred3t = modelo3t.predict(X_test)"
   ]
  },
  {
   "cell_type": "code",
   "execution_count": 143,
   "metadata": {},
   "outputs": [
    {
     "name": "stdout",
     "output_type": "stream",
     "text": [
      "[0.462, 0.621, 0.718, 0.516, 0.483]\n",
      "Performance f1-score: 0.56\n"
     ]
    }
   ],
   "source": [
    "# 5-Folds Cross Validation\n",
    "X_cv = X_test.copy()\n",
    "y_cv = y_test.copy()\n",
    "modelo = modelo3t\n",
    "k = KFold(n_splits=5, shuffle=False, random_state=55)\n",
    "\n",
    "sum = 0\n",
    "metrica_list = []\n",
    "for train, test in k.split(X_cv):\n",
    "    Xcv_train = np.array(X_cv)[train]\n",
    "    Xcv_test = np.array(X_cv)[test]\n",
    "    ycv_train = np.array(y_cv)[train]\n",
    "    ycv_test = np.array(y_cv)[test]\n",
    "    modelo.fit(Xcv_train, ycv_train)\n",
    "    pred_cv = modelo.predict(Xcv_test)\n",
    "    metrica_cv = float(f1_score(ycv_test, pred_cv))\n",
    "    metrica_list.append(round(metrica_cv,3))\n",
    "    sum += metrica_cv\n",
    "    cv_test3 = sum/5\n",
    "print(metrica_list)\n",
    "print(\"Performance f1-score:\", round(cv_test3,3))"
   ]
  },
  {
   "cell_type": "code",
   "execution_count": 144,
   "metadata": {
    "scrolled": true
   },
   "outputs": [
    {
     "data": {
      "image/png": "[encoded data removed]",
      "text/plain": [
       "<Figure size 360x360 with 2 Axes>"
      ]
     },
     "metadata": {
      "needs_background": "light"
     },
     "output_type": "display_data"
    }
   ],
   "source": [
    "# Accuracy\n",
    "acc_test3 = accuracy_score(y_test, pred3t)\n",
    "\n",
    "# Recall\n",
    "rec_test3 = recall_score(y_test, pred3t) \n",
    "\n",
    "# Precision\n",
    "prec_test3 = precision_score(y_test, pred3t) \n",
    "\n",
    "# F1\n",
    "f1_test3 = f1_score(y_test, pred3t)\n",
    "\n",
    "# La matriz de confusión (TP, FP, TN, FN)\n",
    "cm_test3 = confusion_matrix(y_test, pred3t)\n",
    "FP_test3 = cm_test3[1,0]  # [fila, columna] \n",
    "FN_test3 = cm_test3[0,1]\n",
    "TP_test3 = cm_test3[0,0]\n",
    "TN_test3 = cm_test3[1,1]\n",
    "\n",
    "# Gráfico de la matrix\n",
    "confusion1(y_test, pred3t)"
   ]
  },
  {
   "cell_type": "code",
   "execution_count": 145,
   "metadata": {},
   "outputs": [
    {
     "data": {
      "text/plain": [
       "[Text(0, 0, 'Cantidad Cuotas'),\n",
       " Text(0, 0, 'Edad'),\n",
       " Text(0, 0, 'Ingreso Formal'),\n",
       " Text(0, 0, 'Importe Cuota'),\n",
       " Text(0, 0, 'Interes Mensual'),\n",
       " Text(0, 0, 'Capital Entregado '),\n",
       " Text(0, 0, 'Trimestre Entrega'),\n",
       " Text(0, 0, 'Puesto Laboral'),\n",
       " Text(0, 0, 'Zona Residencia'),\n",
       " Text(0, 0, 'Informa Tel Alternativo'),\n",
       " Text(0, 0, 'Informa Tel Particular'),\n",
       " Text(0, 0, 'Informa Nombre Jefe'),\n",
       " Text(0, 0, 'Informa Email'),\n",
       " Text(0, 0, 'Sexo'),\n",
       " Text(0, 0, 'Sucursal'),\n",
       " Text(0, 0, 'Nacionalidad'),\n",
       " Text(0, 0, 'Informa Celular')]"
      ]
     },
     "execution_count": 145,
     "metadata": {},
     "output_type": "execute_result"
    },
    {
     "data": {
      "image/png": "[encoded data removed]",
      "text/plain": [
       "<Figure size 432x288 with 1 Axes>"
      ]
     },
     "metadata": {
      "needs_background": "light"
     },
     "output_type": "display_data"
    }
   ],
   "source": [
    "# Importancia de los atributos en el modelo\n",
    "importances3t = list(zip(modelo1t.feature_importances_, df.columns))\n",
    "importances3t.sort(reverse=True)\n",
    "importances3t = pd.DataFrame(importances3t)\n",
    "importances3t.columns = [\"importance\",\"feature\"]\n",
    "\n",
    "sns.barplot(x=\"feature\", y=\"importance\", data=importances3t, palette=\"viridis\").set_xticklabels(list(importances3t[\"feature\"]), rotation=90)"
   ]
  },
  {
   "cell_type": "markdown",
   "metadata": {},
   "source": [
    "<h2>Comparación</h2>"
   ]
  },
  {
   "cell_type": "code",
   "execution_count": 146,
   "metadata": {
    "scrolled": true
   },
   "outputs": [
    {
     "data": {
      "text/html": [
       "<div>\n",
       "<style scoped>\n",
       "    .dataframe tbody tr th:only-of-type {\n",
       "        vertical-align: middle;\n",
       "    }\n",
       "\n",
       "    .dataframe tbody tr th {\n",
       "        vertical-align: top;\n",
       "    }\n",
       "\n",
       "    .dataframe thead th {\n",
       "        text-align: right;\n",
       "    }\n",
       "</style>\n",
       "<table border=\"1\" class=\"dataframe\">\n",
       "  <thead>\n",
       "    <tr style=\"text-align: right;\">\n",
       "      <th></th>\n",
       "      <th>Medida</th>\n",
       "      <th>Random Forest</th>\n",
       "      <th>AdaBoost</th>\n",
       "      <th>XGBoost</th>\n",
       "    </tr>\n",
       "  </thead>\n",
       "  <tbody>\n",
       "    <tr>\n",
       "      <th>0</th>\n",
       "      <td>TP</td>\n",
       "      <td>52.000</td>\n",
       "      <td>49.000</td>\n",
       "      <td>47.000</td>\n",
       "    </tr>\n",
       "    <tr>\n",
       "      <th>1</th>\n",
       "      <td>FP</td>\n",
       "      <td>23.000</td>\n",
       "      <td>25.000</td>\n",
       "      <td>28.000</td>\n",
       "    </tr>\n",
       "    <tr>\n",
       "      <th>2</th>\n",
       "      <td>TN</td>\n",
       "      <td>56.000</td>\n",
       "      <td>54.000</td>\n",
       "      <td>51.000</td>\n",
       "    </tr>\n",
       "    <tr>\n",
       "      <th>3</th>\n",
       "      <td>FN</td>\n",
       "      <td>31.000</td>\n",
       "      <td>34.000</td>\n",
       "      <td>36.000</td>\n",
       "    </tr>\n",
       "    <tr>\n",
       "      <th>4</th>\n",
       "      <td>5-folds CV (F1)</td>\n",
       "      <td>0.616</td>\n",
       "      <td>0.598</td>\n",
       "      <td>0.560</td>\n",
       "    </tr>\n",
       "    <tr>\n",
       "      <th>5</th>\n",
       "      <td>Accuracy</td>\n",
       "      <td>0.667</td>\n",
       "      <td>0.636</td>\n",
       "      <td>0.605</td>\n",
       "    </tr>\n",
       "    <tr>\n",
       "      <th>6</th>\n",
       "      <td>Recall</td>\n",
       "      <td>0.709</td>\n",
       "      <td>0.684</td>\n",
       "      <td>0.646</td>\n",
       "    </tr>\n",
       "    <tr>\n",
       "      <th>7</th>\n",
       "      <td>Precision</td>\n",
       "      <td>0.644</td>\n",
       "      <td>0.614</td>\n",
       "      <td>0.586</td>\n",
       "    </tr>\n",
       "    <tr>\n",
       "      <th>8</th>\n",
       "      <td>F1-Socre</td>\n",
       "      <td>0.675</td>\n",
       "      <td>0.647</td>\n",
       "      <td>0.614</td>\n",
       "    </tr>\n",
       "  </tbody>\n",
       "</table>\n",
       "</div>"
      ],
      "text/plain": [
       "            Medida  Random Forest  AdaBoost  XGBoost\n",
       "0               TP         52.000    49.000   47.000\n",
       "1               FP         23.000    25.000   28.000\n",
       "2               TN         56.000    54.000   51.000\n",
       "3               FN         31.000    34.000   36.000\n",
       "4  5-folds CV (F1)          0.616     0.598    0.560\n",
       "5         Accuracy          0.667     0.636    0.605\n",
       "6           Recall          0.709     0.684    0.646\n",
       "7        Precision          0.644     0.614    0.586\n",
       "8         F1-Socre          0.675     0.647    0.614"
      ]
     },
     "execution_count": 146,
     "metadata": {},
     "output_type": "execute_result"
    }
   ],
   "source": [
    "performance_test1 = [TP_test1, FP_test1, TN_test1, FN_test1, cv_test1, acc_test1, rec_test1, prec_test1, f1_test1]\n",
    "performance_test2 = [TP_test2, FP_test2, TN_test2, FN_test2, cv_test2, acc_test2, rec_test2, prec_test2, f1_test2]\n",
    "performance_test3 = [TP_test3, FP_test3, TN_test3, FN_test3, cv_test3, acc_test3, rec_test3, prec_test3, f1_test3]\n",
    "Medida = (\"TP\", \"FP\", \"TN\", \"FN\", \"5-folds CV (F1)\", \"Accuracy\", \"Recall\", \"Precision\", \"F1-Socre\")\n",
    "\n",
    "Tabla_test = pd.DataFrame({\"Medida\": Medida, \"Random Forest\": performance_test1, \"AdaBoost\": performance_test2, \"XGBoost\": performance_test3})\n",
    "\n",
    "round(Tabla_test,3)"
   ]
  },
  {
   "cell_type": "markdown",
   "metadata": {},
   "source": [
    "<h2>Comparación validación y test</h2>"
   ]
  },
  {
   "cell_type": "code",
   "execution_count": 147,
   "metadata": {},
   "outputs": [
    {
     "data": {
      "text/html": [
       "<div>\n",
       "<style scoped>\n",
       "    .dataframe tbody tr th:only-of-type {\n",
       "        vertical-align: middle;\n",
       "    }\n",
       "\n",
       "    .dataframe tbody tr th {\n",
       "        vertical-align: top;\n",
       "    }\n",
       "\n",
       "    .dataframe thead th {\n",
       "        text-align: right;\n",
       "    }\n",
       "</style>\n",
       "<table border=\"1\" class=\"dataframe\">\n",
       "  <thead>\n",
       "    <tr style=\"text-align: right;\">\n",
       "      <th></th>\n",
       "      <th>Medida</th>\n",
       "      <th>RF Val</th>\n",
       "      <th>RF Test</th>\n",
       "      <th>AB Val</th>\n",
       "      <th>AB Test</th>\n",
       "      <th>XGB Val</th>\n",
       "      <th>XGBoost</th>\n",
       "    </tr>\n",
       "  </thead>\n",
       "  <tbody>\n",
       "    <tr>\n",
       "      <th>0</th>\n",
       "      <td>TP</td>\n",
       "      <td>47.000</td>\n",
       "      <td>52.000</td>\n",
       "      <td>50.000</td>\n",
       "      <td>49.000</td>\n",
       "      <td>38.000</td>\n",
       "      <td>47.000</td>\n",
       "    </tr>\n",
       "    <tr>\n",
       "      <th>1</th>\n",
       "      <td>FP</td>\n",
       "      <td>11.000</td>\n",
       "      <td>23.000</td>\n",
       "      <td>5.000</td>\n",
       "      <td>25.000</td>\n",
       "      <td>24.000</td>\n",
       "      <td>28.000</td>\n",
       "    </tr>\n",
       "    <tr>\n",
       "      <th>2</th>\n",
       "      <td>TN</td>\n",
       "      <td>60.000</td>\n",
       "      <td>56.000</td>\n",
       "      <td>66.000</td>\n",
       "      <td>54.000</td>\n",
       "      <td>47.000</td>\n",
       "      <td>51.000</td>\n",
       "    </tr>\n",
       "    <tr>\n",
       "      <th>3</th>\n",
       "      <td>FN</td>\n",
       "      <td>11.000</td>\n",
       "      <td>31.000</td>\n",
       "      <td>8.000</td>\n",
       "      <td>34.000</td>\n",
       "      <td>20.000</td>\n",
       "      <td>36.000</td>\n",
       "    </tr>\n",
       "    <tr>\n",
       "      <th>4</th>\n",
       "      <td>5-folds CV (F1)</td>\n",
       "      <td>0.642</td>\n",
       "      <td>0.616</td>\n",
       "      <td>0.647</td>\n",
       "      <td>0.598</td>\n",
       "      <td>0.640</td>\n",
       "      <td>0.560</td>\n",
       "    </tr>\n",
       "    <tr>\n",
       "      <th>5</th>\n",
       "      <td>Accuracy</td>\n",
       "      <td>0.829</td>\n",
       "      <td>0.667</td>\n",
       "      <td>0.899</td>\n",
       "      <td>0.636</td>\n",
       "      <td>0.659</td>\n",
       "      <td>0.605</td>\n",
       "    </tr>\n",
       "    <tr>\n",
       "      <th>6</th>\n",
       "      <td>Recall</td>\n",
       "      <td>0.845</td>\n",
       "      <td>0.709</td>\n",
       "      <td>0.930</td>\n",
       "      <td>0.684</td>\n",
       "      <td>0.662</td>\n",
       "      <td>0.646</td>\n",
       "    </tr>\n",
       "    <tr>\n",
       "      <th>7</th>\n",
       "      <td>Precision</td>\n",
       "      <td>0.845</td>\n",
       "      <td>0.644</td>\n",
       "      <td>0.892</td>\n",
       "      <td>0.614</td>\n",
       "      <td>0.701</td>\n",
       "      <td>0.586</td>\n",
       "    </tr>\n",
       "    <tr>\n",
       "      <th>8</th>\n",
       "      <td>F1-Socre</td>\n",
       "      <td>0.845</td>\n",
       "      <td>0.675</td>\n",
       "      <td>0.910</td>\n",
       "      <td>0.647</td>\n",
       "      <td>0.681</td>\n",
       "      <td>0.614</td>\n",
       "    </tr>\n",
       "  </tbody>\n",
       "</table>\n",
       "</div>"
      ],
      "text/plain": [
       "            Medida  RF Val  RF Test  AB Val  AB Test  XGB Val  XGBoost\n",
       "0               TP  47.000   52.000  50.000   49.000   38.000   47.000\n",
       "1               FP  11.000   23.000   5.000   25.000   24.000   28.000\n",
       "2               TN  60.000   56.000  66.000   54.000   47.000   51.000\n",
       "3               FN  11.000   31.000   8.000   34.000   20.000   36.000\n",
       "4  5-folds CV (F1)   0.642    0.616   0.647    0.598    0.640    0.560\n",
       "5         Accuracy   0.829    0.667   0.899    0.636    0.659    0.605\n",
       "6           Recall   0.845    0.709   0.930    0.684    0.662    0.646\n",
       "7        Precision   0.845    0.644   0.892    0.614    0.701    0.586\n",
       "8         F1-Socre   0.845    0.675   0.910    0.647    0.681    0.614"
      ]
     },
     "execution_count": 147,
     "metadata": {},
     "output_type": "execute_result"
    }
   ],
   "source": [
    "Tabla_todas = pd.DataFrame({\"Medida\": Medida, \"RF Val\": performance_valRF2,\"RF Test\": performance_test1, \"AB Val\": performance_valAB3,\"AB Test\": performance_test2, \"XGB Val\": performance_valXGB3,\"XGBoost\": performance_test3})\n",
    "\n",
    "round(Tabla_todas,3)"
   ]
  }
 ],
 "metadata": {
  "kernelspec": {
   "display_name": "Python 3",
   "language": "python",
   "name": "python3"
  },
  "language_info": {
   "codemirror_mode": {
    "name": "ipython",
    "version": 3
   },
   "file_extension": ".py",
   "mimetype": "text/x-python",
   "name": "python",
   "nbconvert_exporter": "python",
   "pygments_lexer": "ipython3",
   "version": "3.7.3"
  }
 },
 "nbformat": 4,
 "nbformat_minor": 2
}
