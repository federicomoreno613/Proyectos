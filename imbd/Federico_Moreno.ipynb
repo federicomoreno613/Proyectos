{
 "cells": [
  {
   "cell_type": "markdown",
   "metadata": {},
   "source": [
    "### Federico Moreno\n",
    "#### federicomoreno613@gmail.com\n",
    "#### https://www.linkedin.com/in/federico-moreno-32955316/\n",
    "#### https://federicomoreno613.github.io/proyectos/"
   ]
  },
  {
   "cell_type": "markdown",
   "metadata": {},
   "source": [
    "##### Consigna\n",
    "\n",
    "1. Descargue el dataset y revise la información que contiene dentro, el mismo estᠥn formato csv.\n",
    "2. Haga una lluvia de ideas sobre algunas preguntas que podrían esponder utilizando el conjunto de datos entregado, luego comience a responder esas preguntas. Intente y sugiera preguntas que promuevan la observacione, las relaciones entre mltiples variables. Debe intentar analizar al menos una variable dependiente y tres variables independientes en su investigacipon. Se adjunta un script en Python, el mismo se puede ejecutar utilizando Jupyter Notebook y te darᠵna idea para comenzar con el anᬩsis, sin embargo, puedes utilizar cualquier tecnologío lenguaje que te permita analizar el dataset y descartar el script.\n",
    "3. Comparta sus hallazgosUna vez que hayas terminado de analizar los datos, cree un informe que comparta los resultados que le parecieron ás interesantes. Si usa Jupyter, comparta sus hallazgos junto con el c󤩧o que utiliz󠰡ra realizar el analisis. Asegrese de que el texto de su informe est contenido en las celdas de Markdown para distinguir claramente sus comentarios y conclusiones de su trabajo de c󤩧o. También debe sentirse libre de usar otras herramientas y software para elaborar su informe final, pero asegrese de que puede enviar su informe como un archivo HTML o PDF para que pueda abrirse fᣩlmente."
   ]
  },
  {
   "cell_type": "markdown",
   "metadata": {},
   "source": [
    "## Objetivo.\n",
    "\n",
    "Mi objetivo es realizar una anlisis simple que pueda demostrar mis skills en el uso de Python y machine learning. Para esto intento realizar operaciones de data wranglin y data visualization para analizar las variables, luego realizar un modelo base con sckit-learn y por último sugerir un enfoque más novedoso desde el punto de vista del NLP.\n",
    "\n",
    "Cómo **metodología** entiendo al Exploratory Data Analysis, cómo el avance sobre ciertos insights de las variables, siempre cuestionando acerca de las transformaciones que puedan existir en las variables y la posibilidad de hacer un feature engineering acorde a un tema que desconozco.  Por último el enfoque de Machine Learning me llevar a seleccionar las columnas interesantes cómo variables de capacidad predictora, y separar mi set de datos en entrenamiento y testeo, para poder realizar una buena evaluación del modelo, entendiendo si mi modelo underfitea, overfitea o tiene un buen balance."
   ]
  },
  {
   "cell_type": "markdown",
   "metadata": {},
   "source": [
    "Importo librerías base. Recordar que en la separación de entrenamiento y testeo hay un factor random por lo que la random_seed debe ser la misma que estoy usando para llegar a los mismos resultados. "
   ]
  },
  {
   "cell_type": "code",
   "execution_count": 1,
   "metadata": {},
   "outputs": [],
   "source": [
    "import pandas as pd\n",
    "import numpy as np\n",
    "import re\n",
    "import seaborn as sns\n",
    "import matplotlib.pyplot as plt\n",
    "\n",
    "random_seed = 1988"
   ]
  },
  {
   "cell_type": "markdown",
   "metadata": {},
   "source": [
    "### Lectura de dataset y dimension"
   ]
  },
  {
   "cell_type": "code",
   "execution_count": 2,
   "metadata": {},
   "outputs": [
    {
     "name": "stdout",
     "output_type": "stream",
     "text": [
      "Dataset size: (10866, 21)\n"
     ]
    }
   ],
   "source": [
    "df = pd.read_csv('tmdb-movies.csv', dtype={\"imdb_id\":str})\n",
    "print(f\"Dataset size: {df.shape}\")"
   ]
  },
  {
   "cell_type": "code",
   "execution_count": 3,
   "metadata": {},
   "outputs": [
    {
     "name": "stdout",
     "output_type": "stream",
     "text": [
      "<class 'pandas.core.frame.DataFrame'>\n",
      "RangeIndex: 10866 entries, 0 to 10865\n",
      "Data columns (total 21 columns):\n",
      "id                      10866 non-null int64\n",
      "imdb_id                 10856 non-null object\n",
      "popularity              10866 non-null float64\n",
      "budget                  10866 non-null int64\n",
      "revenue                 10866 non-null int64\n",
      "original_title          10866 non-null object\n",
      "cast                    10790 non-null object\n",
      "homepage                2936 non-null object\n",
      "director                10822 non-null object\n",
      "tagline                 8042 non-null object\n",
      "keywords                9373 non-null object\n",
      "overview                10862 non-null object\n",
      "runtime                 10866 non-null int64\n",
      "genres                  10843 non-null object\n",
      "production_companies    9836 non-null object\n",
      "release_date            10866 non-null object\n",
      "vote_count              10866 non-null int64\n",
      "vote_average            10866 non-null float64\n",
      "release_year            10866 non-null int64\n",
      "budget_adj              10866 non-null float64\n",
      "revenue_adj             10866 non-null float64\n",
      "dtypes: float64(4), int64(6), object(11)\n",
      "memory usage: 1.7+ MB\n"
     ]
    }
   ],
   "source": [
    "df.info()\n"
   ]
  },
  {
   "cell_type": "markdown",
   "metadata": {},
   "source": [
    "Para observar todas las columnas transpongo el dataframe y inspecciono en que consiste."
   ]
  },
  {
   "cell_type": "code",
   "execution_count": 4,
   "metadata": {},
   "outputs": [
    {
     "data": {
      "text/html": [
       "<div>\n",
       "<style scoped>\n",
       "    .dataframe tbody tr th:only-of-type {\n",
       "        vertical-align: middle;\n",
       "    }\n",
       "\n",
       "    .dataframe tbody tr th {\n",
       "        vertical-align: top;\n",
       "    }\n",
       "\n",
       "    .dataframe thead th {\n",
       "        text-align: right;\n",
       "    }\n",
       "</style>\n",
       "<table border=\"1\" class=\"dataframe\">\n",
       "  <thead>\n",
       "    <tr style=\"text-align: right;\">\n",
       "      <th></th>\n",
       "      <th>0</th>\n",
       "      <th>1</th>\n",
       "      <th>2</th>\n",
       "      <th>3</th>\n",
       "      <th>4</th>\n",
       "    </tr>\n",
       "  </thead>\n",
       "  <tbody>\n",
       "    <tr>\n",
       "      <td>id</td>\n",
       "      <td>135397</td>\n",
       "      <td>76341</td>\n",
       "      <td>262500</td>\n",
       "      <td>140607</td>\n",
       "      <td>168259</td>\n",
       "    </tr>\n",
       "    <tr>\n",
       "      <td>imdb_id</td>\n",
       "      <td>tt0369610</td>\n",
       "      <td>tt1392190</td>\n",
       "      <td>tt2908446</td>\n",
       "      <td>tt2488496</td>\n",
       "      <td>tt2820852</td>\n",
       "    </tr>\n",
       "    <tr>\n",
       "      <td>popularity</td>\n",
       "      <td>32.9858</td>\n",
       "      <td>28.4199</td>\n",
       "      <td>13.1125</td>\n",
       "      <td>11.1731</td>\n",
       "      <td>9.33501</td>\n",
       "    </tr>\n",
       "    <tr>\n",
       "      <td>budget</td>\n",
       "      <td>150000000</td>\n",
       "      <td>150000000</td>\n",
       "      <td>110000000</td>\n",
       "      <td>200000000</td>\n",
       "      <td>190000000</td>\n",
       "    </tr>\n",
       "    <tr>\n",
       "      <td>revenue</td>\n",
       "      <td>1513528810</td>\n",
       "      <td>378436354</td>\n",
       "      <td>295238201</td>\n",
       "      <td>2068178225</td>\n",
       "      <td>1506249360</td>\n",
       "    </tr>\n",
       "    <tr>\n",
       "      <td>original_title</td>\n",
       "      <td>Jurassic World</td>\n",
       "      <td>Mad Max: Fury Road</td>\n",
       "      <td>Insurgent</td>\n",
       "      <td>Star Wars: The Force Awakens</td>\n",
       "      <td>Furious 7</td>\n",
       "    </tr>\n",
       "    <tr>\n",
       "      <td>cast</td>\n",
       "      <td>Chris Pratt|Bryce Dallas Howard|Irrfan Khan|Vi...</td>\n",
       "      <td>Tom Hardy|Charlize Theron|Hugh Keays-Byrne|Nic...</td>\n",
       "      <td>Shailene Woodley|Theo James|Kate Winslet|Ansel...</td>\n",
       "      <td>Harrison Ford|Mark Hamill|Carrie Fisher|Adam D...</td>\n",
       "      <td>Vin Diesel|Paul Walker|Jason Statham|Michelle ...</td>\n",
       "    </tr>\n",
       "    <tr>\n",
       "      <td>homepage</td>\n",
       "      <td>http://www.jurassicworld.com/</td>\n",
       "      <td>http://www.madmaxmovie.com/</td>\n",
       "      <td>http://www.thedivergentseries.movie/#insurgent</td>\n",
       "      <td>http://www.starwars.com/films/star-wars-episod...</td>\n",
       "      <td>http://www.furious7.com/</td>\n",
       "    </tr>\n",
       "    <tr>\n",
       "      <td>director</td>\n",
       "      <td>Colin Trevorrow</td>\n",
       "      <td>George Miller</td>\n",
       "      <td>Robert Schwentke</td>\n",
       "      <td>J.J. Abrams</td>\n",
       "      <td>James Wan</td>\n",
       "    </tr>\n",
       "    <tr>\n",
       "      <td>tagline</td>\n",
       "      <td>The park is open.</td>\n",
       "      <td>What a Lovely Day.</td>\n",
       "      <td>One Choice Can Destroy You</td>\n",
       "      <td>Every generation has a story.</td>\n",
       "      <td>Vengeance Hits Home</td>\n",
       "    </tr>\n",
       "    <tr>\n",
       "      <td>keywords</td>\n",
       "      <td>monster|dna|tyrannosaurus rex|velociraptor|island</td>\n",
       "      <td>future|chase|post-apocalyptic|dystopia|australia</td>\n",
       "      <td>based on novel|revolution|dystopia|sequel|dyst...</td>\n",
       "      <td>android|spaceship|jedi|space opera|3d</td>\n",
       "      <td>car race|speed|revenge|suspense|car</td>\n",
       "    </tr>\n",
       "    <tr>\n",
       "      <td>overview</td>\n",
       "      <td>Twenty-two years after the events of Jurassic ...</td>\n",
       "      <td>An apocalyptic story set in the furthest reach...</td>\n",
       "      <td>Beatrice Prior must confront her inner demons ...</td>\n",
       "      <td>Thirty years after defeating the Galactic Empi...</td>\n",
       "      <td>Deckard Shaw seeks revenge against Dominic Tor...</td>\n",
       "    </tr>\n",
       "    <tr>\n",
       "      <td>runtime</td>\n",
       "      <td>124</td>\n",
       "      <td>120</td>\n",
       "      <td>119</td>\n",
       "      <td>136</td>\n",
       "      <td>137</td>\n",
       "    </tr>\n",
       "    <tr>\n",
       "      <td>genres</td>\n",
       "      <td>Action|Adventure|Science Fiction|Thriller</td>\n",
       "      <td>Action|Adventure|Science Fiction|Thriller</td>\n",
       "      <td>Adventure|Science Fiction|Thriller</td>\n",
       "      <td>Action|Adventure|Science Fiction|Fantasy</td>\n",
       "      <td>Action|Crime|Thriller</td>\n",
       "    </tr>\n",
       "    <tr>\n",
       "      <td>production_companies</td>\n",
       "      <td>Universal Studios|Amblin Entertainment|Legenda...</td>\n",
       "      <td>Village Roadshow Pictures|Kennedy Miller Produ...</td>\n",
       "      <td>Summit Entertainment|Mandeville Films|Red Wago...</td>\n",
       "      <td>Lucasfilm|Truenorth Productions|Bad Robot</td>\n",
       "      <td>Universal Pictures|Original Film|Media Rights ...</td>\n",
       "    </tr>\n",
       "    <tr>\n",
       "      <td>release_date</td>\n",
       "      <td>6/9/15</td>\n",
       "      <td>5/13/15</td>\n",
       "      <td>3/18/15</td>\n",
       "      <td>12/15/15</td>\n",
       "      <td>4/1/15</td>\n",
       "    </tr>\n",
       "    <tr>\n",
       "      <td>vote_count</td>\n",
       "      <td>5562</td>\n",
       "      <td>6185</td>\n",
       "      <td>2480</td>\n",
       "      <td>5292</td>\n",
       "      <td>2947</td>\n",
       "    </tr>\n",
       "    <tr>\n",
       "      <td>vote_average</td>\n",
       "      <td>6.5</td>\n",
       "      <td>7.1</td>\n",
       "      <td>6.3</td>\n",
       "      <td>7.5</td>\n",
       "      <td>7.3</td>\n",
       "    </tr>\n",
       "    <tr>\n",
       "      <td>release_year</td>\n",
       "      <td>2015</td>\n",
       "      <td>2015</td>\n",
       "      <td>2015</td>\n",
       "      <td>2015</td>\n",
       "      <td>2015</td>\n",
       "    </tr>\n",
       "    <tr>\n",
       "      <td>budget_adj</td>\n",
       "      <td>1.38e+08</td>\n",
       "      <td>1.38e+08</td>\n",
       "      <td>1.012e+08</td>\n",
       "      <td>1.84e+08</td>\n",
       "      <td>1.748e+08</td>\n",
       "    </tr>\n",
       "    <tr>\n",
       "      <td>revenue_adj</td>\n",
       "      <td>1.39245e+09</td>\n",
       "      <td>3.48161e+08</td>\n",
       "      <td>2.71619e+08</td>\n",
       "      <td>1.90272e+09</td>\n",
       "      <td>1.38575e+09</td>\n",
       "    </tr>\n",
       "  </tbody>\n",
       "</table>\n",
       "</div>"
      ],
      "text/plain": [
       "                                                                      0  \\\n",
       "id                                                               135397   \n",
       "imdb_id                                                       tt0369610   \n",
       "popularity                                                      32.9858   \n",
       "budget                                                        150000000   \n",
       "revenue                                                      1513528810   \n",
       "original_title                                           Jurassic World   \n",
       "cast                  Chris Pratt|Bryce Dallas Howard|Irrfan Khan|Vi...   \n",
       "homepage                                  http://www.jurassicworld.com/   \n",
       "director                                                Colin Trevorrow   \n",
       "tagline                                               The park is open.   \n",
       "keywords              monster|dna|tyrannosaurus rex|velociraptor|island   \n",
       "overview              Twenty-two years after the events of Jurassic ...   \n",
       "runtime                                                             124   \n",
       "genres                        Action|Adventure|Science Fiction|Thriller   \n",
       "production_companies  Universal Studios|Amblin Entertainment|Legenda...   \n",
       "release_date                                                     6/9/15   \n",
       "vote_count                                                         5562   \n",
       "vote_average                                                        6.5   \n",
       "release_year                                                       2015   \n",
       "budget_adj                                                     1.38e+08   \n",
       "revenue_adj                                                 1.39245e+09   \n",
       "\n",
       "                                                                      1  \\\n",
       "id                                                                76341   \n",
       "imdb_id                                                       tt1392190   \n",
       "popularity                                                      28.4199   \n",
       "budget                                                        150000000   \n",
       "revenue                                                       378436354   \n",
       "original_title                                       Mad Max: Fury Road   \n",
       "cast                  Tom Hardy|Charlize Theron|Hugh Keays-Byrne|Nic...   \n",
       "homepage                                    http://www.madmaxmovie.com/   \n",
       "director                                                  George Miller   \n",
       "tagline                                              What a Lovely Day.   \n",
       "keywords               future|chase|post-apocalyptic|dystopia|australia   \n",
       "overview              An apocalyptic story set in the furthest reach...   \n",
       "runtime                                                             120   \n",
       "genres                        Action|Adventure|Science Fiction|Thriller   \n",
       "production_companies  Village Roadshow Pictures|Kennedy Miller Produ...   \n",
       "release_date                                                    5/13/15   \n",
       "vote_count                                                         6185   \n",
       "vote_average                                                        7.1   \n",
       "release_year                                                       2015   \n",
       "budget_adj                                                     1.38e+08   \n",
       "revenue_adj                                                 3.48161e+08   \n",
       "\n",
       "                                                                      2  \\\n",
       "id                                                               262500   \n",
       "imdb_id                                                       tt2908446   \n",
       "popularity                                                      13.1125   \n",
       "budget                                                        110000000   \n",
       "revenue                                                       295238201   \n",
       "original_title                                                Insurgent   \n",
       "cast                  Shailene Woodley|Theo James|Kate Winslet|Ansel...   \n",
       "homepage                 http://www.thedivergentseries.movie/#insurgent   \n",
       "director                                               Robert Schwentke   \n",
       "tagline                                      One Choice Can Destroy You   \n",
       "keywords              based on novel|revolution|dystopia|sequel|dyst...   \n",
       "overview              Beatrice Prior must confront her inner demons ...   \n",
       "runtime                                                             119   \n",
       "genres                               Adventure|Science Fiction|Thriller   \n",
       "production_companies  Summit Entertainment|Mandeville Films|Red Wago...   \n",
       "release_date                                                    3/18/15   \n",
       "vote_count                                                         2480   \n",
       "vote_average                                                        6.3   \n",
       "release_year                                                       2015   \n",
       "budget_adj                                                    1.012e+08   \n",
       "revenue_adj                                                 2.71619e+08   \n",
       "\n",
       "                                                                      3  \\\n",
       "id                                                               140607   \n",
       "imdb_id                                                       tt2488496   \n",
       "popularity                                                      11.1731   \n",
       "budget                                                        200000000   \n",
       "revenue                                                      2068178225   \n",
       "original_title                             Star Wars: The Force Awakens   \n",
       "cast                  Harrison Ford|Mark Hamill|Carrie Fisher|Adam D...   \n",
       "homepage              http://www.starwars.com/films/star-wars-episod...   \n",
       "director                                                    J.J. Abrams   \n",
       "tagline                                   Every generation has a story.   \n",
       "keywords                          android|spaceship|jedi|space opera|3d   \n",
       "overview              Thirty years after defeating the Galactic Empi...   \n",
       "runtime                                                             136   \n",
       "genres                         Action|Adventure|Science Fiction|Fantasy   \n",
       "production_companies          Lucasfilm|Truenorth Productions|Bad Robot   \n",
       "release_date                                                   12/15/15   \n",
       "vote_count                                                         5292   \n",
       "vote_average                                                        7.5   \n",
       "release_year                                                       2015   \n",
       "budget_adj                                                     1.84e+08   \n",
       "revenue_adj                                                 1.90272e+09   \n",
       "\n",
       "                                                                      4  \n",
       "id                                                               168259  \n",
       "imdb_id                                                       tt2820852  \n",
       "popularity                                                      9.33501  \n",
       "budget                                                        190000000  \n",
       "revenue                                                      1506249360  \n",
       "original_title                                                Furious 7  \n",
       "cast                  Vin Diesel|Paul Walker|Jason Statham|Michelle ...  \n",
       "homepage                                       http://www.furious7.com/  \n",
       "director                                                      James Wan  \n",
       "tagline                                             Vengeance Hits Home  \n",
       "keywords                            car race|speed|revenge|suspense|car  \n",
       "overview              Deckard Shaw seeks revenge against Dominic Tor...  \n",
       "runtime                                                             137  \n",
       "genres                                            Action|Crime|Thriller  \n",
       "production_companies  Universal Pictures|Original Film|Media Rights ...  \n",
       "release_date                                                     4/1/15  \n",
       "vote_count                                                         2947  \n",
       "vote_average                                                        7.3  \n",
       "release_year                                                       2015  \n",
       "budget_adj                                                    1.748e+08  \n",
       "revenue_adj                                                 1.38575e+09  "
      ]
     },
     "execution_count": 4,
     "metadata": {},
     "output_type": "execute_result"
    }
   ],
   "source": [
    "df.head().T"
   ]
  },
  {
   "cell_type": "markdown",
   "metadata": {},
   "source": [
    "Observo que es un dataset de películas con su presupuesto, ganancia, tiempo en pantalla, genero de la película, keywords que la representan, etc.\n",
    "Renombro mi dataset pertinente al tema"
   ]
  },
  {
   "cell_type": "code",
   "execution_count": 5,
   "metadata": {},
   "outputs": [],
   "source": [
    "movies = df\n",
    "del(df)"
   ]
  },
  {
   "cell_type": "markdown",
   "metadata": {},
   "source": [
    "Realizo un resumen de estadística descriptiva de las variables númericas"
   ]
  },
  {
   "cell_type": "markdown",
   "metadata": {},
   "source": [
    "### Datos faltantes"
   ]
  },
  {
   "cell_type": "code",
   "execution_count": 6,
   "metadata": {},
   "outputs": [
    {
     "name": "stdout",
     "output_type": "stream",
     "text": [
      "id                         0\n",
      "imdb_id                   10\n",
      "popularity                 0\n",
      "budget                     0\n",
      "revenue                    0\n",
      "original_title             0\n",
      "cast                      76\n",
      "homepage                7930\n",
      "director                  44\n",
      "tagline                 2824\n",
      "keywords                1493\n",
      "overview                   4\n",
      "runtime                    0\n",
      "genres                    23\n",
      "production_companies    1030\n",
      "release_date               0\n",
      "vote_count                 0\n",
      "vote_average               0\n",
      "release_year               0\n",
      "budget_adj                 0\n",
      "revenue_adj                0\n",
      "dtype: int64\n"
     ]
    }
   ],
   "source": [
    "print(movies.isnull().sum())"
   ]
  },
  {
   "cell_type": "markdown",
   "metadata": {},
   "source": [
    "## Analisis de variables\n",
    "Observo que las variables con más datos faltantes son Homepage, tagline, Keywords, Production Companies, Cast y Director.\n",
    "* Homepage es el sitio web de la película, en esta oportunidad no me interesa.\n",
    "* Tagline es una frase que resumen a la película. Habría que analizar su construcción pero en caso de hacer una analisis de Palabras viendo que palabras se repiten más y a que sentimientos se asociación respecto a las peliculas taquilleras, el tag podría ser interesante aunque habría que ver cuanta información se pierde respecto al overview.\n",
    "* Keywords: Es un item interesante aunque la dimensión de este trabajo lo exceda, me voy a quedar con la columna para aplicar la transformación tf-idf (term frequency–inverse document frequency)  que es uno de los métodos más populares para analizar el peso de un palabras en una colección de documentos. Para esto voy a tener que eliminar las stopwords y realizar algún tipo de normalización de esa columna.\n",
    "* Production Companies, Cast y Director, en este momento no me interesa. Pero son interesante para futuros analisis respecto a la popularidad y revenue de las peliculas"
   ]
  },
  {
   "cell_type": "code",
   "execution_count": 7,
   "metadata": {},
   "outputs": [],
   "source": [
    "movies = movies.drop(columns= [\"homepage\",\"tagline\",\"production_companies\",\"cast\",\"director\"])"
   ]
  },
  {
   "cell_type": "code",
   "execution_count": 8,
   "metadata": {},
   "outputs": [
    {
     "data": {
      "text/html": [
       "<div>\n",
       "<style scoped>\n",
       "    .dataframe tbody tr th:only-of-type {\n",
       "        vertical-align: middle;\n",
       "    }\n",
       "\n",
       "    .dataframe tbody tr th {\n",
       "        vertical-align: top;\n",
       "    }\n",
       "\n",
       "    .dataframe thead th {\n",
       "        text-align: right;\n",
       "    }\n",
       "</style>\n",
       "<table border=\"1\" class=\"dataframe\">\n",
       "  <thead>\n",
       "    <tr style=\"text-align: right;\">\n",
       "      <th></th>\n",
       "      <th>id</th>\n",
       "      <th>popularity</th>\n",
       "      <th>budget</th>\n",
       "      <th>revenue</th>\n",
       "      <th>runtime</th>\n",
       "      <th>vote_count</th>\n",
       "      <th>vote_average</th>\n",
       "      <th>release_year</th>\n",
       "      <th>budget_adj</th>\n",
       "      <th>revenue_adj</th>\n",
       "    </tr>\n",
       "  </thead>\n",
       "  <tbody>\n",
       "    <tr>\n",
       "      <td>count</td>\n",
       "      <td>10866.000000</td>\n",
       "      <td>10866.000000</td>\n",
       "      <td>1.086600e+04</td>\n",
       "      <td>1.086600e+04</td>\n",
       "      <td>10866.000000</td>\n",
       "      <td>10866.000000</td>\n",
       "      <td>10866.000000</td>\n",
       "      <td>10866.000000</td>\n",
       "      <td>1.086600e+04</td>\n",
       "      <td>1.086600e+04</td>\n",
       "    </tr>\n",
       "    <tr>\n",
       "      <td>mean</td>\n",
       "      <td>66064.177434</td>\n",
       "      <td>0.646441</td>\n",
       "      <td>1.462570e+07</td>\n",
       "      <td>3.982332e+07</td>\n",
       "      <td>102.070863</td>\n",
       "      <td>217.389748</td>\n",
       "      <td>5.974922</td>\n",
       "      <td>2001.322658</td>\n",
       "      <td>1.755104e+07</td>\n",
       "      <td>5.136436e+07</td>\n",
       "    </tr>\n",
       "    <tr>\n",
       "      <td>std</td>\n",
       "      <td>92130.136561</td>\n",
       "      <td>1.000185</td>\n",
       "      <td>3.091321e+07</td>\n",
       "      <td>1.170035e+08</td>\n",
       "      <td>31.381405</td>\n",
       "      <td>575.619058</td>\n",
       "      <td>0.935142</td>\n",
       "      <td>12.812941</td>\n",
       "      <td>3.430616e+07</td>\n",
       "      <td>1.446325e+08</td>\n",
       "    </tr>\n",
       "    <tr>\n",
       "      <td>min</td>\n",
       "      <td>5.000000</td>\n",
       "      <td>0.000065</td>\n",
       "      <td>0.000000e+00</td>\n",
       "      <td>0.000000e+00</td>\n",
       "      <td>0.000000</td>\n",
       "      <td>10.000000</td>\n",
       "      <td>1.500000</td>\n",
       "      <td>1960.000000</td>\n",
       "      <td>0.000000e+00</td>\n",
       "      <td>0.000000e+00</td>\n",
       "    </tr>\n",
       "    <tr>\n",
       "      <td>25%</td>\n",
       "      <td>10596.250000</td>\n",
       "      <td>0.207583</td>\n",
       "      <td>0.000000e+00</td>\n",
       "      <td>0.000000e+00</td>\n",
       "      <td>90.000000</td>\n",
       "      <td>17.000000</td>\n",
       "      <td>5.400000</td>\n",
       "      <td>1995.000000</td>\n",
       "      <td>0.000000e+00</td>\n",
       "      <td>0.000000e+00</td>\n",
       "    </tr>\n",
       "    <tr>\n",
       "      <td>50%</td>\n",
       "      <td>20669.000000</td>\n",
       "      <td>0.383856</td>\n",
       "      <td>0.000000e+00</td>\n",
       "      <td>0.000000e+00</td>\n",
       "      <td>99.000000</td>\n",
       "      <td>38.000000</td>\n",
       "      <td>6.000000</td>\n",
       "      <td>2006.000000</td>\n",
       "      <td>0.000000e+00</td>\n",
       "      <td>0.000000e+00</td>\n",
       "    </tr>\n",
       "    <tr>\n",
       "      <td>75%</td>\n",
       "      <td>75610.000000</td>\n",
       "      <td>0.713817</td>\n",
       "      <td>1.500000e+07</td>\n",
       "      <td>2.400000e+07</td>\n",
       "      <td>111.000000</td>\n",
       "      <td>145.750000</td>\n",
       "      <td>6.600000</td>\n",
       "      <td>2011.000000</td>\n",
       "      <td>2.085325e+07</td>\n",
       "      <td>3.369710e+07</td>\n",
       "    </tr>\n",
       "    <tr>\n",
       "      <td>max</td>\n",
       "      <td>417859.000000</td>\n",
       "      <td>32.985763</td>\n",
       "      <td>4.250000e+08</td>\n",
       "      <td>2.781506e+09</td>\n",
       "      <td>900.000000</td>\n",
       "      <td>9767.000000</td>\n",
       "      <td>9.200000</td>\n",
       "      <td>2015.000000</td>\n",
       "      <td>4.250000e+08</td>\n",
       "      <td>2.827124e+09</td>\n",
       "    </tr>\n",
       "  </tbody>\n",
       "</table>\n",
       "</div>"
      ],
      "text/plain": [
       "                  id    popularity        budget       revenue       runtime  \\\n",
       "count   10866.000000  10866.000000  1.086600e+04  1.086600e+04  10866.000000   \n",
       "mean    66064.177434      0.646441  1.462570e+07  3.982332e+07    102.070863   \n",
       "std     92130.136561      1.000185  3.091321e+07  1.170035e+08     31.381405   \n",
       "min         5.000000      0.000065  0.000000e+00  0.000000e+00      0.000000   \n",
       "25%     10596.250000      0.207583  0.000000e+00  0.000000e+00     90.000000   \n",
       "50%     20669.000000      0.383856  0.000000e+00  0.000000e+00     99.000000   \n",
       "75%     75610.000000      0.713817  1.500000e+07  2.400000e+07    111.000000   \n",
       "max    417859.000000     32.985763  4.250000e+08  2.781506e+09    900.000000   \n",
       "\n",
       "         vote_count  vote_average  release_year    budget_adj   revenue_adj  \n",
       "count  10866.000000  10866.000000  10866.000000  1.086600e+04  1.086600e+04  \n",
       "mean     217.389748      5.974922   2001.322658  1.755104e+07  5.136436e+07  \n",
       "std      575.619058      0.935142     12.812941  3.430616e+07  1.446325e+08  \n",
       "min       10.000000      1.500000   1960.000000  0.000000e+00  0.000000e+00  \n",
       "25%       17.000000      5.400000   1995.000000  0.000000e+00  0.000000e+00  \n",
       "50%       38.000000      6.000000   2006.000000  0.000000e+00  0.000000e+00  \n",
       "75%      145.750000      6.600000   2011.000000  2.085325e+07  3.369710e+07  \n",
       "max     9767.000000      9.200000   2015.000000  4.250000e+08  2.827124e+09  "
      ]
     },
     "execution_count": 8,
     "metadata": {},
     "output_type": "execute_result"
    }
   ],
   "source": [
    "movies.describe()"
   ]
  },
  {
   "cell_type": "markdown",
   "metadata": {},
   "source": [
    "### Correlaciones"
   ]
  },
  {
   "cell_type": "markdown",
   "metadata": {},
   "source": [
    "Siguiendo la lógica del script sugerido observo las correlaciones para enfocarme principalmente en las variables que muestren cierto grado de asociación."
   ]
  },
  {
   "cell_type": "code",
   "execution_count": 9,
   "metadata": {},
   "outputs": [
    {
     "data": {
      "image/png": "[encoded data removed]",
      "text/plain": [
       "<Figure size 1224x432 with 2 Axes>"
      ]
     },
     "metadata": {
      "needs_background": "light"
     },
     "output_type": "display_data"
    }
   ],
   "source": [
    "num_col = movies.dtypes[movies.dtypes != 'object'].index\n",
    "plt.figure(figsize = (17,6));\n",
    "corr = movies[num_col[1:]].corr()\n",
    "sns.heatmap(corr,annot = True,square = True);"
   ]
  },
  {
   "cell_type": "markdown",
   "metadata": {},
   "source": [
    "Se encuentra un alto grado de asociación entre Revenue, Badget y Vote Count"
   ]
  },
  {
   "cell_type": "markdown",
   "metadata": {},
   "source": [
    "### Relación Revenue vs Budget"
   ]
  },
  {
   "cell_type": "markdown",
   "metadata": {},
   "source": [
    "Realizo un scatter plot para obser la relación entre ambas variables"
   ]
  },
  {
   "cell_type": "code",
   "execution_count": 10,
   "metadata": {},
   "outputs": [
    {
     "data": {
      "image/png": "[encoded data removed]",
      "text/plain": [
       "<Figure size 1152x576 with 1 Axes>"
      ]
     },
     "metadata": {
      "needs_background": "light"
     },
     "output_type": "display_data"
    }
   ],
   "source": [
    "plt.figure(figsize=(16, 8))\n",
    "plt.subplot(1, 2, 1)\n",
    "plt.scatter(movies['budget_adj'], movies['revenue_adj'])\n",
    "plt.title('Revenue vs budget');"
   ]
  },
  {
   "cell_type": "markdown",
   "metadata": {},
   "source": [
    "### Transformaciones\n",
    "#### Analizo revenue vs revenue_adj\n"
   ]
  },
  {
   "cell_type": "code",
   "execution_count": 11,
   "metadata": {},
   "outputs": [
    {
     "data": {
      "image/png": "[encoded data removed]",
      "text/plain": [
       "<Figure size 1152x432 with 2 Axes>"
      ]
     },
     "metadata": {
      "needs_background": "light"
     },
     "output_type": "display_data"
    }
   ],
   "source": [
    "fig, ax = plt.subplots(figsize = (16, 6))\n",
    "plt.subplot(1, 2, 1)\n",
    "plt.hist(movies['revenue']);\n",
    "plt.title('Distribution of revenue');\n",
    "plt.subplot(1, 2, 2)\n",
    "plt.hist(['revenue_adj'], color = \"#72A0C1\" );\n",
    "plt.title('Distribution of revenue_adj');"
   ]
  },
  {
   "cell_type": "markdown",
   "metadata": {},
   "source": [
    "La distribución de revenue es asimetria y no entiendo en que consiste el ajuste del revenue, por lo tanto decido hacer mi propia transformación logaritmica."
   ]
  },
  {
   "cell_type": "code",
   "execution_count": 12,
   "metadata": {},
   "outputs": [
    {
     "data": {
      "image/png": "[encoded data removed]",
      "text/plain": [
       "<Figure size 1152x432 with 2 Axes>"
      ]
     },
     "metadata": {
      "needs_background": "light"
     },
     "output_type": "display_data"
    }
   ],
   "source": [
    "fig, ax = plt.subplots(figsize = (16, 6))\n",
    "plt.subplot(1, 2, 1)\n",
    "plt.hist(movies['revenue']);\n",
    "plt.title('Distribution of revenue');\n",
    "plt.subplot(1, 2, 2)\n",
    "plt.hist(np.log1p(movies['revenue']),color = \"#72A0F9\");\n",
    "plt.title('Distribution of log of revenue');"
   ]
  },
  {
   "cell_type": "markdown",
   "metadata": {},
   "source": [
    "## Budget"
   ]
  },
  {
   "cell_type": "markdown",
   "metadata": {},
   "source": [
    "Repito analisis con Budget"
   ]
  },
  {
   "cell_type": "code",
   "execution_count": 13,
   "metadata": {},
   "outputs": [
    {
     "data": {
      "image/png": "[encoded data removed]",
      "text/plain": [
       "<Figure size 1152x432 with 2 Axes>"
      ]
     },
     "metadata": {
      "needs_background": "light"
     },
     "output_type": "display_data"
    }
   ],
   "source": [
    "fig, ax = plt.subplots(figsize = (16, 6))\n",
    "plt.subplot(1, 2, 1)\n",
    "plt.hist(movies['budget'], color= \"red\");\n",
    "plt.title('Distribution of budget');\n",
    "plt.subplot(1, 2, 2)\n",
    "plt.hist(np.log1p(movies['budget']), color= \"orange\");\n",
    "plt.title('Distribution of log of budget');"
   ]
  },
  {
   "cell_type": "markdown",
   "metadata": {},
   "source": [
    "We analize that revenu revenue distribution has a high skewness. We can justified the log transformation"
   ]
  },
  {
   "cell_type": "code",
   "execution_count": 14,
   "metadata": {},
   "outputs": [],
   "source": [
    "movies['log_revenue'] = np.log1p(movies['revenue'])\n",
    "movies['log_budget'] = np.log1p(movies['budget'])\n"
   ]
  },
  {
   "cell_type": "code",
   "execution_count": 15,
   "metadata": {},
   "outputs": [
    {
     "data": {
      "image/png": "[encoded data removed]",
      "text/plain": [
       "<Figure size 1152x576 with 2 Axes>"
      ]
     },
     "metadata": {
      "needs_background": "light"
     },
     "output_type": "display_data"
    }
   ],
   "source": [
    "plt.figure(figsize=(16, 8))\n",
    "plt.subplot(1, 2, 1)\n",
    "plt.scatter(movies['budget'], movies['revenue'])\n",
    "plt.title('Revenue vs budget');\n",
    "plt.subplot(1, 2, 2)\n",
    "plt.scatter(np.log1p(movies['budget']), movies['log_revenue'])\n",
    "plt.title('Log Revenue vs log budget');"
   ]
  },
  {
   "cell_type": "markdown",
   "metadata": {},
   "source": [
    "Elimino Budget, Budget_adj, Revenue y Revenue_adj y selecciono la columna con la transformación logaritmica"
   ]
  },
  {
   "cell_type": "code",
   "execution_count": 16,
   "metadata": {},
   "outputs": [],
   "source": [
    "movies = movies.drop(columns= [\"revenue\",\"budget\",\"revenue_adj\",\"budget_adj\"])"
   ]
  },
  {
   "cell_type": "code",
   "execution_count": 17,
   "metadata": {},
   "outputs": [
    {
     "data": {
      "text/html": [
       "<div>\n",
       "<style scoped>\n",
       "    .dataframe tbody tr th:only-of-type {\n",
       "        vertical-align: middle;\n",
       "    }\n",
       "\n",
       "    .dataframe tbody tr th {\n",
       "        vertical-align: top;\n",
       "    }\n",
       "\n",
       "    .dataframe thead th {\n",
       "        text-align: right;\n",
       "    }\n",
       "</style>\n",
       "<table border=\"1\" class=\"dataframe\">\n",
       "  <thead>\n",
       "    <tr style=\"text-align: right;\">\n",
       "      <th></th>\n",
       "      <th>id</th>\n",
       "      <th>imdb_id</th>\n",
       "      <th>popularity</th>\n",
       "      <th>original_title</th>\n",
       "      <th>keywords</th>\n",
       "      <th>overview</th>\n",
       "      <th>runtime</th>\n",
       "      <th>genres</th>\n",
       "      <th>release_date</th>\n",
       "      <th>vote_count</th>\n",
       "      <th>vote_average</th>\n",
       "      <th>release_year</th>\n",
       "      <th>log_revenue</th>\n",
       "      <th>log_budget</th>\n",
       "    </tr>\n",
       "  </thead>\n",
       "  <tbody>\n",
       "    <tr>\n",
       "      <td>0</td>\n",
       "      <td>135397</td>\n",
       "      <td>tt0369610</td>\n",
       "      <td>32.985763</td>\n",
       "      <td>Jurassic World</td>\n",
       "      <td>monster|dna|tyrannosaurus rex|velociraptor|island</td>\n",
       "      <td>Twenty-two years after the events of Jurassic ...</td>\n",
       "      <td>124</td>\n",
       "      <td>Action|Adventure|Science Fiction|Thriller</td>\n",
       "      <td>6/9/15</td>\n",
       "      <td>5562</td>\n",
       "      <td>6.5</td>\n",
       "      <td>2015</td>\n",
       "      <td>21.137710</td>\n",
       "      <td>18.826146</td>\n",
       "    </tr>\n",
       "    <tr>\n",
       "      <td>1</td>\n",
       "      <td>76341</td>\n",
       "      <td>tt1392190</td>\n",
       "      <td>28.419936</td>\n",
       "      <td>Mad Max: Fury Road</td>\n",
       "      <td>future|chase|post-apocalyptic|dystopia|australia</td>\n",
       "      <td>An apocalyptic story set in the furthest reach...</td>\n",
       "      <td>120</td>\n",
       "      <td>Action|Adventure|Science Fiction|Thriller</td>\n",
       "      <td>5/13/15</td>\n",
       "      <td>6185</td>\n",
       "      <td>7.1</td>\n",
       "      <td>2015</td>\n",
       "      <td>19.751558</td>\n",
       "      <td>18.826146</td>\n",
       "    </tr>\n",
       "    <tr>\n",
       "      <td>2</td>\n",
       "      <td>262500</td>\n",
       "      <td>tt2908446</td>\n",
       "      <td>13.112507</td>\n",
       "      <td>Insurgent</td>\n",
       "      <td>based on novel|revolution|dystopia|sequel|dyst...</td>\n",
       "      <td>Beatrice Prior must confront her inner demons ...</td>\n",
       "      <td>119</td>\n",
       "      <td>Adventure|Science Fiction|Thriller</td>\n",
       "      <td>3/18/15</td>\n",
       "      <td>2480</td>\n",
       "      <td>6.3</td>\n",
       "      <td>2015</td>\n",
       "      <td>19.503293</td>\n",
       "      <td>18.515991</td>\n",
       "    </tr>\n",
       "    <tr>\n",
       "      <td>3</td>\n",
       "      <td>140607</td>\n",
       "      <td>tt2488496</td>\n",
       "      <td>11.173104</td>\n",
       "      <td>Star Wars: The Force Awakens</td>\n",
       "      <td>android|spaceship|jedi|space opera|3d</td>\n",
       "      <td>Thirty years after defeating the Galactic Empi...</td>\n",
       "      <td>136</td>\n",
       "      <td>Action|Adventure|Science Fiction|Fantasy</td>\n",
       "      <td>12/15/15</td>\n",
       "      <td>5292</td>\n",
       "      <td>7.5</td>\n",
       "      <td>2015</td>\n",
       "      <td>21.449934</td>\n",
       "      <td>19.113828</td>\n",
       "    </tr>\n",
       "    <tr>\n",
       "      <td>4</td>\n",
       "      <td>168259</td>\n",
       "      <td>tt2820852</td>\n",
       "      <td>9.335014</td>\n",
       "      <td>Furious 7</td>\n",
       "      <td>car race|speed|revenge|suspense|car</td>\n",
       "      <td>Deckard Shaw seeks revenge against Dominic Tor...</td>\n",
       "      <td>137</td>\n",
       "      <td>Action|Crime|Thriller</td>\n",
       "      <td>4/1/15</td>\n",
       "      <td>2947</td>\n",
       "      <td>7.3</td>\n",
       "      <td>2015</td>\n",
       "      <td>21.132889</td>\n",
       "      <td>19.062535</td>\n",
       "    </tr>\n",
       "  </tbody>\n",
       "</table>\n",
       "</div>"
      ],
      "text/plain": [
       "       id    imdb_id  popularity                original_title  \\\n",
       "0  135397  tt0369610   32.985763                Jurassic World   \n",
       "1   76341  tt1392190   28.419936            Mad Max: Fury Road   \n",
       "2  262500  tt2908446   13.112507                     Insurgent   \n",
       "3  140607  tt2488496   11.173104  Star Wars: The Force Awakens   \n",
       "4  168259  tt2820852    9.335014                     Furious 7   \n",
       "\n",
       "                                            keywords  \\\n",
       "0  monster|dna|tyrannosaurus rex|velociraptor|island   \n",
       "1   future|chase|post-apocalyptic|dystopia|australia   \n",
       "2  based on novel|revolution|dystopia|sequel|dyst...   \n",
       "3              android|spaceship|jedi|space opera|3d   \n",
       "4                car race|speed|revenge|suspense|car   \n",
       "\n",
       "                                            overview  runtime  \\\n",
       "0  Twenty-two years after the events of Jurassic ...      124   \n",
       "1  An apocalyptic story set in the furthest reach...      120   \n",
       "2  Beatrice Prior must confront her inner demons ...      119   \n",
       "3  Thirty years after defeating the Galactic Empi...      136   \n",
       "4  Deckard Shaw seeks revenge against Dominic Tor...      137   \n",
       "\n",
       "                                      genres release_date  vote_count  \\\n",
       "0  Action|Adventure|Science Fiction|Thriller       6/9/15        5562   \n",
       "1  Action|Adventure|Science Fiction|Thriller      5/13/15        6185   \n",
       "2         Adventure|Science Fiction|Thriller      3/18/15        2480   \n",
       "3   Action|Adventure|Science Fiction|Fantasy     12/15/15        5292   \n",
       "4                      Action|Crime|Thriller       4/1/15        2947   \n",
       "\n",
       "   vote_average  release_year  log_revenue  log_budget  \n",
       "0           6.5          2015    21.137710   18.826146  \n",
       "1           7.1          2015    19.751558   18.826146  \n",
       "2           6.3          2015    19.503293   18.515991  \n",
       "3           7.5          2015    21.449934   19.113828  \n",
       "4           7.3          2015    21.132889   19.062535  "
      ]
     },
     "execution_count": 17,
     "metadata": {},
     "output_type": "execute_result"
    }
   ],
   "source": [
    "movies.head()"
   ]
  },
  {
   "cell_type": "markdown",
   "metadata": {},
   "source": [
    "# Genres"
   ]
  },
  {
   "cell_type": "code",
   "execution_count": 18,
   "metadata": {},
   "outputs": [
    {
     "data": {
      "text/plain": [
       "0    Action|Adventure|Science Fiction|Thriller\n",
       "1    Action|Adventure|Science Fiction|Thriller\n",
       "2           Adventure|Science Fiction|Thriller\n",
       "3     Action|Adventure|Science Fiction|Fantasy\n",
       "4                        Action|Crime|Thriller\n",
       "Name: genres, dtype: object"
      ]
     },
     "execution_count": 18,
     "metadata": {},
     "output_type": "execute_result"
    }
   ],
   "source": [
    "movies['genres'] .head()"
   ]
  },
  {
   "cell_type": "markdown",
   "metadata": {},
   "source": [
    "Analizo por genero, para eso transformo el tipo de la columna de objeto a string."
   ]
  },
  {
   "cell_type": "code",
   "execution_count": 19,
   "metadata": {},
   "outputs": [],
   "source": [
    "movies['genres'] = movies['genres'].astype(str)"
   ]
  },
  {
   "cell_type": "markdown",
   "metadata": {},
   "source": [
    "Me interesa quedarme sólo con tres generos por película inicialmente. Posiblemente al final decide quedarme arbitariamente con el primer genero que aparece"
   ]
  },
  {
   "cell_type": "code",
   "execution_count": 20,
   "metadata": {},
   "outputs": [],
   "source": [
    "genres = pd.DataFrame((movies.genres.str.split('|').tolist()), index= movies.index)[[0,1,2]].rename(\n",
    "    columns={\n",
    "        0: \"genre0\",\n",
    "        1: \"genre1\",\n",
    "        2: \"genre2\"\n",
    "    })\n",
    "# Se agrega al dataset\n",
    "movies = pd.concat([movies,genres], axis=1).drop(\"genres\", axis=1)"
   ]
  },
  {
   "cell_type": "code",
   "execution_count": 21,
   "metadata": {},
   "outputs": [
    {
     "name": "stdout",
     "output_type": "stream",
     "text": [
      "<class 'pandas.core.frame.DataFrame'>\n",
      "RangeIndex: 10866 entries, 0 to 10865\n",
      "Data columns (total 16 columns):\n",
      "id                10866 non-null int64\n",
      "imdb_id           10856 non-null object\n",
      "popularity        10866 non-null float64\n",
      "original_title    10866 non-null object\n",
      "keywords          9373 non-null object\n",
      "overview          10862 non-null object\n",
      "runtime           10866 non-null int64\n",
      "release_date      10866 non-null object\n",
      "vote_count        10866 non-null int64\n",
      "vote_average      10866 non-null float64\n",
      "release_year      10866 non-null int64\n",
      "log_revenue       10866 non-null float64\n",
      "log_budget        10866 non-null float64\n",
      "genre0            10866 non-null object\n",
      "genre1            8515 non-null object\n",
      "genre2            5079 non-null object\n",
      "dtypes: float64(4), int64(4), object(8)\n",
      "memory usage: 1.3+ MB\n"
     ]
    }
   ],
   "source": [
    "movies.info()"
   ]
  },
  {
   "cell_type": "code",
   "execution_count": 22,
   "metadata": {},
   "outputs": [
    {
     "data": {
      "text/plain": [
       "0       Action\n",
       "1       Action\n",
       "2    Adventure\n",
       "3       Action\n",
       "4       Action\n",
       "Name: genre0, dtype: object"
      ]
     },
     "execution_count": 22,
     "metadata": {},
     "output_type": "execute_result"
    }
   ],
   "source": [
    "movies.genre0.head()"
   ]
  },
  {
   "cell_type": "markdown",
   "metadata": {},
   "source": [
    "# release_date"
   ]
  },
  {
   "cell_type": "markdown",
   "metadata": {},
   "source": [
    "Realease_date puede ser interesante para entender si cambia el revenue según si el estreno se da los fines de semana o los días de semana, principio del mes o fin de mes. Yo hago la transformación a año pero en temporalidad decido quedamre solo con una de las dos columnas."
   ]
  },
  {
   "cell_type": "markdown",
   "metadata": {},
   "source": [
    "Transformo la variable a año"
   ]
  },
  {
   "cell_type": "code",
   "execution_count": 23,
   "metadata": {},
   "outputs": [],
   "source": [
    "movies[\"release_date\"]  =pd.to_datetime(movies[\"release_date\"] ,errors ='coerce')"
   ]
  },
  {
   "cell_type": "code",
   "execution_count": 24,
   "metadata": {},
   "outputs": [],
   "source": [
    "movies['year'] = movies.release_date.dt.year"
   ]
  },
  {
   "cell_type": "code",
   "execution_count": 25,
   "metadata": {},
   "outputs": [
    {
     "data": {
      "text/plain": [
       "0    2015\n",
       "1    2015\n",
       "2    2015\n",
       "3    2015\n",
       "4    2015\n",
       "Name: year, dtype: int64"
      ]
     },
     "execution_count": 25,
     "metadata": {},
     "output_type": "execute_result"
    }
   ],
   "source": [
    "movies[\"year\"].head()"
   ]
  },
  {
   "cell_type": "code",
   "execution_count": 26,
   "metadata": {},
   "outputs": [
    {
     "data": {
      "text/plain": [
       "0    2015\n",
       "1    2015\n",
       "2    2015\n",
       "3    2015\n",
       "4    2015\n",
       "Name: release_year, dtype: int64"
      ]
     },
     "execution_count": 26,
     "metadata": {},
     "output_type": "execute_result"
    }
   ],
   "source": [
    "movies[\"release_year\"].head()"
   ]
  },
  {
   "cell_type": "code",
   "execution_count": 27,
   "metadata": {},
   "outputs": [],
   "source": [
    "movies = movies.drop(columns= [\"release_year\"])"
   ]
  },
  {
   "cell_type": "code",
   "execution_count": 28,
   "metadata": {},
   "outputs": [],
   "source": [
    "movies = movies.drop(columns= [\"release_date\"])"
   ]
  },
  {
   "cell_type": "markdown",
   "metadata": {},
   "source": [
    "# Grafico distribuciones\n",
    "\n",
    "### Genero, Año, Duración y Revenue"
   ]
  },
  {
   "cell_type": "code",
   "execution_count": 29,
   "metadata": {},
   "outputs": [
    {
     "data": {
      "image/png": "[encoded data removed]",
      "text/plain": [
       "<Figure size 1296x864 with 4 Axes>"
      ]
     },
     "metadata": {},
     "output_type": "display_data"
    }
   ],
   "source": [
    "sns.set(rc={'figure.figsize':(18,12)})\n",
    "#sns.set(font_scale = 2)\n",
    "\n",
    "f, axes = plt.subplots(2, 2)\n",
    "axes = axes.flatten()\n",
    "\n",
    "color = \"#72A0C1\"\n",
    "\n",
    "\n",
    "# Género (30 primeros)\n",
    "#temp dataset\n",
    "temp = pd.melt(movies[[\"imdb_id\",\"genre0\",\"genre1\",\"genre2\"]],id_vars = \"imdb_id\", var_name=\"column\", value_name=\"genre\")\n",
    "# plot\n",
    "ax0 = axes[0]\n",
    "g0 = sns.countplot(data=temp, y='genre', color= color, ax=ax0, orient=\"h\", order = temp[\"genre\"].value_counts().iloc[:31].index)\n",
    "ax0.title.set_text('Género (top 30 más frecuentes)')\n",
    "ax0.set(ylabel=\"\", xlabel=\"\")#, xlim=(0,10000))\n",
    "# Porcentaje   \n",
    "total = float(len(movies))\n",
    "for p in g0.patches:\n",
    "    width = p.get_width()\n",
    "    g0.text(width + 1000,\n",
    "            p.get_y() + p.get_height()/1.5,\n",
    "            '{:1.2%}'.format(width/total),\n",
    "            ha=\"center\") \n",
    "del(temp)\n",
    "\n",
    "# Año\n",
    "ax1 = axes[1]\n",
    "g1 = sns.distplot(movies[\"year\"].dropna(), ax=ax1, color=color)\n",
    "g1.set(ylabel=\"\", xlabel=\"\", xlim=(1950,2020))\n",
    "ax1.set_title('Año')\n",
    "\n",
    "\n",
    "# Duracion\n",
    "ax2 = axes[2]\n",
    "g2 = sns.distplot(movies[\"runtime\"].dropna(), ax=ax2, color=color)\n",
    "g2.set(ylabel=\"\", xlabel=\"\")\n",
    "ax2.set_title('Duración (minutos)')\n",
    "\n",
    "#Revenue\n",
    "ax3 = axes[3]\n",
    "g3 = sns.distplot(movies[\"log_revenue\"].dropna(), ax=ax3, color=color)\n",
    "g3.set(ylabel=\"\", xlabel=\"\")\n",
    "ax3.set_title('log_revenue')\n",
    "\n",
    "\n",
    "\n",
    "\n",
    "plt.tight_layout()"
   ]
  },
  {
   "cell_type": "markdown",
   "metadata": {},
   "source": [
    "### Popularity vs Revenue"
   ]
  },
  {
   "cell_type": "markdown",
   "metadata": {},
   "source": [
    "¿Cual es la relacion entre revenue y popularidad?\n"
   ]
  },
  {
   "cell_type": "code",
   "execution_count": 30,
   "metadata": {},
   "outputs": [
    {
     "data": {
      "text/plain": [
       "Text(0.5, 1.0, 'Relacion entre Revenue y Popularidad')"
      ]
     },
     "execution_count": 30,
     "metadata": {},
     "output_type": "execute_result"
    },
    {
     "data": {
      "image/png": "[encoded data removed]",
      "text/plain": [
       "<Figure size 1080x576 with 1 Axes>"
      ]
     },
     "metadata": {},
     "output_type": "display_data"
    }
   ],
   "source": [
    "sns.set()\n",
    "x=movies['log_revenue']\n",
    "y=movies['popularity']\n",
    "plt.figure(figsize=(15,8))\n",
    "sns.regplot(x,y)\n",
    "plt.xlabel('popularity')\n",
    "plt.ylabel('log_revenue')\n",
    "plt.title('Relacion entre Revenue y Popularidad')"
   ]
  },
  {
   "cell_type": "markdown",
   "metadata": {},
   "source": [
    "# Keywords\n"
   ]
  },
  {
   "cell_type": "code",
   "execution_count": 31,
   "metadata": {},
   "outputs": [],
   "source": [
    "movies['keywords'] = movies['keywords'].astype(str)"
   ]
  },
  {
   "cell_type": "code",
   "execution_count": 32,
   "metadata": {},
   "outputs": [
    {
     "name": "stdout",
     "output_type": "stream",
     "text": [
      "Cantidad de palabras en las peliculas\n"
     ]
    },
    {
     "data": {
      "text/plain": [
       "3     1507\n",
       "45     266\n",
       "43     258\n",
       "41     254\n",
       "49     239\n",
       "46     234\n",
       "47     233\n",
       "44     231\n",
       "42     228\n",
       "48     222\n",
       "Name: keywords, dtype: int64"
      ]
     },
     "execution_count": 32,
     "metadata": {},
     "output_type": "execute_result"
    }
   ],
   "source": [
    "print('Cantidad de palabras en las peliculas')\n",
    "movies['keywords'].apply(lambda x: len(x) if x != {} else 0).value_counts().head(10)\n",
    "    "
   ]
  },
  {
   "cell_type": "markdown",
   "metadata": {},
   "source": [
    "Dejare este item para correr a posterior la transformación *Tf-idf* analizando el número de documentos en los que aparece la palabra W en relación a los documentos de la colección."
   ]
  },
  {
   "cell_type": "markdown",
   "metadata": {},
   "source": [
    "# Modelos\n",
    "\n",
    "## Regresion lineal Multiple"
   ]
  },
  {
   "cell_type": "markdown",
   "metadata": {},
   "source": [
    "La idea es predecir una variable continua para eso vamos a utilizar una regresión y no un clasificador. La idea es poder hacer un modelo de base que apunte más a entender el problema que a realizar una predicción. Por eso dado que los regresores son robustos, la idea es correr una regresión lineal multiple y poder interpretar los coefficientes."
   ]
  },
  {
   "cell_type": "markdown",
   "metadata": {},
   "source": [
    "Varias sugerencias nos aparecieron en la exploración de datos. Esto es sobre la correlación entre el log del presupuesto y el log del revenue."
   ]
  },
  {
   "cell_type": "code",
   "execution_count": 33,
   "metadata": {},
   "outputs": [],
   "source": [
    "from sklearn import metrics\n",
    "from sklearn.model_selection import train_test_split, cross_val_score, GridSearchCV, StratifiedKFold\n",
    "from sklearn.feature_extraction.text import CountVectorizer, TfidfVectorizer, HashingVectorizer\n",
    "from nltk import word_tokenize, sent_tokenize                    \n",
    "from sklearn.linear_model import LinearRegression"
   ]
  },
  {
   "cell_type": "code",
   "execution_count": 34,
   "metadata": {},
   "outputs": [
    {
     "data": {
      "text/html": [
       "<div>\n",
       "<style scoped>\n",
       "    .dataframe tbody tr th:only-of-type {\n",
       "        vertical-align: middle;\n",
       "    }\n",
       "\n",
       "    .dataframe tbody tr th {\n",
       "        vertical-align: top;\n",
       "    }\n",
       "\n",
       "    .dataframe thead th {\n",
       "        text-align: right;\n",
       "    }\n",
       "</style>\n",
       "<table border=\"1\" class=\"dataframe\">\n",
       "  <thead>\n",
       "    <tr style=\"text-align: right;\">\n",
       "      <th></th>\n",
       "      <th>id</th>\n",
       "      <th>imdb_id</th>\n",
       "      <th>popularity</th>\n",
       "      <th>original_title</th>\n",
       "      <th>keywords</th>\n",
       "      <th>overview</th>\n",
       "      <th>runtime</th>\n",
       "      <th>vote_count</th>\n",
       "      <th>vote_average</th>\n",
       "      <th>log_revenue</th>\n",
       "      <th>log_budget</th>\n",
       "      <th>genre0</th>\n",
       "      <th>genre1</th>\n",
       "      <th>genre2</th>\n",
       "      <th>year</th>\n",
       "    </tr>\n",
       "  </thead>\n",
       "  <tbody>\n",
       "    <tr>\n",
       "      <td>0</td>\n",
       "      <td>135397</td>\n",
       "      <td>tt0369610</td>\n",
       "      <td>32.985763</td>\n",
       "      <td>Jurassic World</td>\n",
       "      <td>monster|dna|tyrannosaurus rex|velociraptor|island</td>\n",
       "      <td>Twenty-two years after the events of Jurassic ...</td>\n",
       "      <td>124</td>\n",
       "      <td>5562</td>\n",
       "      <td>6.5</td>\n",
       "      <td>21.137710</td>\n",
       "      <td>18.826146</td>\n",
       "      <td>Action</td>\n",
       "      <td>Adventure</td>\n",
       "      <td>Science Fiction</td>\n",
       "      <td>2015</td>\n",
       "    </tr>\n",
       "    <tr>\n",
       "      <td>1</td>\n",
       "      <td>76341</td>\n",
       "      <td>tt1392190</td>\n",
       "      <td>28.419936</td>\n",
       "      <td>Mad Max: Fury Road</td>\n",
       "      <td>future|chase|post-apocalyptic|dystopia|australia</td>\n",
       "      <td>An apocalyptic story set in the furthest reach...</td>\n",
       "      <td>120</td>\n",
       "      <td>6185</td>\n",
       "      <td>7.1</td>\n",
       "      <td>19.751558</td>\n",
       "      <td>18.826146</td>\n",
       "      <td>Action</td>\n",
       "      <td>Adventure</td>\n",
       "      <td>Science Fiction</td>\n",
       "      <td>2015</td>\n",
       "    </tr>\n",
       "    <tr>\n",
       "      <td>2</td>\n",
       "      <td>262500</td>\n",
       "      <td>tt2908446</td>\n",
       "      <td>13.112507</td>\n",
       "      <td>Insurgent</td>\n",
       "      <td>based on novel|revolution|dystopia|sequel|dyst...</td>\n",
       "      <td>Beatrice Prior must confront her inner demons ...</td>\n",
       "      <td>119</td>\n",
       "      <td>2480</td>\n",
       "      <td>6.3</td>\n",
       "      <td>19.503293</td>\n",
       "      <td>18.515991</td>\n",
       "      <td>Adventure</td>\n",
       "      <td>Science Fiction</td>\n",
       "      <td>Thriller</td>\n",
       "      <td>2015</td>\n",
       "    </tr>\n",
       "    <tr>\n",
       "      <td>3</td>\n",
       "      <td>140607</td>\n",
       "      <td>tt2488496</td>\n",
       "      <td>11.173104</td>\n",
       "      <td>Star Wars: The Force Awakens</td>\n",
       "      <td>android|spaceship|jedi|space opera|3d</td>\n",
       "      <td>Thirty years after defeating the Galactic Empi...</td>\n",
       "      <td>136</td>\n",
       "      <td>5292</td>\n",
       "      <td>7.5</td>\n",
       "      <td>21.449934</td>\n",
       "      <td>19.113828</td>\n",
       "      <td>Action</td>\n",
       "      <td>Adventure</td>\n",
       "      <td>Science Fiction</td>\n",
       "      <td>2015</td>\n",
       "    </tr>\n",
       "    <tr>\n",
       "      <td>4</td>\n",
       "      <td>168259</td>\n",
       "      <td>tt2820852</td>\n",
       "      <td>9.335014</td>\n",
       "      <td>Furious 7</td>\n",
       "      <td>car race|speed|revenge|suspense|car</td>\n",
       "      <td>Deckard Shaw seeks revenge against Dominic Tor...</td>\n",
       "      <td>137</td>\n",
       "      <td>2947</td>\n",
       "      <td>7.3</td>\n",
       "      <td>21.132889</td>\n",
       "      <td>19.062535</td>\n",
       "      <td>Action</td>\n",
       "      <td>Crime</td>\n",
       "      <td>Thriller</td>\n",
       "      <td>2015</td>\n",
       "    </tr>\n",
       "  </tbody>\n",
       "</table>\n",
       "</div>"
      ],
      "text/plain": [
       "       id    imdb_id  popularity                original_title  \\\n",
       "0  135397  tt0369610   32.985763                Jurassic World   \n",
       "1   76341  tt1392190   28.419936            Mad Max: Fury Road   \n",
       "2  262500  tt2908446   13.112507                     Insurgent   \n",
       "3  140607  tt2488496   11.173104  Star Wars: The Force Awakens   \n",
       "4  168259  tt2820852    9.335014                     Furious 7   \n",
       "\n",
       "                                            keywords  \\\n",
       "0  monster|dna|tyrannosaurus rex|velociraptor|island   \n",
       "1   future|chase|post-apocalyptic|dystopia|australia   \n",
       "2  based on novel|revolution|dystopia|sequel|dyst...   \n",
       "3              android|spaceship|jedi|space opera|3d   \n",
       "4                car race|speed|revenge|suspense|car   \n",
       "\n",
       "                                            overview  runtime  vote_count  \\\n",
       "0  Twenty-two years after the events of Jurassic ...      124        5562   \n",
       "1  An apocalyptic story set in the furthest reach...      120        6185   \n",
       "2  Beatrice Prior must confront her inner demons ...      119        2480   \n",
       "3  Thirty years after defeating the Galactic Empi...      136        5292   \n",
       "4  Deckard Shaw seeks revenge against Dominic Tor...      137        2947   \n",
       "\n",
       "   vote_average  log_revenue  log_budget     genre0           genre1  \\\n",
       "0           6.5    21.137710   18.826146     Action        Adventure   \n",
       "1           7.1    19.751558   18.826146     Action        Adventure   \n",
       "2           6.3    19.503293   18.515991  Adventure  Science Fiction   \n",
       "3           7.5    21.449934   19.113828     Action        Adventure   \n",
       "4           7.3    21.132889   19.062535     Action            Crime   \n",
       "\n",
       "            genre2  year  \n",
       "0  Science Fiction  2015  \n",
       "1  Science Fiction  2015  \n",
       "2         Thriller  2015  \n",
       "3  Science Fiction  2015  \n",
       "4         Thriller  2015  "
      ]
     },
     "execution_count": 34,
     "metadata": {},
     "output_type": "execute_result"
    }
   ],
   "source": [
    "# Hago una copia de mi dataset\n",
    "movies0 = movies\n",
    "movies0.head()"
   ]
  },
  {
   "cell_type": "code",
   "execution_count": 35,
   "metadata": {},
   "outputs": [],
   "source": [
    "movies0 = movies0.drop(columns= [\"keywords\",\"overview\",\"genre1\",\"genre2\"])"
   ]
  },
  {
   "cell_type": "code",
   "execution_count": 36,
   "metadata": {},
   "outputs": [
    {
     "name": "stdout",
     "output_type": "stream",
     "text": [
      "id                 0\n",
      "imdb_id           10\n",
      "popularity         0\n",
      "original_title     0\n",
      "runtime            0\n",
      "vote_count         0\n",
      "vote_average       0\n",
      "log_revenue        0\n",
      "log_budget         0\n",
      "genre0             0\n",
      "year               0\n",
      "dtype: int64\n"
     ]
    }
   ],
   "source": [
    "print(movies0.isnull().sum())"
   ]
  },
  {
   "cell_type": "code",
   "execution_count": 37,
   "metadata": {},
   "outputs": [],
   "source": [
    "movies0 = movies0.drop(columns= [\"imdb_id\"])"
   ]
  },
  {
   "cell_type": "code",
   "execution_count": 38,
   "metadata": {},
   "outputs": [],
   "source": [
    "# Remuevo NA para correr regresion\n",
    "movies0 = movies0.dropna()"
   ]
  },
  {
   "cell_type": "code",
   "execution_count": 39,
   "metadata": {},
   "outputs": [
    {
     "name": "stdout",
     "output_type": "stream",
     "text": [
      "El dataset original con NA tiene dimension: (10866, 15)\n",
      "El dataset sin NA tiene de dimension: (10866, 10)\n"
     ]
    }
   ],
   "source": [
    "print(f\"El dataset original con NA tiene dimension: {movies.shape}\")\n",
    "print(f\"El dataset sin NA tiene de dimension: {movies0.shape}\")"
   ]
  },
  {
   "cell_type": "code",
   "execution_count": 40,
   "metadata": {},
   "outputs": [],
   "source": [
    "dataset = movies0"
   ]
  },
  {
   "cell_type": "markdown",
   "metadata": {},
   "source": [
    "### Modelo 1:\n",
    "#### Variable Dependiente: log_revenue\n",
    "#### Variables Independientes: popularity,runtime,vote_count,vote_average,log_budget,year"
   ]
  },
  {
   "cell_type": "code",
   "execution_count": 41,
   "metadata": {},
   "outputs": [],
   "source": [
    "X = dataset[[\"popularity\",\"runtime\",\"vote_count\",\"vote_average\",\"log_budget\",\"year\"]]\n",
    "y = dataset['log_revenue']"
   ]
  },
  {
   "cell_type": "code",
   "execution_count": 42,
   "metadata": {},
   "outputs": [],
   "source": [
    "from sklearn.model_selection import train_test_split\n",
    "X_train, X_test, y_train, y_test = train_test_split(X, y, test_size=0.2, random_state=0)"
   ]
  },
  {
   "cell_type": "code",
   "execution_count": 43,
   "metadata": {},
   "outputs": [
    {
     "data": {
      "text/plain": [
       "LinearRegression(copy_X=True, fit_intercept=True, n_jobs=None, normalize=False)"
      ]
     },
     "execution_count": 43,
     "metadata": {},
     "output_type": "execute_result"
    }
   ],
   "source": [
    "regressor = LinearRegression()  \n",
    "regressor.fit(X_train, y_train)"
   ]
  },
  {
   "cell_type": "code",
   "execution_count": 44,
   "metadata": {},
   "outputs": [
    {
     "data": {
      "text/html": [
       "<div>\n",
       "<style scoped>\n",
       "    .dataframe tbody tr th:only-of-type {\n",
       "        vertical-align: middle;\n",
       "    }\n",
       "\n",
       "    .dataframe tbody tr th {\n",
       "        vertical-align: top;\n",
       "    }\n",
       "\n",
       "    .dataframe thead th {\n",
       "        text-align: right;\n",
       "    }\n",
       "</style>\n",
       "<table border=\"1\" class=\"dataframe\">\n",
       "  <thead>\n",
       "    <tr style=\"text-align: right;\">\n",
       "      <th></th>\n",
       "      <th>Coefficient</th>\n",
       "    </tr>\n",
       "  </thead>\n",
       "  <tbody>\n",
       "    <tr>\n",
       "      <td>popularity</td>\n",
       "      <td>0.843855</td>\n",
       "    </tr>\n",
       "    <tr>\n",
       "      <td>runtime</td>\n",
       "      <td>0.011523</td>\n",
       "    </tr>\n",
       "    <tr>\n",
       "      <td>vote_count</td>\n",
       "      <td>0.001594</td>\n",
       "    </tr>\n",
       "    <tr>\n",
       "      <td>vote_average</td>\n",
       "      <td>0.819544</td>\n",
       "    </tr>\n",
       "    <tr>\n",
       "      <td>log_budget</td>\n",
       "      <td>0.562061</td>\n",
       "    </tr>\n",
       "    <tr>\n",
       "      <td>year</td>\n",
       "      <td>-0.048879</td>\n",
       "    </tr>\n",
       "  </tbody>\n",
       "</table>\n",
       "</div>"
      ],
      "text/plain": [
       "              Coefficient\n",
       "popularity       0.843855\n",
       "runtime          0.011523\n",
       "vote_count       0.001594\n",
       "vote_average     0.819544\n",
       "log_budget       0.562061\n",
       "year            -0.048879"
      ]
     },
     "execution_count": 44,
     "metadata": {},
     "output_type": "execute_result"
    }
   ],
   "source": [
    "coeff_df = pd.DataFrame(regressor.coef_, X.columns, columns=['Coefficient'])  \n",
    "coeff_df"
   ]
  },
  {
   "cell_type": "code",
   "execution_count": 45,
   "metadata": {},
   "outputs": [],
   "source": [
    "y_pred = regressor.predict(X_test)"
   ]
  },
  {
   "cell_type": "code",
   "execution_count": 46,
   "metadata": {},
   "outputs": [
    {
     "data": {
      "text/html": [
       "<div>\n",
       "<style scoped>\n",
       "    .dataframe tbody tr th:only-of-type {\n",
       "        vertical-align: middle;\n",
       "    }\n",
       "\n",
       "    .dataframe tbody tr th {\n",
       "        vertical-align: top;\n",
       "    }\n",
       "\n",
       "    .dataframe thead th {\n",
       "        text-align: right;\n",
       "    }\n",
       "</style>\n",
       "<table border=\"1\" class=\"dataframe\">\n",
       "  <thead>\n",
       "    <tr style=\"text-align: right;\">\n",
       "      <th></th>\n",
       "      <th>Actual</th>\n",
       "      <th>Predicted</th>\n",
       "    </tr>\n",
       "  </thead>\n",
       "  <tbody>\n",
       "    <tr>\n",
       "      <td>154</td>\n",
       "      <td>0.000000</td>\n",
       "      <td>12.076226</td>\n",
       "    </tr>\n",
       "    <tr>\n",
       "      <td>7023</td>\n",
       "      <td>19.131510</td>\n",
       "      <td>14.672192</td>\n",
       "    </tr>\n",
       "    <tr>\n",
       "      <td>7420</td>\n",
       "      <td>0.000000</td>\n",
       "      <td>4.725726</td>\n",
       "    </tr>\n",
       "    <tr>\n",
       "      <td>9234</td>\n",
       "      <td>16.622181</td>\n",
       "      <td>12.063125</td>\n",
       "    </tr>\n",
       "    <tr>\n",
       "      <td>7540</td>\n",
       "      <td>17.104290</td>\n",
       "      <td>12.261932</td>\n",
       "    </tr>\n",
       "    <tr>\n",
       "      <td>6443</td>\n",
       "      <td>0.000000</td>\n",
       "      <td>3.035565</td>\n",
       "    </tr>\n",
       "    <tr>\n",
       "      <td>6619</td>\n",
       "      <td>17.589314</td>\n",
       "      <td>13.911113</td>\n",
       "    </tr>\n",
       "    <tr>\n",
       "      <td>9524</td>\n",
       "      <td>17.587242</td>\n",
       "      <td>12.990023</td>\n",
       "    </tr>\n",
       "    <tr>\n",
       "      <td>3728</td>\n",
       "      <td>0.000000</td>\n",
       "      <td>2.699356</td>\n",
       "    </tr>\n",
       "    <tr>\n",
       "      <td>7706</td>\n",
       "      <td>12.302073</td>\n",
       "      <td>9.184463</td>\n",
       "    </tr>\n",
       "  </tbody>\n",
       "</table>\n",
       "</div>"
      ],
      "text/plain": [
       "         Actual  Predicted\n",
       "154    0.000000  12.076226\n",
       "7023  19.131510  14.672192\n",
       "7420   0.000000   4.725726\n",
       "9234  16.622181  12.063125\n",
       "7540  17.104290  12.261932\n",
       "6443   0.000000   3.035565\n",
       "6619  17.589314  13.911113\n",
       "9524  17.587242  12.990023\n",
       "3728   0.000000   2.699356\n",
       "7706  12.302073   9.184463"
      ]
     },
     "execution_count": 46,
     "metadata": {},
     "output_type": "execute_result"
    }
   ],
   "source": [
    "df = pd.DataFrame({'Actual': y_test, 'Predicted': y_pred})\n",
    "df1 = df.head(10)\n",
    "df1"
   ]
  },
  {
   "cell_type": "markdown",
   "metadata": {},
   "source": [
    "### RSME: baseline"
   ]
  },
  {
   "cell_type": "code",
   "execution_count": 47,
   "metadata": {},
   "outputs": [
    {
     "name": "stdout",
     "output_type": "stream",
     "text": [
      "Mean Absolute Error: 4.839517905794326\n",
      "Mean Squared Error: 38.38895380261194\n",
      "Root Mean Squared Error: 6.195882003606261\n"
     ]
    }
   ],
   "source": [
    "print('Mean Absolute Error:', metrics.mean_absolute_error(y_test, y_pred))  \n",
    "print('Mean Squared Error:', metrics.mean_squared_error(y_test, y_pred))  \n",
    "print('Root Mean Squared Error:', np.sqrt(metrics.mean_squared_error(y_test, y_pred)))"
   ]
  },
  {
   "cell_type": "markdown",
   "metadata": {},
   "source": [
    "#### Observamos conclusiones\n",
    "\n",
    "Cómo se puede observar el Mean Square Error es de 38%, lo cual es mucho mayor que un aceptable 10%. Nuestro algoritmo no es bastante preciso. Suele suceder con lo modeos lineales que esta caída de bias se sopesa con un aumento de la robustez. \n",
    "\n",
    "Sería interesante correr un modelo descartando vote_count el cual afecta en muy poca magnitud al revenue, y por otro lado utilizar el genero de la pelícual cómo variable dummies"
   ]
  },
  {
   "cell_type": "markdown",
   "metadata": {},
   "source": [
    "### Modelo 2: \n",
    "#### Implicancias de los generos en el revenue\n",
    "\n",
    "##### Variables Dummies\n",
    "##### Variable Dependiente: log_revenue\n",
    "##### Variables Independientes: popularity,runtime,,vote_average,log_budget,year,generos_.."
   ]
  },
  {
   "cell_type": "markdown",
   "metadata": {},
   "source": [
    "Elimino vote_count dado que no es significativo y me quedo con el promedio de los votos, lo cual es un medida mucho más lógica, una película puede tener muchos conteos de \"1\"´s por ser una pelicula odiada y tener un gran vote_count."
   ]
  },
  {
   "cell_type": "code",
   "execution_count": 48,
   "metadata": {},
   "outputs": [
    {
     "name": "stdout",
     "output_type": "stream",
     "text": [
      "<class 'pandas.core.frame.DataFrame'>\n",
      "Int64Index: 10866 entries, 0 to 10865\n",
      "Data columns (total 9 columns):\n",
      "id                10866 non-null int64\n",
      "popularity        10866 non-null float64\n",
      "original_title    10866 non-null object\n",
      "runtime           10866 non-null int64\n",
      "vote_average      10866 non-null float64\n",
      "log_revenue       10866 non-null float64\n",
      "log_budget        10866 non-null float64\n",
      "genre0            10866 non-null object\n",
      "year              10866 non-null int64\n",
      "dtypes: float64(4), int64(3), object(2)\n",
      "memory usage: 848.9+ KB\n"
     ]
    }
   ],
   "source": [
    "dataset = dataset.drop(columns= [\"vote_count\"])\n",
    "dataset.info()"
   ]
  },
  {
   "cell_type": "code",
   "execution_count": 49,
   "metadata": {},
   "outputs": [],
   "source": [
    "dataset = pd.get_dummies(dataset, columns=[\"genre0\"])\n",
    "#obtengo nuevas columnas dummies"
   ]
  },
  {
   "cell_type": "code",
   "execution_count": 50,
   "metadata": {},
   "outputs": [
    {
     "data": {
      "text/html": [
       "<div>\n",
       "<style scoped>\n",
       "    .dataframe tbody tr th:only-of-type {\n",
       "        vertical-align: middle;\n",
       "    }\n",
       "\n",
       "    .dataframe tbody tr th {\n",
       "        vertical-align: top;\n",
       "    }\n",
       "\n",
       "    .dataframe thead th {\n",
       "        text-align: right;\n",
       "    }\n",
       "</style>\n",
       "<table border=\"1\" class=\"dataframe\">\n",
       "  <thead>\n",
       "    <tr style=\"text-align: right;\">\n",
       "      <th></th>\n",
       "      <th>0</th>\n",
       "      <th>1</th>\n",
       "      <th>2</th>\n",
       "      <th>3</th>\n",
       "      <th>4</th>\n",
       "    </tr>\n",
       "  </thead>\n",
       "  <tbody>\n",
       "    <tr>\n",
       "      <td>id</td>\n",
       "      <td>135397</td>\n",
       "      <td>76341</td>\n",
       "      <td>262500</td>\n",
       "      <td>140607</td>\n",
       "      <td>168259</td>\n",
       "    </tr>\n",
       "    <tr>\n",
       "      <td>popularity</td>\n",
       "      <td>32.9858</td>\n",
       "      <td>28.4199</td>\n",
       "      <td>13.1125</td>\n",
       "      <td>11.1731</td>\n",
       "      <td>9.33501</td>\n",
       "    </tr>\n",
       "    <tr>\n",
       "      <td>original_title</td>\n",
       "      <td>Jurassic World</td>\n",
       "      <td>Mad Max: Fury Road</td>\n",
       "      <td>Insurgent</td>\n",
       "      <td>Star Wars: The Force Awakens</td>\n",
       "      <td>Furious 7</td>\n",
       "    </tr>\n",
       "    <tr>\n",
       "      <td>runtime</td>\n",
       "      <td>124</td>\n",
       "      <td>120</td>\n",
       "      <td>119</td>\n",
       "      <td>136</td>\n",
       "      <td>137</td>\n",
       "    </tr>\n",
       "    <tr>\n",
       "      <td>vote_average</td>\n",
       "      <td>6.5</td>\n",
       "      <td>7.1</td>\n",
       "      <td>6.3</td>\n",
       "      <td>7.5</td>\n",
       "      <td>7.3</td>\n",
       "    </tr>\n",
       "    <tr>\n",
       "      <td>log_revenue</td>\n",
       "      <td>21.1377</td>\n",
       "      <td>19.7516</td>\n",
       "      <td>19.5033</td>\n",
       "      <td>21.4499</td>\n",
       "      <td>21.1329</td>\n",
       "    </tr>\n",
       "    <tr>\n",
       "      <td>log_budget</td>\n",
       "      <td>18.8261</td>\n",
       "      <td>18.8261</td>\n",
       "      <td>18.516</td>\n",
       "      <td>19.1138</td>\n",
       "      <td>19.0625</td>\n",
       "    </tr>\n",
       "    <tr>\n",
       "      <td>year</td>\n",
       "      <td>2015</td>\n",
       "      <td>2015</td>\n",
       "      <td>2015</td>\n",
       "      <td>2015</td>\n",
       "      <td>2015</td>\n",
       "    </tr>\n",
       "    <tr>\n",
       "      <td>genre0_Action</td>\n",
       "      <td>1</td>\n",
       "      <td>1</td>\n",
       "      <td>0</td>\n",
       "      <td>1</td>\n",
       "      <td>1</td>\n",
       "    </tr>\n",
       "    <tr>\n",
       "      <td>genre0_Adventure</td>\n",
       "      <td>0</td>\n",
       "      <td>0</td>\n",
       "      <td>1</td>\n",
       "      <td>0</td>\n",
       "      <td>0</td>\n",
       "    </tr>\n",
       "    <tr>\n",
       "      <td>genre0_Animation</td>\n",
       "      <td>0</td>\n",
       "      <td>0</td>\n",
       "      <td>0</td>\n",
       "      <td>0</td>\n",
       "      <td>0</td>\n",
       "    </tr>\n",
       "    <tr>\n",
       "      <td>genre0_Comedy</td>\n",
       "      <td>0</td>\n",
       "      <td>0</td>\n",
       "      <td>0</td>\n",
       "      <td>0</td>\n",
       "      <td>0</td>\n",
       "    </tr>\n",
       "    <tr>\n",
       "      <td>genre0_Crime</td>\n",
       "      <td>0</td>\n",
       "      <td>0</td>\n",
       "      <td>0</td>\n",
       "      <td>0</td>\n",
       "      <td>0</td>\n",
       "    </tr>\n",
       "    <tr>\n",
       "      <td>genre0_Documentary</td>\n",
       "      <td>0</td>\n",
       "      <td>0</td>\n",
       "      <td>0</td>\n",
       "      <td>0</td>\n",
       "      <td>0</td>\n",
       "    </tr>\n",
       "    <tr>\n",
       "      <td>genre0_Drama</td>\n",
       "      <td>0</td>\n",
       "      <td>0</td>\n",
       "      <td>0</td>\n",
       "      <td>0</td>\n",
       "      <td>0</td>\n",
       "    </tr>\n",
       "    <tr>\n",
       "      <td>genre0_Family</td>\n",
       "      <td>0</td>\n",
       "      <td>0</td>\n",
       "      <td>0</td>\n",
       "      <td>0</td>\n",
       "      <td>0</td>\n",
       "    </tr>\n",
       "    <tr>\n",
       "      <td>genre0_Fantasy</td>\n",
       "      <td>0</td>\n",
       "      <td>0</td>\n",
       "      <td>0</td>\n",
       "      <td>0</td>\n",
       "      <td>0</td>\n",
       "    </tr>\n",
       "    <tr>\n",
       "      <td>genre0_Foreign</td>\n",
       "      <td>0</td>\n",
       "      <td>0</td>\n",
       "      <td>0</td>\n",
       "      <td>0</td>\n",
       "      <td>0</td>\n",
       "    </tr>\n",
       "    <tr>\n",
       "      <td>genre0_History</td>\n",
       "      <td>0</td>\n",
       "      <td>0</td>\n",
       "      <td>0</td>\n",
       "      <td>0</td>\n",
       "      <td>0</td>\n",
       "    </tr>\n",
       "    <tr>\n",
       "      <td>genre0_Horror</td>\n",
       "      <td>0</td>\n",
       "      <td>0</td>\n",
       "      <td>0</td>\n",
       "      <td>0</td>\n",
       "      <td>0</td>\n",
       "    </tr>\n",
       "    <tr>\n",
       "      <td>genre0_Music</td>\n",
       "      <td>0</td>\n",
       "      <td>0</td>\n",
       "      <td>0</td>\n",
       "      <td>0</td>\n",
       "      <td>0</td>\n",
       "    </tr>\n",
       "    <tr>\n",
       "      <td>genre0_Mystery</td>\n",
       "      <td>0</td>\n",
       "      <td>0</td>\n",
       "      <td>0</td>\n",
       "      <td>0</td>\n",
       "      <td>0</td>\n",
       "    </tr>\n",
       "    <tr>\n",
       "      <td>genre0_Romance</td>\n",
       "      <td>0</td>\n",
       "      <td>0</td>\n",
       "      <td>0</td>\n",
       "      <td>0</td>\n",
       "      <td>0</td>\n",
       "    </tr>\n",
       "    <tr>\n",
       "      <td>genre0_Science Fiction</td>\n",
       "      <td>0</td>\n",
       "      <td>0</td>\n",
       "      <td>0</td>\n",
       "      <td>0</td>\n",
       "      <td>0</td>\n",
       "    </tr>\n",
       "    <tr>\n",
       "      <td>genre0_TV Movie</td>\n",
       "      <td>0</td>\n",
       "      <td>0</td>\n",
       "      <td>0</td>\n",
       "      <td>0</td>\n",
       "      <td>0</td>\n",
       "    </tr>\n",
       "    <tr>\n",
       "      <td>genre0_Thriller</td>\n",
       "      <td>0</td>\n",
       "      <td>0</td>\n",
       "      <td>0</td>\n",
       "      <td>0</td>\n",
       "      <td>0</td>\n",
       "    </tr>\n",
       "    <tr>\n",
       "      <td>genre0_War</td>\n",
       "      <td>0</td>\n",
       "      <td>0</td>\n",
       "      <td>0</td>\n",
       "      <td>0</td>\n",
       "      <td>0</td>\n",
       "    </tr>\n",
       "    <tr>\n",
       "      <td>genre0_Western</td>\n",
       "      <td>0</td>\n",
       "      <td>0</td>\n",
       "      <td>0</td>\n",
       "      <td>0</td>\n",
       "      <td>0</td>\n",
       "    </tr>\n",
       "    <tr>\n",
       "      <td>genre0_nan</td>\n",
       "      <td>0</td>\n",
       "      <td>0</td>\n",
       "      <td>0</td>\n",
       "      <td>0</td>\n",
       "      <td>0</td>\n",
       "    </tr>\n",
       "  </tbody>\n",
       "</table>\n",
       "</div>"
      ],
      "text/plain": [
       "                                     0                   1          2  \\\n",
       "id                              135397               76341     262500   \n",
       "popularity                     32.9858             28.4199    13.1125   \n",
       "original_title          Jurassic World  Mad Max: Fury Road  Insurgent   \n",
       "runtime                            124                 120        119   \n",
       "vote_average                       6.5                 7.1        6.3   \n",
       "log_revenue                    21.1377             19.7516    19.5033   \n",
       "log_budget                     18.8261             18.8261     18.516   \n",
       "year                              2015                2015       2015   \n",
       "genre0_Action                        1                   1          0   \n",
       "genre0_Adventure                     0                   0          1   \n",
       "genre0_Animation                     0                   0          0   \n",
       "genre0_Comedy                        0                   0          0   \n",
       "genre0_Crime                         0                   0          0   \n",
       "genre0_Documentary                   0                   0          0   \n",
       "genre0_Drama                         0                   0          0   \n",
       "genre0_Family                        0                   0          0   \n",
       "genre0_Fantasy                       0                   0          0   \n",
       "genre0_Foreign                       0                   0          0   \n",
       "genre0_History                       0                   0          0   \n",
       "genre0_Horror                        0                   0          0   \n",
       "genre0_Music                         0                   0          0   \n",
       "genre0_Mystery                       0                   0          0   \n",
       "genre0_Romance                       0                   0          0   \n",
       "genre0_Science Fiction               0                   0          0   \n",
       "genre0_TV Movie                      0                   0          0   \n",
       "genre0_Thriller                      0                   0          0   \n",
       "genre0_War                           0                   0          0   \n",
       "genre0_Western                       0                   0          0   \n",
       "genre0_nan                           0                   0          0   \n",
       "\n",
       "                                                   3          4  \n",
       "id                                            140607     168259  \n",
       "popularity                                   11.1731    9.33501  \n",
       "original_title          Star Wars: The Force Awakens  Furious 7  \n",
       "runtime                                          136        137  \n",
       "vote_average                                     7.5        7.3  \n",
       "log_revenue                                  21.4499    21.1329  \n",
       "log_budget                                   19.1138    19.0625  \n",
       "year                                            2015       2015  \n",
       "genre0_Action                                      1          1  \n",
       "genre0_Adventure                                   0          0  \n",
       "genre0_Animation                                   0          0  \n",
       "genre0_Comedy                                      0          0  \n",
       "genre0_Crime                                       0          0  \n",
       "genre0_Documentary                                 0          0  \n",
       "genre0_Drama                                       0          0  \n",
       "genre0_Family                                      0          0  \n",
       "genre0_Fantasy                                     0          0  \n",
       "genre0_Foreign                                     0          0  \n",
       "genre0_History                                     0          0  \n",
       "genre0_Horror                                      0          0  \n",
       "genre0_Music                                       0          0  \n",
       "genre0_Mystery                                     0          0  \n",
       "genre0_Romance                                     0          0  \n",
       "genre0_Science Fiction                             0          0  \n",
       "genre0_TV Movie                                    0          0  \n",
       "genre0_Thriller                                    0          0  \n",
       "genre0_War                                         0          0  \n",
       "genre0_Western                                     0          0  \n",
       "genre0_nan                                         0          0  "
      ]
     },
     "execution_count": 50,
     "metadata": {},
     "output_type": "execute_result"
    }
   ],
   "source": [
    "dataset.head().T"
   ]
  },
  {
   "cell_type": "code",
   "execution_count": 51,
   "metadata": {},
   "outputs": [],
   "source": [
    "cols = [col for col in dataset.columns if col not in ['log_revenue',\"id\",\"original_title\"]]\n",
    "X = dataset[cols]\n",
    "y = dataset['log_revenue']"
   ]
  },
  {
   "cell_type": "code",
   "execution_count": 52,
   "metadata": {},
   "outputs": [],
   "source": [
    "from sklearn.model_selection import train_test_split\n",
    "X_train, X_test, y_train, y_test = train_test_split(X, y, test_size=0.2, random_state=0)"
   ]
  },
  {
   "cell_type": "code",
   "execution_count": 53,
   "metadata": {},
   "outputs": [
    {
     "data": {
      "text/plain": [
       "LinearRegression(copy_X=True, fit_intercept=True, n_jobs=None, normalize=False)"
      ]
     },
     "execution_count": 53,
     "metadata": {},
     "output_type": "execute_result"
    }
   ],
   "source": [
    "regressor = LinearRegression()  \n",
    "regressor.fit(X_train, y_train)"
   ]
  },
  {
   "cell_type": "code",
   "execution_count": 54,
   "metadata": {},
   "outputs": [
    {
     "data": {
      "text/html": [
       "<div>\n",
       "<style scoped>\n",
       "    .dataframe tbody tr th:only-of-type {\n",
       "        vertical-align: middle;\n",
       "    }\n",
       "\n",
       "    .dataframe tbody tr th {\n",
       "        vertical-align: top;\n",
       "    }\n",
       "\n",
       "    .dataframe thead th {\n",
       "        text-align: right;\n",
       "    }\n",
       "</style>\n",
       "<table border=\"1\" class=\"dataframe\">\n",
       "  <thead>\n",
       "    <tr style=\"text-align: right;\">\n",
       "      <th></th>\n",
       "      <th>Coefficient</th>\n",
       "    </tr>\n",
       "  </thead>\n",
       "  <tbody>\n",
       "    <tr>\n",
       "      <td>popularity</td>\n",
       "      <td>1.480779</td>\n",
       "    </tr>\n",
       "    <tr>\n",
       "      <td>genre0_Comedy</td>\n",
       "      <td>1.274959</td>\n",
       "    </tr>\n",
       "    <tr>\n",
       "      <td>genre0_Adventure</td>\n",
       "      <td>1.181424</td>\n",
       "    </tr>\n",
       "    <tr>\n",
       "      <td>vote_average</td>\n",
       "      <td>0.975539</td>\n",
       "    </tr>\n",
       "    <tr>\n",
       "      <td>genre0_Western</td>\n",
       "      <td>0.928007</td>\n",
       "    </tr>\n",
       "    <tr>\n",
       "      <td>genre0_Romance</td>\n",
       "      <td>0.909969</td>\n",
       "    </tr>\n",
       "    <tr>\n",
       "      <td>genre0_Fantasy</td>\n",
       "      <td>0.877217</td>\n",
       "    </tr>\n",
       "    <tr>\n",
       "      <td>genre0_Action</td>\n",
       "      <td>0.722653</td>\n",
       "    </tr>\n",
       "    <tr>\n",
       "      <td>genre0_Crime</td>\n",
       "      <td>0.695413</td>\n",
       "    </tr>\n",
       "    <tr>\n",
       "      <td>genre0_Mystery</td>\n",
       "      <td>0.666606</td>\n",
       "    </tr>\n",
       "    <tr>\n",
       "      <td>log_budget</td>\n",
       "      <td>0.564749</td>\n",
       "    </tr>\n",
       "    <tr>\n",
       "      <td>genre0_Drama</td>\n",
       "      <td>0.485114</td>\n",
       "    </tr>\n",
       "    <tr>\n",
       "      <td>genre0_Thriller</td>\n",
       "      <td>0.335271</td>\n",
       "    </tr>\n",
       "    <tr>\n",
       "      <td>genre0_Family</td>\n",
       "      <td>0.272360</td>\n",
       "    </tr>\n",
       "    <tr>\n",
       "      <td>genre0_Music</td>\n",
       "      <td>0.011482</td>\n",
       "    </tr>\n",
       "    <tr>\n",
       "      <td>runtime</td>\n",
       "      <td>0.010877</td>\n",
       "    </tr>\n",
       "    <tr>\n",
       "      <td>year</td>\n",
       "      <td>-0.045343</td>\n",
       "    </tr>\n",
       "    <tr>\n",
       "      <td>genre0_Science Fiction</td>\n",
       "      <td>-0.085522</td>\n",
       "    </tr>\n",
       "    <tr>\n",
       "      <td>genre0_Horror</td>\n",
       "      <td>-0.208884</td>\n",
       "    </tr>\n",
       "    <tr>\n",
       "      <td>genre0_History</td>\n",
       "      <td>-0.380386</td>\n",
       "    </tr>\n",
       "    <tr>\n",
       "      <td>genre0_Documentary</td>\n",
       "      <td>-0.566612</td>\n",
       "    </tr>\n",
       "    <tr>\n",
       "      <td>genre0_Animation</td>\n",
       "      <td>-0.652659</td>\n",
       "    </tr>\n",
       "    <tr>\n",
       "      <td>genre0_Foreign</td>\n",
       "      <td>-1.136521</td>\n",
       "    </tr>\n",
       "    <tr>\n",
       "      <td>genre0_War</td>\n",
       "      <td>-1.232338</td>\n",
       "    </tr>\n",
       "    <tr>\n",
       "      <td>genre0_TV Movie</td>\n",
       "      <td>-1.939511</td>\n",
       "    </tr>\n",
       "    <tr>\n",
       "      <td>genre0_nan</td>\n",
       "      <td>-2.158043</td>\n",
       "    </tr>\n",
       "  </tbody>\n",
       "</table>\n",
       "</div>"
      ],
      "text/plain": [
       "                        Coefficient\n",
       "popularity                 1.480779\n",
       "genre0_Comedy              1.274959\n",
       "genre0_Adventure           1.181424\n",
       "vote_average               0.975539\n",
       "genre0_Western             0.928007\n",
       "genre0_Romance             0.909969\n",
       "genre0_Fantasy             0.877217\n",
       "genre0_Action              0.722653\n",
       "genre0_Crime               0.695413\n",
       "genre0_Mystery             0.666606\n",
       "log_budget                 0.564749\n",
       "genre0_Drama               0.485114\n",
       "genre0_Thriller            0.335271\n",
       "genre0_Family              0.272360\n",
       "genre0_Music               0.011482\n",
       "runtime                    0.010877\n",
       "year                      -0.045343\n",
       "genre0_Science Fiction    -0.085522\n",
       "genre0_Horror             -0.208884\n",
       "genre0_History            -0.380386\n",
       "genre0_Documentary        -0.566612\n",
       "genre0_Animation          -0.652659\n",
       "genre0_Foreign            -1.136521\n",
       "genre0_War                -1.232338\n",
       "genre0_TV Movie           -1.939511\n",
       "genre0_nan                -2.158043"
      ]
     },
     "execution_count": 54,
     "metadata": {},
     "output_type": "execute_result"
    }
   ],
   "source": [
    "coeff_df = pd.DataFrame(regressor.coef_, X.columns, columns=['Coefficient'])  \n",
    "coeff_df.sort_values(by='Coefficient', ascending=False)"
   ]
  },
  {
   "cell_type": "code",
   "execution_count": 55,
   "metadata": {},
   "outputs": [],
   "source": [
    "y_pred = regressor.predict(X_test)"
   ]
  },
  {
   "cell_type": "code",
   "execution_count": 56,
   "metadata": {},
   "outputs": [
    {
     "data": {
      "text/html": [
       "<div>\n",
       "<style scoped>\n",
       "    .dataframe tbody tr th:only-of-type {\n",
       "        vertical-align: middle;\n",
       "    }\n",
       "\n",
       "    .dataframe tbody tr th {\n",
       "        vertical-align: top;\n",
       "    }\n",
       "\n",
       "    .dataframe thead th {\n",
       "        text-align: right;\n",
       "    }\n",
       "</style>\n",
       "<table border=\"1\" class=\"dataframe\">\n",
       "  <thead>\n",
       "    <tr style=\"text-align: right;\">\n",
       "      <th></th>\n",
       "      <th>Actual</th>\n",
       "      <th>Predicted</th>\n",
       "    </tr>\n",
       "  </thead>\n",
       "  <tbody>\n",
       "    <tr>\n",
       "      <td>154</td>\n",
       "      <td>0.000000</td>\n",
       "      <td>12.679446</td>\n",
       "    </tr>\n",
       "    <tr>\n",
       "      <td>7023</td>\n",
       "      <td>19.131510</td>\n",
       "      <td>15.230681</td>\n",
       "    </tr>\n",
       "    <tr>\n",
       "      <td>7420</td>\n",
       "      <td>0.000000</td>\n",
       "      <td>3.944313</td>\n",
       "    </tr>\n",
       "    <tr>\n",
       "      <td>9234</td>\n",
       "      <td>16.622181</td>\n",
       "      <td>11.943468</td>\n",
       "    </tr>\n",
       "    <tr>\n",
       "      <td>7540</td>\n",
       "      <td>17.104290</td>\n",
       "      <td>12.625186</td>\n",
       "    </tr>\n",
       "  </tbody>\n",
       "</table>\n",
       "</div>"
      ],
      "text/plain": [
       "         Actual  Predicted\n",
       "154    0.000000  12.679446\n",
       "7023  19.131510  15.230681\n",
       "7420   0.000000   3.944313\n",
       "9234  16.622181  11.943468\n",
       "7540  17.104290  12.625186"
      ]
     },
     "execution_count": 56,
     "metadata": {},
     "output_type": "execute_result"
    }
   ],
   "source": [
    "df2 = pd.DataFrame({'Actual': y_test, 'Predicted': y_pred})\n",
    "df2.head()"
   ]
  },
  {
   "cell_type": "markdown",
   "metadata": {},
   "source": [
    "# Conclusiones"
   ]
  },
  {
   "cell_type": "code",
   "execution_count": 57,
   "metadata": {},
   "outputs": [
    {
     "name": "stdout",
     "output_type": "stream",
     "text": [
      "Mean Absolute Error: 4.784295375121018\n",
      "Mean Squared Error: 38.00942158591247\n",
      "Root Mean Squared Error: 6.165178147135123\n"
     ]
    }
   ],
   "source": [
    "print('Mean Absolute Error:', metrics.mean_absolute_error(y_test, y_pred))  \n",
    "print('Mean Squared Error:', metrics.mean_squared_error(y_test, y_pred))  \n",
    "print('Root Mean Squared Error:', np.sqrt(metrics.mean_squared_error(y_test, y_pred)))"
   ]
  },
  {
   "cell_type": "markdown",
   "metadata": {},
   "source": [
    "**A Saber**  Sería mejor buscar no tanto un mayor Revenue, sino un  **Return on investment ROI**, es decir, me interesaría e ratio entre el net profit y el costo de la inversión. UN mayor ROI significa que la inversión genera ganancia comparado a su costo. Es una mejor medida de performance y ahí tendría sentido directamente utilizar los valores originales de Revenue y de Budget"
   ]
  },
  {
   "cell_type": "markdown",
   "metadata": {},
   "source": [
    "La librería statsmodel me puede solucionar las falencias de skitlearn. En la anterior salida tenia un modelo con el mismo MSE, pero tal vez mayor capacidad explicativa. Las salidas Sckit-learn omiten los test de significancia. Para eso utilizo statsmodels!"
   ]
  },
  {
   "cell_type": "code",
   "execution_count": 58,
   "metadata": {},
   "outputs": [
    {
     "name": "stderr",
     "output_type": "stream",
     "text": [
      "C:\\Users\\fede_\\Anaconda3\\lib\\site-packages\\numpy\\core\\fromnumeric.py:2389: FutureWarning: Method .ptp is deprecated and will be removed in a future version. Use numpy.ptp instead.\n",
      "  return ptp(axis=axis, out=out, **kwargs)\n"
     ]
    },
    {
     "data": {
      "text/html": [
       "<table class=\"simpletable\">\n",
       "<caption>OLS Regression Results</caption>\n",
       "<tr>\n",
       "  <th>Dep. Variable:</th>       <td>log_revenue</td>   <th>  R-squared:         </th> <td>   0.485</td> \n",
       "</tr>\n",
       "<tr>\n",
       "  <th>Model:</th>                   <td>OLS</td>       <th>  Adj. R-squared:    </th> <td>   0.479</td> \n",
       "</tr>\n",
       "<tr>\n",
       "  <th>Method:</th>             <td>Least Squares</td>  <th>  F-statistic:       </th> <td>   80.93</td> \n",
       "</tr>\n",
       "<tr>\n",
       "  <th>Date:</th>             <td>Tue, 16 Jun 2020</td> <th>  Prob (F-statistic):</th> <td>3.70e-287</td>\n",
       "</tr>\n",
       "<tr>\n",
       "  <th>Time:</th>                 <td>15:50:18</td>     <th>  Log-Likelihood:    </th> <td> -7014.1</td> \n",
       "</tr>\n",
       "<tr>\n",
       "  <th>No. Observations:</th>      <td>  2174</td>      <th>  AIC:               </th> <td>1.408e+04</td>\n",
       "</tr>\n",
       "<tr>\n",
       "  <th>Df Residuals:</th>          <td>  2148</td>      <th>  BIC:               </th> <td>1.423e+04</td>\n",
       "</tr>\n",
       "<tr>\n",
       "  <th>Df Model:</th>              <td>    25</td>      <th>                     </th>     <td> </td>    \n",
       "</tr>\n",
       "<tr>\n",
       "  <th>Covariance Type:</th>      <td>nonrobust</td>    <th>                     </th>     <td> </td>    \n",
       "</tr>\n",
       "</table>\n",
       "<table class=\"simpletable\">\n",
       "<tr>\n",
       "             <td></td>               <th>coef</th>     <th>std err</th>      <th>t</th>      <th>P>|t|</th>  <th>[0.025</th>    <th>0.975]</th>  \n",
       "</tr>\n",
       "<tr>\n",
       "  <th>const</th>                  <td>   89.9655</td> <td>   16.190</td> <td>    5.557</td> <td> 0.000</td> <td>   58.216</td> <td>  121.715</td>\n",
       "</tr>\n",
       "<tr>\n",
       "  <th>popularity</th>             <td>    2.6116</td> <td>    0.196</td> <td>   13.358</td> <td> 0.000</td> <td>    2.228</td> <td>    2.995</td>\n",
       "</tr>\n",
       "<tr>\n",
       "  <th>runtime</th>                <td>    0.0093</td> <td>    0.004</td> <td>    2.221</td> <td> 0.026</td> <td>    0.001</td> <td>    0.017</td>\n",
       "</tr>\n",
       "<tr>\n",
       "  <th>vote_average</th>           <td>    0.8161</td> <td>    0.164</td> <td>    4.989</td> <td> 0.000</td> <td>    0.495</td> <td>    1.137</td>\n",
       "</tr>\n",
       "<tr>\n",
       "  <th>log_budget</th>             <td>    0.5188</td> <td>    0.018</td> <td>   28.645</td> <td> 0.000</td> <td>    0.483</td> <td>    0.554</td>\n",
       "</tr>\n",
       "<tr>\n",
       "  <th>year</th>                   <td>   -0.0494</td> <td>    0.008</td> <td>   -5.878</td> <td> 0.000</td> <td>   -0.066</td> <td>   -0.033</td>\n",
       "</tr>\n",
       "<tr>\n",
       "  <th>genre0_Action</th>          <td>    5.2042</td> <td>    0.863</td> <td>    6.033</td> <td> 0.000</td> <td>    3.513</td> <td>    6.896</td>\n",
       "</tr>\n",
       "<tr>\n",
       "  <th>genre0_Adventure</th>       <td>    5.4879</td> <td>    0.986</td> <td>    5.564</td> <td> 0.000</td> <td>    3.554</td> <td>    7.422</td>\n",
       "</tr>\n",
       "<tr>\n",
       "  <th>genre0_Animation</th>       <td>    3.3261</td> <td>    1.096</td> <td>    3.036</td> <td> 0.002</td> <td>    1.178</td> <td>    5.475</td>\n",
       "</tr>\n",
       "<tr>\n",
       "  <th>genre0_Comedy</th>          <td>    5.6480</td> <td>    0.870</td> <td>    6.490</td> <td> 0.000</td> <td>    3.941</td> <td>    7.355</td>\n",
       "</tr>\n",
       "<tr>\n",
       "  <th>genre0_Crime</th>           <td>    4.9089</td> <td>    1.094</td> <td>    4.489</td> <td> 0.000</td> <td>    2.764</td> <td>    7.053</td>\n",
       "</tr>\n",
       "<tr>\n",
       "  <th>genre0_Documentary</th>     <td>    3.5110</td> <td>    1.086</td> <td>    3.232</td> <td> 0.001</td> <td>    1.381</td> <td>    5.641</td>\n",
       "</tr>\n",
       "<tr>\n",
       "  <th>genre0_Drama</th>           <td>    5.5289</td> <td>    0.881</td> <td>    6.275</td> <td> 0.000</td> <td>    3.801</td> <td>    7.257</td>\n",
       "</tr>\n",
       "<tr>\n",
       "  <th>genre0_Family</th>          <td>    5.0064</td> <td>    1.487</td> <td>    3.366</td> <td> 0.001</td> <td>    2.089</td> <td>    7.923</td>\n",
       "</tr>\n",
       "<tr>\n",
       "  <th>genre0_Fantasy</th>         <td>    6.0242</td> <td>    1.108</td> <td>    5.435</td> <td> 0.000</td> <td>    3.851</td> <td>    8.198</td>\n",
       "</tr>\n",
       "<tr>\n",
       "  <th>genre0_Foreign</th>         <td>    1.3226</td> <td>    3.466</td> <td>    0.382</td> <td> 0.703</td> <td>   -5.475</td> <td>    8.120</td>\n",
       "</tr>\n",
       "<tr>\n",
       "  <th>genre0_History</th>         <td>    5.4451</td> <td>    1.994</td> <td>    2.730</td> <td> 0.006</td> <td>    1.534</td> <td>    9.356</td>\n",
       "</tr>\n",
       "<tr>\n",
       "  <th>genre0_Horror</th>          <td>    5.0509</td> <td>    0.918</td> <td>    5.503</td> <td> 0.000</td> <td>    3.251</td> <td>    6.851</td>\n",
       "</tr>\n",
       "<tr>\n",
       "  <th>genre0_Music</th>           <td>    4.7827</td> <td>    1.593</td> <td>    3.003</td> <td> 0.003</td> <td>    1.659</td> <td>    7.906</td>\n",
       "</tr>\n",
       "<tr>\n",
       "  <th>genre0_Mystery</th>         <td>    4.4321</td> <td>    1.406</td> <td>    3.152</td> <td> 0.002</td> <td>    1.674</td> <td>    7.190</td>\n",
       "</tr>\n",
       "<tr>\n",
       "  <th>genre0_Romance</th>         <td>    3.4456</td> <td>    1.261</td> <td>    2.732</td> <td> 0.006</td> <td>    0.972</td> <td>    5.919</td>\n",
       "</tr>\n",
       "<tr>\n",
       "  <th>genre0_Science Fiction</th> <td>    4.4328</td> <td>    1.364</td> <td>    3.250</td> <td> 0.001</td> <td>    1.758</td> <td>    7.108</td>\n",
       "</tr>\n",
       "<tr>\n",
       "  <th>genre0_TV Movie</th>        <td>    2.4116</td> <td>    1.866</td> <td>    1.292</td> <td> 0.196</td> <td>   -1.248</td> <td>    6.072</td>\n",
       "</tr>\n",
       "<tr>\n",
       "  <th>genre0_Thriller</th>        <td>    4.5782</td> <td>    1.051</td> <td>    4.354</td> <td> 0.000</td> <td>    2.516</td> <td>    6.640</td>\n",
       "</tr>\n",
       "<tr>\n",
       "  <th>genre0_War</th>             <td>    4.7020</td> <td>    1.756</td> <td>    2.678</td> <td> 0.007</td> <td>    1.258</td> <td>    8.146</td>\n",
       "</tr>\n",
       "<tr>\n",
       "  <th>genre0_Western</th>         <td>    2.0301</td> <td>    4.254</td> <td>    0.477</td> <td> 0.633</td> <td>   -6.312</td> <td>   10.372</td>\n",
       "</tr>\n",
       "<tr>\n",
       "  <th>genre0_nan</th>             <td>    2.6859</td> <td>    2.544</td> <td>    1.056</td> <td> 0.291</td> <td>   -2.303</td> <td>    7.675</td>\n",
       "</tr>\n",
       "</table>\n",
       "<table class=\"simpletable\">\n",
       "<tr>\n",
       "  <th>Omnibus:</th>       <td> 1.997</td> <th>  Durbin-Watson:     </th> <td>   1.982</td>\n",
       "</tr>\n",
       "<tr>\n",
       "  <th>Prob(Omnibus):</th> <td> 0.368</td> <th>  Jarque-Bera (JB):  </th> <td>   1.907</td>\n",
       "</tr>\n",
       "<tr>\n",
       "  <th>Skew:</th>          <td> 0.061</td> <th>  Prob(JB):          </th> <td>   0.385</td>\n",
       "</tr>\n",
       "<tr>\n",
       "  <th>Kurtosis:</th>      <td> 3.080</td> <th>  Cond. No.          </th> <td>3.26e+15</td>\n",
       "</tr>\n",
       "</table><br/><br/>Warnings:<br/>[1] Standard Errors assume that the covariance matrix of the errors is correctly specified.<br/>[2] The smallest eigenvalue is 8.25e-22. This might indicate that there are<br/>strong multicollinearity problems or that the design matrix is singular."
      ],
      "text/plain": [
       "<class 'statsmodels.iolib.summary.Summary'>\n",
       "\"\"\"\n",
       "                            OLS Regression Results                            \n",
       "==============================================================================\n",
       "Dep. Variable:            log_revenue   R-squared:                       0.485\n",
       "Model:                            OLS   Adj. R-squared:                  0.479\n",
       "Method:                 Least Squares   F-statistic:                     80.93\n",
       "Date:                Tue, 16 Jun 2020   Prob (F-statistic):          3.70e-287\n",
       "Time:                        15:50:18   Log-Likelihood:                -7014.1\n",
       "No. Observations:                2174   AIC:                         1.408e+04\n",
       "Df Residuals:                    2148   BIC:                         1.423e+04\n",
       "Df Model:                          25                                         \n",
       "Covariance Type:            nonrobust                                         \n",
       "==========================================================================================\n",
       "                             coef    std err          t      P>|t|      [0.025      0.975]\n",
       "------------------------------------------------------------------------------------------\n",
       "const                     89.9655     16.190      5.557      0.000      58.216     121.715\n",
       "popularity                 2.6116      0.196     13.358      0.000       2.228       2.995\n",
       "runtime                    0.0093      0.004      2.221      0.026       0.001       0.017\n",
       "vote_average               0.8161      0.164      4.989      0.000       0.495       1.137\n",
       "log_budget                 0.5188      0.018     28.645      0.000       0.483       0.554\n",
       "year                      -0.0494      0.008     -5.878      0.000      -0.066      -0.033\n",
       "genre0_Action              5.2042      0.863      6.033      0.000       3.513       6.896\n",
       "genre0_Adventure           5.4879      0.986      5.564      0.000       3.554       7.422\n",
       "genre0_Animation           3.3261      1.096      3.036      0.002       1.178       5.475\n",
       "genre0_Comedy              5.6480      0.870      6.490      0.000       3.941       7.355\n",
       "genre0_Crime               4.9089      1.094      4.489      0.000       2.764       7.053\n",
       "genre0_Documentary         3.5110      1.086      3.232      0.001       1.381       5.641\n",
       "genre0_Drama               5.5289      0.881      6.275      0.000       3.801       7.257\n",
       "genre0_Family              5.0064      1.487      3.366      0.001       2.089       7.923\n",
       "genre0_Fantasy             6.0242      1.108      5.435      0.000       3.851       8.198\n",
       "genre0_Foreign             1.3226      3.466      0.382      0.703      -5.475       8.120\n",
       "genre0_History             5.4451      1.994      2.730      0.006       1.534       9.356\n",
       "genre0_Horror              5.0509      0.918      5.503      0.000       3.251       6.851\n",
       "genre0_Music               4.7827      1.593      3.003      0.003       1.659       7.906\n",
       "genre0_Mystery             4.4321      1.406      3.152      0.002       1.674       7.190\n",
       "genre0_Romance             3.4456      1.261      2.732      0.006       0.972       5.919\n",
       "genre0_Science Fiction     4.4328      1.364      3.250      0.001       1.758       7.108\n",
       "genre0_TV Movie            2.4116      1.866      1.292      0.196      -1.248       6.072\n",
       "genre0_Thriller            4.5782      1.051      4.354      0.000       2.516       6.640\n",
       "genre0_War                 4.7020      1.756      2.678      0.007       1.258       8.146\n",
       "genre0_Western             2.0301      4.254      0.477      0.633      -6.312      10.372\n",
       "genre0_nan                 2.6859      2.544      1.056      0.291      -2.303       7.675\n",
       "==============================================================================\n",
       "Omnibus:                        1.997   Durbin-Watson:                   1.982\n",
       "Prob(Omnibus):                  0.368   Jarque-Bera (JB):                1.907\n",
       "Skew:                           0.061   Prob(JB):                        0.385\n",
       "Kurtosis:                       3.080   Cond. No.                     3.26e+15\n",
       "==============================================================================\n",
       "\n",
       "Warnings:\n",
       "[1] Standard Errors assume that the covariance matrix of the errors is correctly specified.\n",
       "[2] The smallest eigenvalue is 8.25e-22. This might indicate that there are\n",
       "strong multicollinearity problems or that the design matrix is singular.\n",
       "\"\"\""
      ]
     },
     "execution_count": 58,
     "metadata": {},
     "output_type": "execute_result"
    }
   ],
   "source": [
    "import statsmodels.api as sm\n",
    "X_endog = sm.add_constant(X_test)\n",
    "res = sm.OLS(y_test, X_endog)\n",
    "res.fit().summary()\n"
   ]
  },
  {
   "cell_type": "markdown",
   "metadata": {},
   "source": [
    "El coeficiente de Runtime no me da significativo, cómo tampoco los generos Western y sin genero.\n",
    "Vemos que la capacidad explicativa del modelo es bajisima con R2 de 0.48%"
   ]
  },
  {
   "cell_type": "markdown",
   "metadata": {},
   "source": [
    "# Brainstorming: Tf-idf"
   ]
  },
  {
   "cell_type": "markdown",
   "metadata": {},
   "source": [
    "Keywords: Es un item interesante aunque la dimensión de este trabajo lo exceda, me voy a quedar con la columna para aplicar la transformación tf-idf (term frequency–inverse document frequency)  que es uno de los métodos más populares para analizar el peso de un palabras en una colección de documentos. Para esto voy a tener que eliminar las stopwords y realizar algún tipo de normalización de esa columna."
   ]
  },
  {
   "cell_type": "code",
   "execution_count": 71,
   "metadata": {},
   "outputs": [
    {
     "name": "stderr",
     "output_type": "stream",
     "text": [
      "[nltk_data] Downloading package stopwords to\n",
      "[nltk_data]     C:\\Users\\fede_\\AppData\\Roaming\\nltk_data...\n",
      "[nltk_data]   Package stopwords is already up-to-date!\n",
      "[nltk_data] Downloading package punkt to\n",
      "[nltk_data]     C:\\Users\\fede_\\AppData\\Roaming\\nltk_data...\n",
      "[nltk_data]   Package punkt is already up-to-date!\n"
     ]
    }
   ],
   "source": [
    "from sklearn.feature_extraction.text import TfidfVectorizer\n",
    "import nltk\n",
    "nltk.download('stopwords')\n",
    "nltk.download('punkt')\n",
    "from nltk.tokenize.treebank import TreebankWordDetokenizer\n",
    "import eli5"
   ]
  },
  {
   "cell_type": "markdown",
   "metadata": {},
   "source": [
    "## Remuevo stopwords"
   ]
  },
  {
   "cell_type": "markdown",
   "metadata": {},
   "source": [
    "### Utilizo el dataset que use para el EDA movies"
   ]
  },
  {
   "cell_type": "code",
   "execution_count": 79,
   "metadata": {},
   "outputs": [
    {
     "data": {
      "text/plain": [
       "0    monster|dna|tyrannosaurus rex|velociraptor|island\n",
       "1     future|chase|post-apocalyptic|dystopia|australia\n",
       "2    based on novel|revolution|dystopia|sequel|dyst...\n",
       "3                android|spaceship|jedi|space opera|3d\n",
       "4                  car race|speed|revenge|suspense|car\n",
       "Name: keywords, dtype: object"
      ]
     },
     "execution_count": 79,
     "metadata": {},
     "output_type": "execute_result"
    }
   ],
   "source": [
    "movies.keywords.head()"
   ]
  },
  {
   "cell_type": "code",
   "execution_count": 82,
   "metadata": {},
   "outputs": [
    {
     "data": {
      "text/plain": [
       "0        [monster, dna, tyrannosaurus rex, velociraptor...\n",
       "1        [future, chase, post-apocalyptic, dystopia, au...\n",
       "2        [based on novel, revolution, dystopia, sequel,...\n",
       "3              [android, spaceship, jedi, space opera, 3d]\n",
       "4                [car race, speed, revenge, suspense, car]\n",
       "                               ...                        \n",
       "10861                         [surfer, surfboard, surfing]\n",
       "10862                        [car race, racing, formula 1]\n",
       "10863                         [car, trolley, stealing car]\n",
       "10864                                              [spoof]\n",
       "10865            [fire, gun, drive, sacrifice, flashlight]\n",
       "Name: texto_limpio, Length: 10866, dtype: object"
      ]
     },
     "execution_count": 82,
     "metadata": {},
     "output_type": "execute_result"
    }
   ],
   "source": [
    "movies[\"texto_limpio\"] = movies.keywords.str.split('|')\n",
    "movies.texto_limpio"
   ]
  },
  {
   "cell_type": "code",
   "execution_count": 83,
   "metadata": {},
   "outputs": [],
   "source": [
    "movies['tokens'] = pd.DataFrame([str(line).strip('[').strip(']').replace(\"'\",\"\") for line in movies[\"texto_limpio\"] ])"
   ]
  },
  {
   "cell_type": "code",
   "execution_count": 84,
   "metadata": {},
   "outputs": [
    {
     "data": {
      "text/plain": [
       "0        monster, dna, tyrannosaurus rex, velociraptor,...\n",
       "1        future, chase, post-apocalyptic, dystopia, aus...\n",
       "2        based on novel, revolution, dystopia, sequel, ...\n",
       "3                android, spaceship, jedi, space opera, 3d\n",
       "4                  car race, speed, revenge, suspense, car\n",
       "                               ...                        \n",
       "10861                           surfer, surfboard, surfing\n",
       "10862                          car race, racing, formula 1\n",
       "10863                           car, trolley, stealing car\n",
       "10864                                                spoof\n",
       "10865              fire, gun, drive, sacrifice, flashlight\n",
       "Name: tokens, Length: 10866, dtype: object"
      ]
     },
     "execution_count": 84,
     "metadata": {},
     "output_type": "execute_result"
    }
   ],
   "source": [
    "movies.tokens"
   ]
  },
  {
   "cell_type": "markdown",
   "metadata": {},
   "source": [
    "## Normalizo mi corpus de palabras.\n",
    "Paso a minuscula, tokenizo y remuevo stopwords"
   ]
  },
  {
   "cell_type": "code",
   "execution_count": 85,
   "metadata": {},
   "outputs": [],
   "source": [
    "english_stopwords = nltk.corpus.stopwords.words(\"english\") \n"
   ]
  },
  {
   "cell_type": "markdown",
   "metadata": {},
   "source": [
    "Las palabras stopwords son articulos y pronombres que en este analisis no me importan. Podrían ser interesantes para estudiar sesgo de genero y analizar PMI (point, mutal information) respecto a los vectores asociados a generos como pronombres en relacion a estereotipos"
   ]
  },
  {
   "cell_type": "code",
   "execution_count": 86,
   "metadata": {},
   "outputs": [
    {
     "data": {
      "text/plain": [
       "['me', 'my', 'myself', 'we', 'our', 'ours', 'ourselves', 'you', \"you're\"]"
      ]
     },
     "execution_count": 86,
     "metadata": {},
     "output_type": "execute_result"
    }
   ],
   "source": [
    "english_stopwords[1:10]"
   ]
  },
  {
   "cell_type": "code",
   "execution_count": 87,
   "metadata": {},
   "outputs": [],
   "source": [
    "stop= [w for w in english_stopwords]"
   ]
  },
  {
   "cell_type": "code",
   "execution_count": 88,
   "metadata": {},
   "outputs": [
    {
     "name": "stderr",
     "output_type": "stream",
     "text": [
      "C:\\Users\\fede_\\Anaconda3\\lib\\site-packages\\ipykernel_launcher.py:5: SettingWithCopyWarning: \n",
      "A value is trying to be set on a copy of a slice from a DataFrame\n",
      "\n",
      "See the caveats in the documentation: http://pandas.pydata.org/pandas-docs/stable/user_guide/indexing.html#returning-a-view-versus-a-copy\n",
      "  \"\"\"\n"
     ]
    }
   ],
   "source": [
    "for i in range(0, len(movies)):\n",
    "    tokens = word_tokenize(movies.tokens[i],language=\"english\")\n",
    "    palabras = [token.lower() for token in tokens if token.lower() not in stop and token.isalpha()]\n",
    "    string= TreebankWordDetokenizer().detokenize(palabras)\n",
    "    movies['tokens'][i] = string\n"
   ]
  },
  {
   "cell_type": "code",
   "execution_count": 89,
   "metadata": {},
   "outputs": [
    {
     "data": {
      "text/html": [
       "<div>\n",
       "<style scoped>\n",
       "    .dataframe tbody tr th:only-of-type {\n",
       "        vertical-align: middle;\n",
       "    }\n",
       "\n",
       "    .dataframe tbody tr th {\n",
       "        vertical-align: top;\n",
       "    }\n",
       "\n",
       "    .dataframe thead th {\n",
       "        text-align: right;\n",
       "    }\n",
       "</style>\n",
       "<table border=\"1\" class=\"dataframe\">\n",
       "  <thead>\n",
       "    <tr style=\"text-align: right;\">\n",
       "      <th></th>\n",
       "      <th>0</th>\n",
       "      <th>1</th>\n",
       "      <th>2</th>\n",
       "      <th>3</th>\n",
       "      <th>4</th>\n",
       "    </tr>\n",
       "  </thead>\n",
       "  <tbody>\n",
       "    <tr>\n",
       "      <td>id</td>\n",
       "      <td>135397</td>\n",
       "      <td>76341</td>\n",
       "      <td>262500</td>\n",
       "      <td>140607</td>\n",
       "      <td>168259</td>\n",
       "    </tr>\n",
       "    <tr>\n",
       "      <td>imdb_id</td>\n",
       "      <td>tt0369610</td>\n",
       "      <td>tt1392190</td>\n",
       "      <td>tt2908446</td>\n",
       "      <td>tt2488496</td>\n",
       "      <td>tt2820852</td>\n",
       "    </tr>\n",
       "    <tr>\n",
       "      <td>popularity</td>\n",
       "      <td>32.9858</td>\n",
       "      <td>28.4199</td>\n",
       "      <td>13.1125</td>\n",
       "      <td>11.1731</td>\n",
       "      <td>9.33501</td>\n",
       "    </tr>\n",
       "    <tr>\n",
       "      <td>original_title</td>\n",
       "      <td>Jurassic World</td>\n",
       "      <td>Mad Max: Fury Road</td>\n",
       "      <td>Insurgent</td>\n",
       "      <td>Star Wars: The Force Awakens</td>\n",
       "      <td>Furious 7</td>\n",
       "    </tr>\n",
       "    <tr>\n",
       "      <td>keywords</td>\n",
       "      <td>monster|dna|tyrannosaurus rex|velociraptor|island</td>\n",
       "      <td>future|chase|post-apocalyptic|dystopia|australia</td>\n",
       "      <td>based on novel|revolution|dystopia|sequel|dyst...</td>\n",
       "      <td>android|spaceship|jedi|space opera|3d</td>\n",
       "      <td>car race|speed|revenge|suspense|car</td>\n",
       "    </tr>\n",
       "    <tr>\n",
       "      <td>overview</td>\n",
       "      <td>Twenty-two years after the events of Jurassic ...</td>\n",
       "      <td>An apocalyptic story set in the furthest reach...</td>\n",
       "      <td>Beatrice Prior must confront her inner demons ...</td>\n",
       "      <td>Thirty years after defeating the Galactic Empi...</td>\n",
       "      <td>Deckard Shaw seeks revenge against Dominic Tor...</td>\n",
       "    </tr>\n",
       "    <tr>\n",
       "      <td>runtime</td>\n",
       "      <td>124</td>\n",
       "      <td>120</td>\n",
       "      <td>119</td>\n",
       "      <td>136</td>\n",
       "      <td>137</td>\n",
       "    </tr>\n",
       "    <tr>\n",
       "      <td>vote_count</td>\n",
       "      <td>5562</td>\n",
       "      <td>6185</td>\n",
       "      <td>2480</td>\n",
       "      <td>5292</td>\n",
       "      <td>2947</td>\n",
       "    </tr>\n",
       "    <tr>\n",
       "      <td>vote_average</td>\n",
       "      <td>6.5</td>\n",
       "      <td>7.1</td>\n",
       "      <td>6.3</td>\n",
       "      <td>7.5</td>\n",
       "      <td>7.3</td>\n",
       "    </tr>\n",
       "    <tr>\n",
       "      <td>log_revenue</td>\n",
       "      <td>21.1377</td>\n",
       "      <td>19.7516</td>\n",
       "      <td>19.5033</td>\n",
       "      <td>21.4499</td>\n",
       "      <td>21.1329</td>\n",
       "    </tr>\n",
       "    <tr>\n",
       "      <td>log_budget</td>\n",
       "      <td>18.8261</td>\n",
       "      <td>18.8261</td>\n",
       "      <td>18.516</td>\n",
       "      <td>19.1138</td>\n",
       "      <td>19.0625</td>\n",
       "    </tr>\n",
       "    <tr>\n",
       "      <td>genre0</td>\n",
       "      <td>Action</td>\n",
       "      <td>Action</td>\n",
       "      <td>Adventure</td>\n",
       "      <td>Action</td>\n",
       "      <td>Action</td>\n",
       "    </tr>\n",
       "    <tr>\n",
       "      <td>genre1</td>\n",
       "      <td>Adventure</td>\n",
       "      <td>Adventure</td>\n",
       "      <td>Science Fiction</td>\n",
       "      <td>Adventure</td>\n",
       "      <td>Crime</td>\n",
       "    </tr>\n",
       "    <tr>\n",
       "      <td>genre2</td>\n",
       "      <td>Science Fiction</td>\n",
       "      <td>Science Fiction</td>\n",
       "      <td>Thriller</td>\n",
       "      <td>Science Fiction</td>\n",
       "      <td>Thriller</td>\n",
       "    </tr>\n",
       "    <tr>\n",
       "      <td>year</td>\n",
       "      <td>2015</td>\n",
       "      <td>2015</td>\n",
       "      <td>2015</td>\n",
       "      <td>2015</td>\n",
       "      <td>2015</td>\n",
       "    </tr>\n",
       "    <tr>\n",
       "      <td>texto_limpio</td>\n",
       "      <td>[monster, dna, tyrannosaurus rex, velociraptor...</td>\n",
       "      <td>[future, chase, post-apocalyptic, dystopia, au...</td>\n",
       "      <td>[based on novel, revolution, dystopia, sequel,...</td>\n",
       "      <td>[android, spaceship, jedi, space opera, 3d]</td>\n",
       "      <td>[car race, speed, revenge, suspense, car]</td>\n",
       "    </tr>\n",
       "    <tr>\n",
       "      <td>tokens</td>\n",
       "      <td>monster dna tyrannosaurus rex velociraptor island</td>\n",
       "      <td>future chase dystopia australia</td>\n",
       "      <td>based novel revolution dystopia sequel dystopi...</td>\n",
       "      <td>android spaceship jedi space opera</td>\n",
       "      <td>car race speed revenge suspense car</td>\n",
       "    </tr>\n",
       "  </tbody>\n",
       "</table>\n",
       "</div>"
      ],
      "text/plain": [
       "                                                                0  \\\n",
       "id                                                         135397   \n",
       "imdb_id                                                 tt0369610   \n",
       "popularity                                                32.9858   \n",
       "original_title                                     Jurassic World   \n",
       "keywords        monster|dna|tyrannosaurus rex|velociraptor|island   \n",
       "overview        Twenty-two years after the events of Jurassic ...   \n",
       "runtime                                                       124   \n",
       "vote_count                                                   5562   \n",
       "vote_average                                                  6.5   \n",
       "log_revenue                                               21.1377   \n",
       "log_budget                                                18.8261   \n",
       "genre0                                                     Action   \n",
       "genre1                                                  Adventure   \n",
       "genre2                                            Science Fiction   \n",
       "year                                                         2015   \n",
       "texto_limpio    [monster, dna, tyrannosaurus rex, velociraptor...   \n",
       "tokens          monster dna tyrannosaurus rex velociraptor island   \n",
       "\n",
       "                                                                1  \\\n",
       "id                                                          76341   \n",
       "imdb_id                                                 tt1392190   \n",
       "popularity                                                28.4199   \n",
       "original_title                                 Mad Max: Fury Road   \n",
       "keywords         future|chase|post-apocalyptic|dystopia|australia   \n",
       "overview        An apocalyptic story set in the furthest reach...   \n",
       "runtime                                                       120   \n",
       "vote_count                                                   6185   \n",
       "vote_average                                                  7.1   \n",
       "log_revenue                                               19.7516   \n",
       "log_budget                                                18.8261   \n",
       "genre0                                                     Action   \n",
       "genre1                                                  Adventure   \n",
       "genre2                                            Science Fiction   \n",
       "year                                                         2015   \n",
       "texto_limpio    [future, chase, post-apocalyptic, dystopia, au...   \n",
       "tokens                            future chase dystopia australia   \n",
       "\n",
       "                                                                2  \\\n",
       "id                                                         262500   \n",
       "imdb_id                                                 tt2908446   \n",
       "popularity                                                13.1125   \n",
       "original_title                                          Insurgent   \n",
       "keywords        based on novel|revolution|dystopia|sequel|dyst...   \n",
       "overview        Beatrice Prior must confront her inner demons ...   \n",
       "runtime                                                       119   \n",
       "vote_count                                                   2480   \n",
       "vote_average                                                  6.3   \n",
       "log_revenue                                               19.5033   \n",
       "log_budget                                                 18.516   \n",
       "genre0                                                  Adventure   \n",
       "genre1                                            Science Fiction   \n",
       "genre2                                                   Thriller   \n",
       "year                                                         2015   \n",
       "texto_limpio    [based on novel, revolution, dystopia, sequel,...   \n",
       "tokens          based novel revolution dystopia sequel dystopi...   \n",
       "\n",
       "                                                                3  \\\n",
       "id                                                         140607   \n",
       "imdb_id                                                 tt2488496   \n",
       "popularity                                                11.1731   \n",
       "original_title                       Star Wars: The Force Awakens   \n",
       "keywords                    android|spaceship|jedi|space opera|3d   \n",
       "overview        Thirty years after defeating the Galactic Empi...   \n",
       "runtime                                                       136   \n",
       "vote_count                                                   5292   \n",
       "vote_average                                                  7.5   \n",
       "log_revenue                                               21.4499   \n",
       "log_budget                                                19.1138   \n",
       "genre0                                                     Action   \n",
       "genre1                                                  Adventure   \n",
       "genre2                                            Science Fiction   \n",
       "year                                                         2015   \n",
       "texto_limpio          [android, spaceship, jedi, space opera, 3d]   \n",
       "tokens                         android spaceship jedi space opera   \n",
       "\n",
       "                                                                4  \n",
       "id                                                         168259  \n",
       "imdb_id                                                 tt2820852  \n",
       "popularity                                                9.33501  \n",
       "original_title                                          Furious 7  \n",
       "keywords                      car race|speed|revenge|suspense|car  \n",
       "overview        Deckard Shaw seeks revenge against Dominic Tor...  \n",
       "runtime                                                       137  \n",
       "vote_count                                                   2947  \n",
       "vote_average                                                  7.3  \n",
       "log_revenue                                               21.1329  \n",
       "log_budget                                                19.0625  \n",
       "genre0                                                     Action  \n",
       "genre1                                                      Crime  \n",
       "genre2                                                   Thriller  \n",
       "year                                                         2015  \n",
       "texto_limpio            [car race, speed, revenge, suspense, car]  \n",
       "tokens                        car race speed revenge suspense car  "
      ]
     },
     "execution_count": 89,
     "metadata": {},
     "output_type": "execute_result"
    }
   ],
   "source": [
    "movies.head().T  "
   ]
  },
  {
   "cell_type": "code",
   "execution_count": 90,
   "metadata": {},
   "outputs": [
    {
     "data": {
      "text/html": [
       "\n",
       "    <style>\n",
       "    table.eli5-weights tr:hover {\n",
       "        filter: brightness(85%);\n",
       "    }\n",
       "</style>\n",
       "\n",
       "\n",
       "\n",
       "    \n",
       "\n",
       "    \n",
       "\n",
       "    \n",
       "\n",
       "    \n",
       "\n",
       "    \n",
       "\n",
       "    \n",
       "\n",
       "\n",
       "    \n",
       "\n",
       "    \n",
       "\n",
       "    \n",
       "\n",
       "    \n",
       "        \n",
       "\n",
       "    \n",
       "\n",
       "        \n",
       "            \n",
       "                \n",
       "                \n",
       "    \n",
       "        <p style=\"margin-bottom: 0.5em; margin-top: 0em\">\n",
       "            <b>\n",
       "    \n",
       "        y\n",
       "    \n",
       "</b>\n",
       "\n",
       "top features\n",
       "        </p>\n",
       "    \n",
       "    <table class=\"eli5-weights\"\n",
       "           style=\"border-collapse: collapse; border: none; margin-top: 0em; table-layout: auto; margin-bottom: 2em;\">\n",
       "        <thead>\n",
       "        <tr style=\"border: none;\">\n",
       "            \n",
       "                <th style=\"padding: 0 1em 0 0.5em; text-align: right; border: none;\" title=\"Feature weights. Note that weights do not account for feature value scales, so if feature values have different scales, features with highest weights might not be the most important.\">\n",
       "                    Weight<sup>?</sup>\n",
       "                </th>\n",
       "            \n",
       "            <th style=\"padding: 0 0.5em 0 0.5em; text-align: left; border: none;\">Feature</th>\n",
       "            \n",
       "        </tr>\n",
       "        </thead>\n",
       "        <tbody>\n",
       "        \n",
       "            <tr style=\"background-color: hsl(120, 100.00%, 80.00%); border: none;\">\n",
       "    <td style=\"padding: 0 1em 0 0.5em; text-align: right; border: none;\">\n",
       "        +55.437\n",
       "    </td>\n",
       "    <td style=\"padding: 0 0.5em 0 0.5em; text-align: left; border: none;\">\n",
       "        prisoners\n",
       "    </td>\n",
       "    \n",
       "</tr>\n",
       "        \n",
       "            <tr style=\"background-color: hsl(120, 100.00%, 80.38%); border: none;\">\n",
       "    <td style=\"padding: 0 1em 0 0.5em; text-align: right; border: none;\">\n",
       "        +53.937\n",
       "    </td>\n",
       "    <td style=\"padding: 0 0.5em 0 0.5em; text-align: left; border: none;\">\n",
       "        orcs tolkien\n",
       "    </td>\n",
       "    \n",
       "</tr>\n",
       "        \n",
       "            <tr style=\"background-color: hsl(120, 100.00%, 82.05%); border: none;\">\n",
       "    <td style=\"padding: 0 1em 0 0.5em; text-align: right; border: none;\">\n",
       "        +47.498\n",
       "    </td>\n",
       "    <td style=\"padding: 0 0.5em 0 0.5em; text-align: left; border: none;\">\n",
       "        name title\n",
       "    </td>\n",
       "    \n",
       "</tr>\n",
       "        \n",
       "            <tr style=\"background-color: hsl(120, 100.00%, 82.20%); border: none;\">\n",
       "    <td style=\"padding: 0 1em 0 0.5em; text-align: right; border: none;\">\n",
       "        +46.941\n",
       "    </td>\n",
       "    <td style=\"padding: 0 0.5em 0 0.5em; text-align: left; border: none;\">\n",
       "        climate\n",
       "    </td>\n",
       "    \n",
       "</tr>\n",
       "        \n",
       "            <tr style=\"background-color: hsl(120, 100.00%, 82.29%); border: none;\">\n",
       "    <td style=\"padding: 0 1em 0 0.5em; text-align: right; border: none;\">\n",
       "        +46.594\n",
       "    </td>\n",
       "    <td style=\"padding: 0 0.5em 0 0.5em; text-align: left; border: none;\">\n",
       "        falling love\n",
       "    </td>\n",
       "    \n",
       "</tr>\n",
       "        \n",
       "            <tr style=\"background-color: hsl(120, 100.00%, 82.55%); border: none;\">\n",
       "    <td style=\"padding: 0 1em 0 0.5em; text-align: right; border: none;\">\n",
       "        +45.613\n",
       "    </td>\n",
       "    <td style=\"padding: 0 0.5em 0 0.5em; text-align: left; border: none;\">\n",
       "        mother role\n",
       "    </td>\n",
       "    \n",
       "</tr>\n",
       "        \n",
       "            <tr style=\"background-color: hsl(120, 100.00%, 82.81%); border: none;\">\n",
       "    <td style=\"padding: 0 1em 0 0.5em; text-align: right; border: none;\">\n",
       "        +44.657\n",
       "    </td>\n",
       "    <td style=\"padding: 0 0.5em 0 0.5em; text-align: left; border: none;\">\n",
       "        elves dwarves\n",
       "    </td>\n",
       "    \n",
       "</tr>\n",
       "        \n",
       "            <tr style=\"background-color: hsl(120, 100.00%, 82.99%); border: none;\">\n",
       "    <td style=\"padding: 0 1em 0 0.5em; text-align: right; border: none;\">\n",
       "        +43.974\n",
       "    </td>\n",
       "    <td style=\"padding: 0 0.5em 0 0.5em; text-align: left; border: none;\">\n",
       "        adaptation\n",
       "    </td>\n",
       "    \n",
       "</tr>\n",
       "        \n",
       "            <tr style=\"background-color: hsl(120, 100.00%, 83.48%); border: none;\">\n",
       "    <td style=\"padding: 0 1em 0 0.5em; text-align: right; border: none;\">\n",
       "        +42.172\n",
       "    </td>\n",
       "    <td style=\"padding: 0 0.5em 0 0.5em; text-align: left; border: none;\">\n",
       "        experiment human\n",
       "    </td>\n",
       "    \n",
       "</tr>\n",
       "        \n",
       "            <tr style=\"background-color: hsl(120, 100.00%, 83.54%); border: none;\">\n",
       "    <td style=\"padding: 0 1em 0 0.5em; text-align: right; border: none;\">\n",
       "        +41.953\n",
       "    </td>\n",
       "    <td style=\"padding: 0 0.5em 0 0.5em; text-align: left; border: none;\">\n",
       "        civil rights\n",
       "    </td>\n",
       "    \n",
       "</tr>\n",
       "        \n",
       "            <tr style=\"background-color: hsl(120, 100.00%, 83.68%); border: none;\">\n",
       "    <td style=\"padding: 0 1em 0 0.5em; text-align: right; border: none;\">\n",
       "        +41.472\n",
       "    </td>\n",
       "    <td style=\"padding: 0 0.5em 0 0.5em; text-align: left; border: none;\">\n",
       "        hunting human\n",
       "    </td>\n",
       "    \n",
       "</tr>\n",
       "        \n",
       "            <tr style=\"background-color: hsl(120, 100.00%, 83.89%); border: none;\">\n",
       "    <td style=\"padding: 0 1em 0 0.5em; text-align: right; border: none;\">\n",
       "        +40.701\n",
       "    </td>\n",
       "    <td style=\"padding: 0 0.5em 0 0.5em; text-align: left; border: none;\">\n",
       "        cutting\n",
       "    </td>\n",
       "    \n",
       "</tr>\n",
       "        \n",
       "        \n",
       "            <tr style=\"background-color: hsl(120, 100.00%, 83.89%); border: none;\">\n",
       "                <td colspan=\"2\" style=\"padding: 0 0.5em 0 0.5em; text-align: center; border: none; white-space: nowrap;\">\n",
       "                    <i>&hellip; 1731 more positive &hellip;</i>\n",
       "                </td>\n",
       "            </tr>\n",
       "        \n",
       "\n",
       "        \n",
       "            <tr style=\"background-color: hsl(0, 100.00%, 83.94%); border: none;\">\n",
       "                <td colspan=\"2\" style=\"padding: 0 0.5em 0 0.5em; text-align: center; border: none; white-space: nowrap;\">\n",
       "                    <i>&hellip; 918 more negative &hellip;</i>\n",
       "                </td>\n",
       "            </tr>\n",
       "        \n",
       "        \n",
       "            <tr style=\"background-color: hsl(0, 100.00%, 83.94%); border: none;\">\n",
       "    <td style=\"padding: 0 1em 0 0.5em; text-align: right; border: none;\">\n",
       "        -40.530\n",
       "    </td>\n",
       "    <td style=\"padding: 0 0.5em 0 0.5em; text-align: left; border: none;\">\n",
       "        liberation prisoners\n",
       "    </td>\n",
       "    \n",
       "</tr>\n",
       "        \n",
       "            <tr style=\"background-color: hsl(0, 100.00%, 83.65%); border: none;\">\n",
       "    <td style=\"padding: 0 1em 0 0.5em; text-align: right; border: none;\">\n",
       "        -41.570\n",
       "    </td>\n",
       "    <td style=\"padding: 0 0.5em 0 0.5em; text-align: left; border: none;\">\n",
       "        blow job\n",
       "    </td>\n",
       "    \n",
       "</tr>\n",
       "        \n",
       "            <tr style=\"background-color: hsl(0, 100.00%, 83.65%); border: none;\">\n",
       "    <td style=\"padding: 0 1em 0 0.5em; text-align: right; border: none;\">\n",
       "        -41.570\n",
       "    </td>\n",
       "    <td style=\"padding: 0 0.5em 0 0.5em; text-align: left; border: none;\">\n",
       "        based childrens\n",
       "    </td>\n",
       "    \n",
       "</tr>\n",
       "        \n",
       "            <tr style=\"background-color: hsl(0, 100.00%, 83.62%); border: none;\">\n",
       "    <td style=\"padding: 0 1em 0 0.5em; text-align: right; border: none;\">\n",
       "        -41.684\n",
       "    </td>\n",
       "    <td style=\"padding: 0 0.5em 0 0.5em; text-align: left; border: none;\">\n",
       "        climate change\n",
       "    </td>\n",
       "    \n",
       "</tr>\n",
       "        \n",
       "            <tr style=\"background-color: hsl(0, 100.00%, 82.94%); border: none;\">\n",
       "    <td style=\"padding: 0 1em 0 0.5em; text-align: right; border: none;\">\n",
       "        -44.176\n",
       "    </td>\n",
       "    <td style=\"padding: 0 0.5em 0 0.5em; text-align: left; border: none;\">\n",
       "        stone age\n",
       "    </td>\n",
       "    \n",
       "</tr>\n",
       "        \n",
       "            <tr style=\"background-color: hsl(0, 100.00%, 81.26%); border: none;\">\n",
       "    <td style=\"padding: 0 1em 0 0.5em; text-align: right; border: none;\">\n",
       "        -50.524\n",
       "    </td>\n",
       "    <td style=\"padding: 0 0.5em 0 0.5em; text-align: left; border: none;\">\n",
       "        shakespeare adaptation\n",
       "    </td>\n",
       "    \n",
       "</tr>\n",
       "        \n",
       "            <tr style=\"background-color: hsl(0, 100.00%, 81.01%); border: none;\">\n",
       "    <td style=\"padding: 0 1em 0 0.5em; text-align: right; border: none;\">\n",
       "        -51.475\n",
       "    </td>\n",
       "    <td style=\"padding: 0 0.5em 0 0.5em; text-align: left; border: none;\">\n",
       "        deep sea\n",
       "    </td>\n",
       "    \n",
       "</tr>\n",
       "        \n",
       "            <tr style=\"background-color: hsl(0, 100.00%, 80.69%); border: none;\">\n",
       "    <td style=\"padding: 0 1em 0 0.5em; text-align: right; border: none;\">\n",
       "        -52.727\n",
       "    </td>\n",
       "    <td style=\"padding: 0 0.5em 0 0.5em; text-align: left; border: none;\">\n",
       "        disney\n",
       "    </td>\n",
       "    \n",
       "</tr>\n",
       "        \n",
       "\n",
       "        </tbody>\n",
       "    </table>\n",
       "\n",
       "            \n",
       "        \n",
       "\n",
       "        \n",
       "\n",
       "\n",
       "\n",
       "    \n",
       "\n",
       "    \n",
       "\n",
       "    \n",
       "\n",
       "    \n",
       "\n",
       "\n",
       "    \n",
       "\n",
       "    \n",
       "\n",
       "    \n",
       "\n",
       "    \n",
       "\n",
       "    \n",
       "\n",
       "    \n",
       "\n",
       "\n",
       "    \n",
       "\n",
       "    \n",
       "\n",
       "    \n",
       "\n",
       "    \n",
       "\n",
       "    \n",
       "\n",
       "    \n",
       "\n",
       "\n",
       "\n"
      ],
      "text/plain": [
       "<IPython.core.display.HTML object>"
      ]
     },
     "execution_count": 90,
     "metadata": {},
     "output_type": "execute_result"
    }
   ],
   "source": [
    "vectorizer = TfidfVectorizer(\n",
    "            sublinear_tf=True,\n",
    "            analyzer='word',\n",
    "            token_pattern=r'\\w{1,}',\n",
    "            ngram_range=(1, 2),\n",
    "            min_df=5)\n",
    "\n",
    "overview_text = vectorizer.fit_transform(movies['tokens'].fillna(''))\n",
    "linreg = LinearRegression()\n",
    "linreg.fit(overview_text, movies['log_revenue'])\n",
    "eli5.show_weights(linreg, vec=vectorizer, top=20, feature_filter=lambda x: x != '<BIAS>')"
   ]
  },
  {
   "cell_type": "markdown",
   "metadata": {},
   "source": [
    "Algunas palabras pueden ser utilizadas para predecir el revenue, pero para construir un buen modelo sería mejor utilzar la columna entera de overviewed"
   ]
  },
  {
   "cell_type": "code",
   "execution_count": 91,
   "metadata": {},
   "outputs": [
    {
     "name": "stdout",
     "output_type": "stream",
     "text": [
      "Target value: 20.59619877401982\n"
     ]
    },
    {
     "data": {
      "text/html": [
       "\n",
       "    <style>\n",
       "    table.eli5-weights tr:hover {\n",
       "        filter: brightness(85%);\n",
       "    }\n",
       "</style>\n",
       "\n",
       "\n",
       "\n",
       "    \n",
       "\n",
       "    \n",
       "\n",
       "    \n",
       "\n",
       "    \n",
       "\n",
       "    \n",
       "\n",
       "    \n",
       "\n",
       "\n",
       "    \n",
       "\n",
       "    \n",
       "\n",
       "    \n",
       "\n",
       "    \n",
       "        \n",
       "\n",
       "    \n",
       "\n",
       "        \n",
       "\n",
       "        \n",
       "    \n",
       "        \n",
       "        \n",
       "    \n",
       "        <p style=\"margin-bottom: 0.5em; margin-top: 0em\">\n",
       "            <b>\n",
       "    \n",
       "        y\n",
       "    \n",
       "</b>\n",
       "\n",
       "    \n",
       "    (score <b>2.295</b>)\n",
       "\n",
       "top features\n",
       "        </p>\n",
       "    \n",
       "    <table class=\"eli5-weights\"\n",
       "           style=\"border-collapse: collapse; border: none; margin-top: 0em; table-layout: auto; margin-bottom: 2em;\">\n",
       "        <thead>\n",
       "        <tr style=\"border: none;\">\n",
       "            \n",
       "                <th style=\"padding: 0 1em 0 0.5em; text-align: right; border: none;\" title=\"Feature contribution already accounts for the feature value (for linear models, contribution = weight * feature value), and the sum of feature contributions is equal to the score or, for some classifiers, to the probability. Feature values are shown if &quot;show_feature_values&quot; is True.\">\n",
       "                    Contribution<sup>?</sup>\n",
       "                </th>\n",
       "            \n",
       "            <th style=\"padding: 0 0.5em 0 0.5em; text-align: left; border: none;\">Feature</th>\n",
       "            \n",
       "        </tr>\n",
       "        </thead>\n",
       "        <tbody>\n",
       "        \n",
       "            <tr style=\"background-color: hsl(120, 100.00%, 80.00%); border: none;\">\n",
       "    <td style=\"padding: 0 1em 0 0.5em; text-align: right; border: none;\">\n",
       "        +2.569\n",
       "    </td>\n",
       "    <td style=\"padding: 0 0.5em 0 0.5em; text-align: left; border: none;\">\n",
       "        &lt;BIAS&gt;\n",
       "    </td>\n",
       "    \n",
       "</tr>\n",
       "        \n",
       "        \n",
       "\n",
       "        \n",
       "        \n",
       "            <tr style=\"background-color: hsl(0, 100.00%, 95.82%); border: none;\">\n",
       "    <td style=\"padding: 0 1em 0 0.5em; text-align: right; border: none;\">\n",
       "        -0.274\n",
       "    </td>\n",
       "    <td style=\"padding: 0 0.5em 0 0.5em; text-align: left; border: none;\">\n",
       "        Highlighted in text (sum)\n",
       "    </td>\n",
       "    \n",
       "</tr>\n",
       "        \n",
       "\n",
       "        </tbody>\n",
       "    </table>\n",
       "\n",
       "    \n",
       "\n",
       "\n",
       "\n",
       "    <p style=\"margin-bottom: 2.5em; margin-top:-0.5em;\">\n",
       "        <span style=\"background-color: hsl(0, 100.00%, 60.00%); opacity: 1.00\" title=\"-0.274\">nan</span>\n",
       "    </p>\n",
       "\n",
       "\n",
       "    \n",
       "\n",
       "    \n",
       "\n",
       "    \n",
       "\n",
       "    \n",
       "\n",
       "\n",
       "    \n",
       "\n",
       "    \n",
       "\n",
       "    \n",
       "\n",
       "    \n",
       "\n",
       "    \n",
       "\n",
       "    \n",
       "\n",
       "\n",
       "    \n",
       "\n",
       "    \n",
       "\n",
       "    \n",
       "\n",
       "    \n",
       "\n",
       "    \n",
       "\n",
       "    \n",
       "\n",
       "\n",
       "\n"
      ],
      "text/plain": [
       "<IPython.core.display.HTML object>"
      ]
     },
     "execution_count": 91,
     "metadata": {},
     "output_type": "execute_result"
    }
   ],
   "source": [
    "print('Target value:', movies['log_revenue'][10])\n",
    "eli5.show_prediction(linreg, doc=movies['tokens'].values[1000], vec=vectorizer)"
   ]
  },
  {
   "cell_type": "markdown",
   "metadata": {},
   "source": [
    "El trabajo a plantear sería el siguiente. Sumarle las variables transformadas por su peso en el total de los documentos (transformacion TF-IDF) y crear variables para predecir la relación entre uso de palabras y revenue o en el caso de que ya nos planteamos utilizariamos ROI. \n",
    "\n",
    "Un enfoque computacionalmente caro sería utilizar cada palabra cómo columna y predecir en función de cada palabras. Otro enfoque posible es poder crear más feature, tanto analizando el TAG, el Overview o el mismo el título para entender las relaciones que pueden haber de similaridad semantica a la hora de generar mayor revenue. A ideas simples, podríamos preguntarnos si es mejor un título de 3 palabras, de 2 o de 1. Si ese título tiene que tener entidades, articulos y que sentimientos (neutro, negativo o positivo) deberíamos evocar para tener más probabilidad de aumentar nuestro revenue.\n",
    "\n",
    "Este analisis es analogo a cualquiera de las variables de texto.\n",
    "\n",
    "En mi caso tengo experiencia en utilizar words embeddings pre entrenados con wikipedia o google news, y por la cual podríamos clusterecir a las peliculas con mayor Revenue en relación a esos embeddigns pre entrenados. ¿Habrá alguna correspondencia entre las distancias de significado hacia un concepto y el revenue? \n"
   ]
  },
  {
   "cell_type": "markdown",
   "metadata": {},
   "source": [
    "**Palabras finales**\n",
    "\n",
    "En esta instancia de Evaluación se realizo una profunda exploración de los datos, se implemento una regresión simple, luego se le agregaron varias Dummies y por último se intento probar una implementación de NLP para evaluar el peso de las palabras TAGS en relación al Revenu."
   ]
  },
  {
   "cell_type": "markdown",
   "metadata": {},
   "source": [
    "* **Autor**: Federico Nicolás Moreno \n",
    "* **Mail**: federicomoreno613@gmail.com \n",
    "* **celular** 1167626290 "
   ]
  }
 ],
 "metadata": {
  "kernelspec": {
   "display_name": "Python 3.7.4 64-bit ('base': conda)",
   "language": "python",
   "name": "python37464bitbaseconda5fa3af85e46747deaff17a871fc6b3f8"
  },
  "language_info": {
   "codemirror_mode": {
    "name": "ipython",
    "version": 3
   },
   "file_extension": ".py",
   "mimetype": "text/x-python",
   "name": "python",
   "nbconvert_exporter": "python",
   "pygments_lexer": "ipython3",
   "version": "3.7.4"
  }
 },
 "nbformat": 4,
 "nbformat_minor": 4
}
